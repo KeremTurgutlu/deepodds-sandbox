{
 "cells": [
  {
   "cell_type": "code",
   "execution_count": 63,
   "metadata": {},
   "outputs": [],
   "source": [
    "%matplotlib inline\n",
    "\n",
    "import pandas as pd\n",
    "import numpy as np\n",
    "import matplotlib.pyplot as plt\n",
    "import sys"
   ]
  },
  {
   "cell_type": "code",
   "execution_count": 64,
   "metadata": {},
   "outputs": [],
   "source": [
    "sys.path.append('../../fastai/')"
   ]
  },
  {
   "cell_type": "code",
   "execution_count": 65,
   "metadata": {},
   "outputs": [],
   "source": [
    "from fastai.structured import *\n",
    "from fastai.column_data import *"
   ]
  },
  {
   "cell_type": "code",
   "execution_count": 113,
   "metadata": {},
   "outputs": [],
   "source": [
    "from sklearn.metrics import roc_auc_score\n",
    "from sklearn.model_selection import StratifiedShuffleSplit, StratifiedKFold\n",
    "from sklearn.ensemble import RandomForestClassifier"
   ]
  },
  {
   "cell_type": "code",
   "execution_count": 18,
   "metadata": {},
   "outputs": [],
   "source": [
    "def col_nunique(df): return {c: df[c].nunique() for c in df.columns} # get number of unique elements\n",
    "def col_nas(df): return ({c:df[c].isnull().sum() for c in df.columns}) # get number of NAs"
   ]
  },
  {
   "cell_type": "code",
   "execution_count": 29,
   "metadata": {},
   "outputs": [],
   "source": [
    "train = pd.read_csv('./train.csv')\n",
    "test = pd.read_csv('./test.csv')"
   ]
  },
  {
   "cell_type": "code",
   "execution_count": 30,
   "metadata": {},
   "outputs": [
    {
     "data": {
      "text/html": [
       "<div>\n",
       "<table border=\"1\" class=\"dataframe\">\n",
       "  <thead>\n",
       "    <tr style=\"text-align: right;\">\n",
       "      <th></th>\n",
       "      <th>id</th>\n",
       "      <th>gender</th>\n",
       "      <th>age</th>\n",
       "      <th>hypertension</th>\n",
       "      <th>heart_disease</th>\n",
       "      <th>ever_married</th>\n",
       "      <th>work_type</th>\n",
       "      <th>Residence_type</th>\n",
       "      <th>avg_glucose_level</th>\n",
       "      <th>bmi</th>\n",
       "      <th>smoking_status</th>\n",
       "    </tr>\n",
       "  </thead>\n",
       "  <tbody>\n",
       "    <tr>\n",
       "      <th>0</th>\n",
       "      <td>36306</td>\n",
       "      <td>Male</td>\n",
       "      <td>80.0</td>\n",
       "      <td>0</td>\n",
       "      <td>0</td>\n",
       "      <td>Yes</td>\n",
       "      <td>Private</td>\n",
       "      <td>Urban</td>\n",
       "      <td>83.84</td>\n",
       "      <td>21.1</td>\n",
       "      <td>formerly smoked</td>\n",
       "    </tr>\n",
       "    <tr>\n",
       "      <th>1</th>\n",
       "      <td>61829</td>\n",
       "      <td>Female</td>\n",
       "      <td>74.0</td>\n",
       "      <td>0</td>\n",
       "      <td>1</td>\n",
       "      <td>Yes</td>\n",
       "      <td>Self-employed</td>\n",
       "      <td>Rural</td>\n",
       "      <td>179.50</td>\n",
       "      <td>26.0</td>\n",
       "      <td>formerly smoked</td>\n",
       "    </tr>\n",
       "    <tr>\n",
       "      <th>2</th>\n",
       "      <td>14152</td>\n",
       "      <td>Female</td>\n",
       "      <td>14.0</td>\n",
       "      <td>0</td>\n",
       "      <td>0</td>\n",
       "      <td>No</td>\n",
       "      <td>children</td>\n",
       "      <td>Rural</td>\n",
       "      <td>95.16</td>\n",
       "      <td>21.2</td>\n",
       "      <td>NaN</td>\n",
       "    </tr>\n",
       "    <tr>\n",
       "      <th>3</th>\n",
       "      <td>12997</td>\n",
       "      <td>Male</td>\n",
       "      <td>28.0</td>\n",
       "      <td>0</td>\n",
       "      <td>0</td>\n",
       "      <td>No</td>\n",
       "      <td>Private</td>\n",
       "      <td>Urban</td>\n",
       "      <td>94.76</td>\n",
       "      <td>23.4</td>\n",
       "      <td>NaN</td>\n",
       "    </tr>\n",
       "    <tr>\n",
       "      <th>4</th>\n",
       "      <td>40801</td>\n",
       "      <td>Female</td>\n",
       "      <td>63.0</td>\n",
       "      <td>0</td>\n",
       "      <td>0</td>\n",
       "      <td>Yes</td>\n",
       "      <td>Govt_job</td>\n",
       "      <td>Rural</td>\n",
       "      <td>83.57</td>\n",
       "      <td>27.6</td>\n",
       "      <td>never smoked</td>\n",
       "    </tr>\n",
       "  </tbody>\n",
       "</table>\n",
       "</div>"
      ],
      "text/plain": [
       "      id  gender   age  hypertension  heart_disease ever_married  \\\n",
       "0  36306    Male  80.0             0              0          Yes   \n",
       "1  61829  Female  74.0             0              1          Yes   \n",
       "2  14152  Female  14.0             0              0           No   \n",
       "3  12997    Male  28.0             0              0           No   \n",
       "4  40801  Female  63.0             0              0          Yes   \n",
       "\n",
       "       work_type Residence_type  avg_glucose_level   bmi   smoking_status  \n",
       "0        Private          Urban              83.84  21.1  formerly smoked  \n",
       "1  Self-employed          Rural             179.50  26.0  formerly smoked  \n",
       "2       children          Rural              95.16  21.2              NaN  \n",
       "3        Private          Urban              94.76  23.4              NaN  \n",
       "4       Govt_job          Rural              83.57  27.6     never smoked  "
      ]
     },
     "execution_count": 30,
     "metadata": {},
     "output_type": "execute_result"
    }
   ],
   "source": [
    "test.head()"
   ]
  },
  {
   "cell_type": "code",
   "execution_count": 20,
   "metadata": {},
   "outputs": [
    {
     "data": {
      "text/html": [
       "<div>\n",
       "<table border=\"1\" class=\"dataframe\">\n",
       "  <thead>\n",
       "    <tr style=\"text-align: right;\">\n",
       "      <th></th>\n",
       "      <th>id</th>\n",
       "      <th>gender</th>\n",
       "      <th>age</th>\n",
       "      <th>hypertension</th>\n",
       "      <th>heart_disease</th>\n",
       "      <th>ever_married</th>\n",
       "      <th>work_type</th>\n",
       "      <th>Residence_type</th>\n",
       "      <th>avg_glucose_level</th>\n",
       "      <th>bmi</th>\n",
       "      <th>smoking_status</th>\n",
       "      <th>stroke</th>\n",
       "    </tr>\n",
       "  </thead>\n",
       "  <tbody>\n",
       "    <tr>\n",
       "      <th>0</th>\n",
       "      <td>30669</td>\n",
       "      <td>Male</td>\n",
       "      <td>3.0</td>\n",
       "      <td>0</td>\n",
       "      <td>0</td>\n",
       "      <td>No</td>\n",
       "      <td>children</td>\n",
       "      <td>Rural</td>\n",
       "      <td>95.12</td>\n",
       "      <td>18.0</td>\n",
       "      <td>NaN</td>\n",
       "      <td>0</td>\n",
       "    </tr>\n",
       "    <tr>\n",
       "      <th>1</th>\n",
       "      <td>30468</td>\n",
       "      <td>Male</td>\n",
       "      <td>58.0</td>\n",
       "      <td>1</td>\n",
       "      <td>0</td>\n",
       "      <td>Yes</td>\n",
       "      <td>Private</td>\n",
       "      <td>Urban</td>\n",
       "      <td>87.96</td>\n",
       "      <td>39.2</td>\n",
       "      <td>never smoked</td>\n",
       "      <td>0</td>\n",
       "    </tr>\n",
       "    <tr>\n",
       "      <th>2</th>\n",
       "      <td>16523</td>\n",
       "      <td>Female</td>\n",
       "      <td>8.0</td>\n",
       "      <td>0</td>\n",
       "      <td>0</td>\n",
       "      <td>No</td>\n",
       "      <td>Private</td>\n",
       "      <td>Urban</td>\n",
       "      <td>110.89</td>\n",
       "      <td>17.6</td>\n",
       "      <td>NaN</td>\n",
       "      <td>0</td>\n",
       "    </tr>\n",
       "    <tr>\n",
       "      <th>3</th>\n",
       "      <td>56543</td>\n",
       "      <td>Female</td>\n",
       "      <td>70.0</td>\n",
       "      <td>0</td>\n",
       "      <td>0</td>\n",
       "      <td>Yes</td>\n",
       "      <td>Private</td>\n",
       "      <td>Rural</td>\n",
       "      <td>69.04</td>\n",
       "      <td>35.9</td>\n",
       "      <td>formerly smoked</td>\n",
       "      <td>0</td>\n",
       "    </tr>\n",
       "    <tr>\n",
       "      <th>4</th>\n",
       "      <td>46136</td>\n",
       "      <td>Male</td>\n",
       "      <td>14.0</td>\n",
       "      <td>0</td>\n",
       "      <td>0</td>\n",
       "      <td>No</td>\n",
       "      <td>Never_worked</td>\n",
       "      <td>Rural</td>\n",
       "      <td>161.28</td>\n",
       "      <td>19.1</td>\n",
       "      <td>NaN</td>\n",
       "      <td>0</td>\n",
       "    </tr>\n",
       "  </tbody>\n",
       "</table>\n",
       "</div>"
      ],
      "text/plain": [
       "      id  gender   age  hypertension  heart_disease ever_married  \\\n",
       "0  30669    Male   3.0             0              0           No   \n",
       "1  30468    Male  58.0             1              0          Yes   \n",
       "2  16523  Female   8.0             0              0           No   \n",
       "3  56543  Female  70.0             0              0          Yes   \n",
       "4  46136    Male  14.0             0              0           No   \n",
       "\n",
       "      work_type Residence_type  avg_glucose_level   bmi   smoking_status  \\\n",
       "0      children          Rural              95.12  18.0              NaN   \n",
       "1       Private          Urban              87.96  39.2     never smoked   \n",
       "2       Private          Urban             110.89  17.6              NaN   \n",
       "3       Private          Rural              69.04  35.9  formerly smoked   \n",
       "4  Never_worked          Rural             161.28  19.1              NaN   \n",
       "\n",
       "   stroke  \n",
       "0       0  \n",
       "1       0  \n",
       "2       0  \n",
       "3       0  \n",
       "4       0  "
      ]
     },
     "execution_count": 20,
     "metadata": {},
     "output_type": "execute_result"
    }
   ],
   "source": [
    "train.head()"
   ]
  },
  {
   "cell_type": "code",
   "execution_count": 46,
   "metadata": {},
   "outputs": [],
   "source": [
    "train.drop('id', inplace=True, axis=1)"
   ]
  },
  {
   "cell_type": "code",
   "execution_count": 47,
   "metadata": {},
   "outputs": [
    {
     "data": {
      "text/plain": [
       "((43400, 11), (18601, 11))"
      ]
     },
     "execution_count": 47,
     "metadata": {},
     "output_type": "execute_result"
    }
   ],
   "source": [
    "train.shape, test.shape"
   ]
  },
  {
   "cell_type": "code",
   "execution_count": 48,
   "metadata": {},
   "outputs": [
    {
     "data": {
      "text/plain": [
       "0.01804147465437788"
      ]
     },
     "execution_count": 48,
     "metadata": {},
     "output_type": "execute_result"
    }
   ],
   "source": [
    "train.stroke.mean()"
   ]
  },
  {
   "cell_type": "code",
   "execution_count": 49,
   "metadata": {},
   "outputs": [
    {
     "data": {
      "text/plain": [
       "{'Residence_type': 2,\n",
       " 'age': 104,\n",
       " 'avg_glucose_level': 12543,\n",
       " 'bmi': 555,\n",
       " 'ever_married': 2,\n",
       " 'gender': 3,\n",
       " 'heart_disease': 2,\n",
       " 'hypertension': 2,\n",
       " 'smoking_status': 3,\n",
       " 'stroke': 2,\n",
       " 'work_type': 5}"
      ]
     },
     "execution_count": 49,
     "metadata": {},
     "output_type": "execute_result"
    }
   ],
   "source": [
    "col_nunique(train)"
   ]
  },
  {
   "cell_type": "code",
   "execution_count": 50,
   "metadata": {},
   "outputs": [
    {
     "data": {
      "text/plain": [
       "{'Residence_type': 0,\n",
       " 'age': 0,\n",
       " 'avg_glucose_level': 0,\n",
       " 'bmi': 1462,\n",
       " 'ever_married': 0,\n",
       " 'gender': 0,\n",
       " 'heart_disease': 0,\n",
       " 'hypertension': 0,\n",
       " 'smoking_status': 13292,\n",
       " 'stroke': 0,\n",
       " 'work_type': 0}"
      ]
     },
     "execution_count": 50,
     "metadata": {},
     "output_type": "execute_result"
    }
   ],
   "source": [
    "col_nas(train)"
   ]
  },
  {
   "cell_type": "code",
   "execution_count": 51,
   "metadata": {},
   "outputs": [
    {
     "data": {
      "text/plain": [
       "{'Residence_type': 0,\n",
       " 'age': 0,\n",
       " 'avg_glucose_level': 0,\n",
       " 'bmi': 591,\n",
       " 'ever_married': 0,\n",
       " 'gender': 0,\n",
       " 'heart_disease': 0,\n",
       " 'hypertension': 0,\n",
       " 'id': 0,\n",
       " 'smoking_status': 5751,\n",
       " 'work_type': 0}"
      ]
     },
     "execution_count": 51,
     "metadata": {},
     "output_type": "execute_result"
    }
   ],
   "source": [
    "col_nas(test)"
   ]
  },
  {
   "cell_type": "markdown",
   "metadata": {},
   "source": [
    "### Train-Val"
   ]
  },
  {
   "cell_type": "code",
   "execution_count": 114,
   "metadata": {},
   "outputs": [],
   "source": [
    "sshuffle = StratifiedKFold(5, random_state=42)"
   ]
  },
  {
   "cell_type": "code",
   "execution_count": 115,
   "metadata": {},
   "outputs": [
    {
     "data": {
      "text/html": [
       "<div>\n",
       "<table border=\"1\" class=\"dataframe\">\n",
       "  <thead>\n",
       "    <tr style=\"text-align: right;\">\n",
       "      <th></th>\n",
       "      <th>gender</th>\n",
       "      <th>age</th>\n",
       "      <th>hypertension</th>\n",
       "      <th>heart_disease</th>\n",
       "      <th>ever_married</th>\n",
       "      <th>work_type</th>\n",
       "      <th>Residence_type</th>\n",
       "      <th>avg_glucose_level</th>\n",
       "      <th>bmi</th>\n",
       "      <th>smoking_status</th>\n",
       "      <th>stroke</th>\n",
       "    </tr>\n",
       "  </thead>\n",
       "  <tbody>\n",
       "    <tr>\n",
       "      <th>0</th>\n",
       "      <td>Male</td>\n",
       "      <td>3.0</td>\n",
       "      <td>0</td>\n",
       "      <td>0</td>\n",
       "      <td>No</td>\n",
       "      <td>children</td>\n",
       "      <td>Rural</td>\n",
       "      <td>95.12</td>\n",
       "      <td>18.0</td>\n",
       "      <td>NaN</td>\n",
       "      <td>0</td>\n",
       "    </tr>\n",
       "    <tr>\n",
       "      <th>1</th>\n",
       "      <td>Male</td>\n",
       "      <td>58.0</td>\n",
       "      <td>1</td>\n",
       "      <td>0</td>\n",
       "      <td>Yes</td>\n",
       "      <td>Private</td>\n",
       "      <td>Urban</td>\n",
       "      <td>87.96</td>\n",
       "      <td>39.2</td>\n",
       "      <td>never smoked</td>\n",
       "      <td>0</td>\n",
       "    </tr>\n",
       "  </tbody>\n",
       "</table>\n",
       "</div>"
      ],
      "text/plain": [
       "  gender   age  hypertension  heart_disease ever_married work_type  \\\n",
       "0   Male   3.0             0              0           No  children   \n",
       "1   Male  58.0             1              0          Yes   Private   \n",
       "\n",
       "  Residence_type  avg_glucose_level   bmi smoking_status stroke  \n",
       "0          Rural              95.12  18.0            NaN      0  \n",
       "1          Urban              87.96  39.2   never smoked      0  "
      ]
     },
     "execution_count": 115,
     "metadata": {},
     "output_type": "execute_result"
    }
   ],
   "source": [
    "train.head(2)"
   ]
  },
  {
   "cell_type": "code",
   "execution_count": 116,
   "metadata": {},
   "outputs": [
    {
     "data": {
      "text/plain": [
       "gender               category\n",
       "age                   float64\n",
       "hypertension            int64\n",
       "heart_disease           int64\n",
       "ever_married         category\n",
       "work_type            category\n",
       "Residence_type       category\n",
       "avg_glucose_level     float64\n",
       "bmi                   float64\n",
       "smoking_status       category\n",
       "stroke               category\n",
       "dtype: object"
      ]
     },
     "execution_count": 116,
     "metadata": {},
     "output_type": "execute_result"
    }
   ],
   "source": [
    "train.dtypes"
   ]
  },
  {
   "cell_type": "code",
   "execution_count": null,
   "metadata": {},
   "outputs": [],
   "source": [
    "# convert object to category\n",
    "train_cats(train)"
   ]
  },
  {
   "cell_type": "code",
   "execution_count": 150,
   "metadata": {},
   "outputs": [],
   "source": [
    "train_cats(test)"
   ]
  },
  {
   "cell_type": "code",
   "execution_count": 167,
   "metadata": {},
   "outputs": [],
   "source": [
    "# numerical encoding for cats\n",
    "df, y, nas = proc_df(train, 'stroke')\n",
    "test_df,_,nas = proc_df(test, na_dict=nas)\n",
    "test_df.drop('id', 1, inplace=True)"
   ]
  },
  {
   "cell_type": "code",
   "execution_count": 170,
   "metadata": {},
   "outputs": [],
   "source": [
    "cv_idxs = list(sshuffle.split(df,y))"
   ]
  },
  {
   "cell_type": "code",
   "execution_count": 171,
   "metadata": {},
   "outputs": [
    {
     "data": {
      "text/plain": [
       "0.01804147465437788"
      ]
     },
     "execution_count": 171,
     "metadata": {},
     "output_type": "execute_result"
    }
   ],
   "source": [
    "# original ratio\n",
    "train.stroke.cat.codes.mean()"
   ]
  },
  {
   "cell_type": "markdown",
   "metadata": {},
   "source": [
    "### Random Forest Baseline"
   ]
  },
  {
   "cell_type": "code",
   "execution_count": 190,
   "metadata": {},
   "outputs": [],
   "source": [
    "set_rf_samples(20000)\n",
    "reset_rf_samples()"
   ]
  },
  {
   "cell_type": "code",
   "execution_count": 184,
   "metadata": {},
   "outputs": [],
   "source": [
    "rf = RandomForestClassifier(n_estimators=40, n_jobs=-1, criterion='gini',\n",
    "                  max_depth=5, min_samples_leaf=1, oob_score=True)"
   ]
  },
  {
   "cell_type": "code",
   "execution_count": 185,
   "metadata": {},
   "outputs": [
    {
     "data": {
      "text/plain": [
       "RandomForestClassifier(bootstrap=True, class_weight=None, criterion='gini',\n",
       "            max_depth=5, max_features='auto', max_leaf_nodes=None,\n",
       "            min_impurity_split=1e-07, min_samples_leaf=1,\n",
       "            min_samples_split=2, min_weight_fraction_leaf=0.0,\n",
       "            n_estimators=40, n_jobs=-1, oob_score=True, random_state=None,\n",
       "            verbose=0, warm_start=False)"
      ]
     },
     "execution_count": 185,
     "metadata": {},
     "output_type": "execute_result"
    }
   ],
   "source": [
    "rf.fit(df, y)"
   ]
  },
  {
   "cell_type": "code",
   "execution_count": 186,
   "metadata": {},
   "outputs": [
    {
     "data": {
      "text/plain": [
       "0.9819585253456221"
      ]
     },
     "execution_count": 186,
     "metadata": {},
     "output_type": "execute_result"
    }
   ],
   "source": [
    "rf.oob_score_"
   ]
  },
  {
   "cell_type": "code",
   "execution_count": 187,
   "metadata": {},
   "outputs": [
    {
     "data": {
      "text/plain": [
       "RangeIndex(start=0, stop=43400, step=1)"
      ]
     },
     "execution_count": 187,
     "metadata": {},
     "output_type": "execute_result"
    }
   ],
   "source": [
    "df.index"
   ]
  },
  {
   "cell_type": "code",
   "execution_count": 208,
   "metadata": {},
   "outputs": [],
   "source": [
    "def train_and_eval(df=df, cv_idxs=cv_idxs, rf=rf):\n",
    "    \"\"\"evaluate auc cv score\"\"\"\n",
    "    scores = []\n",
    "    for trn_idx, val_idx in cv_idxs:\n",
    "        trn_df, val_df = df.iloc[trn_idx], df.iloc[val_idx]\n",
    "        trn_y, val_y = y[trn_idx], y[val_idx]\n",
    "        rf.fit(trn_df, trn_y) # fit model\n",
    "        val_preds = rf.predict_proba(val_df)[:,1]\n",
    "        score = roc_auc_score(val_y, val_preds)\n",
    "        scores.append(score)\n",
    "    return scores"
   ]
  },
  {
   "cell_type": "code",
   "execution_count": 196,
   "metadata": {},
   "outputs": [],
   "source": [
    "params = {\n",
    "    'n_estimators': range(40,100,10),\n",
    "    'criterion': ['gini', 'entropy'],\n",
    "    'max_features': ['auto', 'sqrt', 'log2'],\n",
    "    'min_samples_leaf': [1,5,10,30],\n",
    "    'n_jobs': [-1]\n",
    "}"
   ]
  },
  {
   "cell_type": "code",
   "execution_count": 199,
   "metadata": {},
   "outputs": [],
   "source": [
    "from itertools import product\n",
    "param_grids = [dict(zip(params, v)) for v in product(*params.values())]"
   ]
  },
  {
   "cell_type": "code",
   "execution_count": 203,
   "metadata": {},
   "outputs": [],
   "source": [
    "# select random params\n",
    "n_random = 50\n",
    "random_param_grids = np.random.choice(param_grids, size=n_random, replace=False)"
   ]
  },
  {
   "cell_type": "code",
   "execution_count": 206,
   "metadata": {
    "scrolled": true
   },
   "outputs": [
    {
     "name": "stdout",
     "output_type": "stream",
     "text": [
      "{'n_estimators': 40, 'criterion': 'gini', 'max_features': 'auto', 'min_samples_leaf': 30, 'n_jobs': -1}\n",
      "0.8536829373412097 0.011617081355706238\n",
      "{'n_estimators': 40, 'criterion': 'entropy', 'max_features': 'log2', 'min_samples_leaf': 30, 'n_jobs': -1}\n",
      "0.8534457444999415 0.007432147961322747\n",
      "{'n_estimators': 60, 'criterion': 'gini', 'max_features': 'auto', 'min_samples_leaf': 5, 'n_jobs': -1}\n",
      "0.8335614563320851 0.011518883797717105\n",
      "{'n_estimators': 50, 'criterion': 'gini', 'max_features': 'sqrt', 'min_samples_leaf': 5, 'n_jobs': -1}\n",
      "0.8295489236628489 0.011785995321650483\n",
      "{'n_estimators': 60, 'criterion': 'gini', 'max_features': 'sqrt', 'min_samples_leaf': 1, 'n_jobs': -1}\n",
      "0.753630351546251 0.01489740775245296\n",
      "{'n_estimators': 50, 'criterion': 'gini', 'max_features': 'sqrt', 'min_samples_leaf': 30, 'n_jobs': -1}\n",
      "0.8539508965324192 0.008970425415919152\n",
      "{'n_estimators': 40, 'criterion': 'entropy', 'max_features': 'auto', 'min_samples_leaf': 5, 'n_jobs': -1}\n",
      "0.8321918533694109 0.013896198531864115\n",
      "{'n_estimators': 50, 'criterion': 'entropy', 'max_features': 'log2', 'min_samples_leaf': 5, 'n_jobs': -1}\n",
      "0.8318976528864516 0.011158898871238717\n",
      "{'n_estimators': 50, 'criterion': 'entropy', 'max_features': 'sqrt', 'min_samples_leaf': 30, 'n_jobs': -1}\n",
      "0.8572504966268373 0.010573122255266488\n",
      "{'n_estimators': 50, 'criterion': 'gini', 'max_features': 'log2', 'min_samples_leaf': 1, 'n_jobs': -1}\n",
      "0.7530154645877611 0.019086653667034763\n",
      "{'n_estimators': 50, 'criterion': 'entropy', 'max_features': 'sqrt', 'min_samples_leaf': 1, 'n_jobs': -1}\n",
      "0.7535213550937477 0.007433014087370202\n",
      "{'n_estimators': 50, 'criterion': 'gini', 'max_features': 'auto', 'min_samples_leaf': 5, 'n_jobs': -1}\n",
      "0.827400051490967 0.009395667166749248\n",
      "{'n_estimators': 70, 'criterion': 'entropy', 'max_features': 'auto', 'min_samples_leaf': 5, 'n_jobs': -1}\n",
      "0.8341687737746895 0.011037771583776591\n",
      "{'n_estimators': 80, 'criterion': 'entropy', 'max_features': 'sqrt', 'min_samples_leaf': 5, 'n_jobs': -1}\n",
      "0.8340686939377632 0.007789747383781989\n",
      "{'n_estimators': 90, 'criterion': 'entropy', 'max_features': 'auto', 'min_samples_leaf': 1, 'n_jobs': -1}\n",
      "0.7851911612394974 0.018151226882984182\n",
      "{'n_estimators': 70, 'criterion': 'gini', 'max_features': 'auto', 'min_samples_leaf': 1, 'n_jobs': -1}\n",
      "0.7674624864883652 0.014339020687191655\n",
      "{'n_estimators': 40, 'criterion': 'entropy', 'max_features': 'auto', 'min_samples_leaf': 1, 'n_jobs': -1}\n",
      "0.749801205904548 0.006630353463542459\n",
      "{'n_estimators': 90, 'criterion': 'gini', 'max_features': 'log2', 'min_samples_leaf': 10, 'n_jobs': -1}\n",
      "0.8478801628064183 0.007085704480818657\n",
      "{'n_estimators': 40, 'criterion': 'gini', 'max_features': 'sqrt', 'min_samples_leaf': 30, 'n_jobs': -1}\n",
      "0.8540986054495379 0.008188698555636755\n",
      "{'n_estimators': 50, 'criterion': 'gini', 'max_features': 'sqrt', 'min_samples_leaf': 10, 'n_jobs': -1}\n",
      "0.8425029280981846 0.008129482630245977\n",
      "{'n_estimators': 40, 'criterion': 'gini', 'max_features': 'auto', 'min_samples_leaf': 10, 'n_jobs': -1}\n",
      "0.8436211755742586 0.010197888104279287\n",
      "{'n_estimators': 80, 'criterion': 'entropy', 'max_features': 'auto', 'min_samples_leaf': 10, 'n_jobs': -1}\n",
      "0.8467736716849211 0.011881561384819828\n",
      "{'n_estimators': 90, 'criterion': 'entropy', 'max_features': 'sqrt', 'min_samples_leaf': 10, 'n_jobs': -1}\n",
      "0.8486382829727794 0.007348478531501538\n",
      "{'n_estimators': 80, 'criterion': 'gini', 'max_features': 'sqrt', 'min_samples_leaf': 30, 'n_jobs': -1}\n",
      "0.855303997546575 0.009148374209086742\n",
      "{'n_estimators': 70, 'criterion': 'entropy', 'max_features': 'sqrt', 'min_samples_leaf': 5, 'n_jobs': -1}\n",
      "0.8353953606253242 0.008432436778476377\n",
      "{'n_estimators': 50, 'criterion': 'gini', 'max_features': 'sqrt', 'min_samples_leaf': 1, 'n_jobs': -1}\n",
      "0.7502050714651234 0.01713665949996014\n",
      "{'n_estimators': 80, 'criterion': 'gini', 'max_features': 'sqrt', 'min_samples_leaf': 1, 'n_jobs': -1}\n",
      "0.7669402949109168 0.011729701044761783\n",
      "{'n_estimators': 50, 'criterion': 'gini', 'max_features': 'auto', 'min_samples_leaf': 30, 'n_jobs': -1}\n",
      "0.8533024842771864 0.00922603960011632\n",
      "{'n_estimators': 60, 'criterion': 'entropy', 'max_features': 'sqrt', 'min_samples_leaf': 5, 'n_jobs': -1}\n",
      "0.835266977327789 0.008079276797412228\n",
      "{'n_estimators': 70, 'criterion': 'entropy', 'max_features': 'sqrt', 'min_samples_leaf': 1, 'n_jobs': -1}\n",
      "0.7729576732686929 0.01322571805469583\n",
      "{'n_estimators': 40, 'criterion': 'entropy', 'max_features': 'sqrt', 'min_samples_leaf': 1, 'n_jobs': -1}\n",
      "0.7408942845305633 0.009947957792442343\n",
      "{'n_estimators': 80, 'criterion': 'gini', 'max_features': 'sqrt', 'min_samples_leaf': 10, 'n_jobs': -1}\n",
      "0.8446367617456134 0.009957074979773165\n",
      "{'n_estimators': 60, 'criterion': 'gini', 'max_features': 'log2', 'min_samples_leaf': 1, 'n_jobs': -1}\n",
      "0.7596637572873738 0.0106483223837048\n",
      "{'n_estimators': 40, 'criterion': 'gini', 'max_features': 'log2', 'min_samples_leaf': 5, 'n_jobs': -1}\n",
      "0.8279271048956846 0.00513559009876084\n",
      "{'n_estimators': 70, 'criterion': 'entropy', 'max_features': 'auto', 'min_samples_leaf': 1, 'n_jobs': -1}\n",
      "0.7775419898612974 0.014806402062200874\n",
      "{'n_estimators': 80, 'criterion': 'gini', 'max_features': 'log2', 'min_samples_leaf': 10, 'n_jobs': -1}\n",
      "0.844590474324459 0.01090308854402607\n",
      "{'n_estimators': 90, 'criterion': 'entropy', 'max_features': 'auto', 'min_samples_leaf': 5, 'n_jobs': -1}\n",
      "0.8349352721947249 0.01046071612999615\n",
      "{'n_estimators': 60, 'criterion': 'entropy', 'max_features': 'auto', 'min_samples_leaf': 1, 'n_jobs': -1}\n",
      "0.7677096294317598 0.015615564500185409\n",
      "{'n_estimators': 70, 'criterion': 'gini', 'max_features': 'sqrt', 'min_samples_leaf': 1, 'n_jobs': -1}\n",
      "0.7665857795961728 0.0074972129877502475\n",
      "{'n_estimators': 70, 'criterion': 'entropy', 'max_features': 'sqrt', 'min_samples_leaf': 10, 'n_jobs': -1}\n",
      "0.8447082891910143 0.00985355859643212\n",
      "{'n_estimators': 50, 'criterion': 'entropy', 'max_features': 'auto', 'min_samples_leaf': 30, 'n_jobs': -1}\n",
      "0.8550585921973359 0.009797390286228383\n",
      "{'n_estimators': 90, 'criterion': 'entropy', 'max_features': 'sqrt', 'min_samples_leaf': 5, 'n_jobs': -1}\n",
      "0.8348229195505035 0.008678410905549013\n",
      "{'n_estimators': 60, 'criterion': 'entropy', 'max_features': 'auto', 'min_samples_leaf': 5, 'n_jobs': -1}\n",
      "0.8307742901927982 0.006788943726173748\n",
      "{'n_estimators': 90, 'criterion': 'entropy', 'max_features': 'log2', 'min_samples_leaf': 5, 'n_jobs': -1}\n",
      "0.8396818097252943 0.010204713786494676\n",
      "{'n_estimators': 40, 'criterion': 'gini', 'max_features': 'sqrt', 'min_samples_leaf': 1, 'n_jobs': -1}\n",
      "0.7431810247284071 0.012471700205269762\n",
      "{'n_estimators': 80, 'criterion': 'gini', 'max_features': 'auto', 'min_samples_leaf': 5, 'n_jobs': -1}\n",
      "0.836191517366044 0.0062251550262464395\n",
      "{'n_estimators': 90, 'criterion': 'gini', 'max_features': 'log2', 'min_samples_leaf': 1, 'n_jobs': -1}\n",
      "0.7744755126576318 0.007013305107887834\n",
      "{'n_estimators': 60, 'criterion': 'gini', 'max_features': 'auto', 'min_samples_leaf': 1, 'n_jobs': -1}\n",
      "0.7689894674527307 0.011351559707959341\n",
      "{'n_estimators': 90, 'criterion': 'entropy', 'max_features': 'log2', 'min_samples_leaf': 30, 'n_jobs': -1}\n",
      "0.8568731773257261 0.00983297865360473\n",
      "{'n_estimators': 50, 'criterion': 'gini', 'max_features': 'log2', 'min_samples_leaf': 10, 'n_jobs': -1}\n",
      "0.8424883234448289 0.008015882392385109\n"
     ]
    }
   ],
   "source": [
    "verbose = True\n",
    "init_score = 0\n",
    "for param_grid in random_param_grids:\n",
    "    rf = RandomForestClassifier(**param_grid)\n",
    "    scores = np.array(train_and_eval(df, cv_idxs, rf))\n",
    "    scores_mean, scores_std = scores.mean(), scores.std()\n",
    "    if scores.mean() > init_score:\n",
    "        init_score = scores_mean\n",
    "        best_params = param_grid\n",
    "    if verbose:\n",
    "        print(param_grid)\n",
    "        print(scores_mean, scores_std)"
   ]
  },
  {
   "cell_type": "code",
   "execution_count": 216,
   "metadata": {},
   "outputs": [
    {
     "data": {
      "text/plain": [
       "({'criterion': 'entropy',\n",
       "  'max_features': 'sqrt',\n",
       "  'min_samples_leaf': 30,\n",
       "  'n_estimators': 50,\n",
       "  'n_jobs': -1},\n",
       " 0.8572504966268373)"
      ]
     },
     "execution_count": 216,
     "metadata": {},
     "output_type": "execute_result"
    }
   ],
   "source": [
    "best_params, init_score"
   ]
  },
  {
   "cell_type": "code",
   "execution_count": 224,
   "metadata": {},
   "outputs": [],
   "source": [
    "models = {}"
   ]
  },
  {
   "cell_type": "code",
   "execution_count": 210,
   "metadata": {},
   "outputs": [],
   "source": [
    "rf = RandomForestClassifier(**best_params)"
   ]
  },
  {
   "cell_type": "code",
   "execution_count": 211,
   "metadata": {},
   "outputs": [
    {
     "data": {
      "text/plain": [
       "RandomForestClassifier(bootstrap=True, class_weight=None, criterion='entropy',\n",
       "            max_depth=None, max_features='sqrt', max_leaf_nodes=None,\n",
       "            min_impurity_split=1e-07, min_samples_leaf=30,\n",
       "            min_samples_split=2, min_weight_fraction_leaf=0.0,\n",
       "            n_estimators=50, n_jobs=-1, oob_score=False, random_state=None,\n",
       "            verbose=0, warm_start=False)"
      ]
     },
     "execution_count": 211,
     "metadata": {},
     "output_type": "execute_result"
    }
   ],
   "source": [
    "rf.fit(df, y)"
   ]
  },
  {
   "cell_type": "code",
   "execution_count": 225,
   "metadata": {},
   "outputs": [],
   "source": [
    "models['rf_baseline'] = rf"
   ]
  },
  {
   "cell_type": "code",
   "execution_count": 213,
   "metadata": {},
   "outputs": [],
   "source": [
    "test_preds = rf.predict_proba(test_df)[:, 1]\n",
    "submit_df = pd.DataFrame({\"id\": test.id, \"stroke\":test_preds})\n",
    "test_preds"
   ]
  },
  {
   "cell_type": "code",
   "execution_count": 223,
   "metadata": {},
   "outputs": [],
   "source": [
    "submit_df.to_csv(\"rf_baseline.csv\", index=False)"
   ]
  },
  {
   "cell_type": "markdown",
   "metadata": {
    "heading_collapsed": true
   },
   "source": [
    "### rfpimp"
   ]
  },
  {
   "cell_type": "code",
   "execution_count": 254,
   "metadata": {
    "hidden": true
   },
   "outputs": [
    {
     "data": {
      "text/html": [
       "<div>\n",
       "<table border=\"1\" class=\"dataframe\">\n",
       "  <thead>\n",
       "    <tr style=\"text-align: right;\">\n",
       "      <th></th>\n",
       "      <th>cols</th>\n",
       "      <th>imp</th>\n",
       "    </tr>\n",
       "  </thead>\n",
       "  <tbody>\n",
       "    <tr>\n",
       "      <th>1</th>\n",
       "      <td>age</td>\n",
       "      <td>0.413463</td>\n",
       "    </tr>\n",
       "    <tr>\n",
       "      <th>7</th>\n",
       "      <td>avg_glucose_level</td>\n",
       "      <td>0.156397</td>\n",
       "    </tr>\n",
       "    <tr>\n",
       "      <th>8</th>\n",
       "      <td>bmi</td>\n",
       "      <td>0.124178</td>\n",
       "    </tr>\n",
       "    <tr>\n",
       "      <th>10</th>\n",
       "      <td>bmi_na</td>\n",
       "      <td>0.067259</td>\n",
       "    </tr>\n",
       "    <tr>\n",
       "      <th>3</th>\n",
       "      <td>heart_disease</td>\n",
       "      <td>0.051590</td>\n",
       "    </tr>\n",
       "    <tr>\n",
       "      <th>5</th>\n",
       "      <td>work_type</td>\n",
       "      <td>0.041593</td>\n",
       "    </tr>\n",
       "    <tr>\n",
       "      <th>9</th>\n",
       "      <td>smoking_status</td>\n",
       "      <td>0.039872</td>\n",
       "    </tr>\n",
       "    <tr>\n",
       "      <th>4</th>\n",
       "      <td>ever_married</td>\n",
       "      <td>0.039700</td>\n",
       "    </tr>\n",
       "    <tr>\n",
       "      <th>2</th>\n",
       "      <td>hypertension</td>\n",
       "      <td>0.030800</td>\n",
       "    </tr>\n",
       "    <tr>\n",
       "      <th>6</th>\n",
       "      <td>Residence_type</td>\n",
       "      <td>0.018915</td>\n",
       "    </tr>\n",
       "    <tr>\n",
       "      <th>0</th>\n",
       "      <td>gender</td>\n",
       "      <td>0.016234</td>\n",
       "    </tr>\n",
       "  </tbody>\n",
       "</table>\n",
       "</div>"
      ],
      "text/plain": [
       "                 cols       imp\n",
       "1                 age  0.413463\n",
       "7   avg_glucose_level  0.156397\n",
       "8                 bmi  0.124178\n",
       "10             bmi_na  0.067259\n",
       "3       heart_disease  0.051590\n",
       "5           work_type  0.041593\n",
       "9      smoking_status  0.039872\n",
       "4        ever_married  0.039700\n",
       "2        hypertension  0.030800\n",
       "6      Residence_type  0.018915\n",
       "0              gender  0.016234"
      ]
     },
     "execution_count": 254,
     "metadata": {},
     "output_type": "execute_result"
    }
   ],
   "source": [
    "rf_feat_importance(rf, df)"
   ]
  },
  {
   "cell_type": "code",
   "execution_count": 230,
   "metadata": {
    "hidden": true
   },
   "outputs": [],
   "source": [
    "import rfpimp"
   ]
  },
  {
   "cell_type": "code",
   "execution_count": 231,
   "metadata": {
    "hidden": true
   },
   "outputs": [],
   "source": [
    "def permutation_importances_raw(rf, X_train, y_train, metric):\n",
    "    \"\"\"\n",
    "    Return array of importances from pre-fit rf; metric is function\n",
    "    that measures accuracy or R^2 or similar. This function\n",
    "    works for regressors and classifiers.\n",
    "    \"\"\"\n",
    "    baseline = metric(rf, X_train, y_train)\n",
    "    X_train = X_train.copy(deep=False) # shallow copy\n",
    "    imp = []\n",
    "    for col in X_train.columns:\n",
    "        save = X_train[col].copy()\n",
    "        X_train[col] = np.random.permutation(X_train[col])\n",
    "        m = metric(rf, X_train, y_train)\n",
    "        X_train[col] = save\n",
    "        imp.append(baseline - m)\n",
    "    return np.array(imp)"
   ]
  },
  {
   "cell_type": "code",
   "execution_count": 239,
   "metadata": {
    "hidden": true
   },
   "outputs": [],
   "source": [
    "def auc_metric(rf, X_train, y_train):\n",
    "    pred_proba = rf.predict_proba(X_train)[:, 1]\n",
    "    return roc_auc_score(y_train, pred_proba)"
   ]
  },
  {
   "cell_type": "code",
   "execution_count": 240,
   "metadata": {
    "hidden": true
   },
   "outputs": [
    {
     "data": {
      "text/html": [
       "<div>\n",
       "<table border=\"1\" class=\"dataframe\">\n",
       "  <thead>\n",
       "    <tr style=\"text-align: right;\">\n",
       "      <th></th>\n",
       "      <th>gender</th>\n",
       "      <th>age</th>\n",
       "      <th>hypertension</th>\n",
       "      <th>heart_disease</th>\n",
       "      <th>ever_married</th>\n",
       "      <th>work_type</th>\n",
       "      <th>Residence_type</th>\n",
       "      <th>avg_glucose_level</th>\n",
       "      <th>bmi</th>\n",
       "      <th>smoking_status</th>\n",
       "      <th>bmi_na</th>\n",
       "    </tr>\n",
       "  </thead>\n",
       "  <tbody>\n",
       "    <tr>\n",
       "      <th>0</th>\n",
       "      <td>2</td>\n",
       "      <td>3.0</td>\n",
       "      <td>0</td>\n",
       "      <td>0</td>\n",
       "      <td>1</td>\n",
       "      <td>5</td>\n",
       "      <td>1</td>\n",
       "      <td>95.12</td>\n",
       "      <td>18.0</td>\n",
       "      <td>0</td>\n",
       "      <td>False</td>\n",
       "    </tr>\n",
       "    <tr>\n",
       "      <th>1</th>\n",
       "      <td>2</td>\n",
       "      <td>58.0</td>\n",
       "      <td>1</td>\n",
       "      <td>0</td>\n",
       "      <td>2</td>\n",
       "      <td>3</td>\n",
       "      <td>2</td>\n",
       "      <td>87.96</td>\n",
       "      <td>39.2</td>\n",
       "      <td>2</td>\n",
       "      <td>False</td>\n",
       "    </tr>\n",
       "    <tr>\n",
       "      <th>2</th>\n",
       "      <td>1</td>\n",
       "      <td>8.0</td>\n",
       "      <td>0</td>\n",
       "      <td>0</td>\n",
       "      <td>1</td>\n",
       "      <td>3</td>\n",
       "      <td>2</td>\n",
       "      <td>110.89</td>\n",
       "      <td>17.6</td>\n",
       "      <td>0</td>\n",
       "      <td>False</td>\n",
       "    </tr>\n",
       "    <tr>\n",
       "      <th>3</th>\n",
       "      <td>1</td>\n",
       "      <td>70.0</td>\n",
       "      <td>0</td>\n",
       "      <td>0</td>\n",
       "      <td>2</td>\n",
       "      <td>3</td>\n",
       "      <td>1</td>\n",
       "      <td>69.04</td>\n",
       "      <td>35.9</td>\n",
       "      <td>1</td>\n",
       "      <td>False</td>\n",
       "    </tr>\n",
       "    <tr>\n",
       "      <th>4</th>\n",
       "      <td>2</td>\n",
       "      <td>14.0</td>\n",
       "      <td>0</td>\n",
       "      <td>0</td>\n",
       "      <td>1</td>\n",
       "      <td>2</td>\n",
       "      <td>1</td>\n",
       "      <td>161.28</td>\n",
       "      <td>19.1</td>\n",
       "      <td>0</td>\n",
       "      <td>False</td>\n",
       "    </tr>\n",
       "  </tbody>\n",
       "</table>\n",
       "</div>"
      ],
      "text/plain": [
       "   gender   age  hypertension  heart_disease  ever_married  work_type  \\\n",
       "0       2   3.0             0              0             1          5   \n",
       "1       2  58.0             1              0             2          3   \n",
       "2       1   8.0             0              0             1          3   \n",
       "3       1  70.0             0              0             2          3   \n",
       "4       2  14.0             0              0             1          2   \n",
       "\n",
       "   Residence_type  avg_glucose_level   bmi  smoking_status bmi_na  \n",
       "0               1              95.12  18.0               0  False  \n",
       "1               2              87.96  39.2               2  False  \n",
       "2               2             110.89  17.6               0  False  \n",
       "3               1              69.04  35.9               1  False  \n",
       "4               1             161.28  19.1               0  False  "
      ]
     },
     "execution_count": 240,
     "metadata": {},
     "output_type": "execute_result"
    }
   ],
   "source": [
    "df.head()"
   ]
  },
  {
   "cell_type": "code",
   "execution_count": 242,
   "metadata": {
    "hidden": true
   },
   "outputs": [],
   "source": [
    "importances = permutation_importances_raw(rf, df, y, auc_metric)"
   ]
  },
  {
   "cell_type": "code",
   "execution_count": 247,
   "metadata": {
    "hidden": true
   },
   "outputs": [
    {
     "data": {
      "text/plain": [
       "Index(['gender', 'age', 'hypertension', 'heart_disease', 'ever_married',\n",
       "       'work_type', 'Residence_type', 'avg_glucose_level', 'bmi',\n",
       "       'smoking_status', 'bmi_na'],\n",
       "      dtype='object')"
      ]
     },
     "execution_count": 247,
     "metadata": {},
     "output_type": "execute_result"
    }
   ],
   "source": [
    "df.columns"
   ]
  },
  {
   "cell_type": "code",
   "execution_count": 256,
   "metadata": {
    "hidden": true
   },
   "outputs": [],
   "source": [
    "imp_df = pd.DataFrame({\"Feature\": df.columns, \"Importance\": importances}).\\\n",
    "    set_index('Feature').sort_values('Importance')\n",
    "rfpimp.plot_importances(imp_df)"
   ]
  },
  {
   "cell_type": "markdown",
   "metadata": {
    "heading_collapsed": true
   },
   "source": [
    "### Random Forest Dropcols"
   ]
  },
  {
   "cell_type": "code",
   "execution_count": 261,
   "metadata": {
    "hidden": true
   },
   "outputs": [],
   "source": [
    "df_reduced = df[['age', 'avg_glucose_level', 'bmi']]"
   ]
  },
  {
   "cell_type": "code",
   "execution_count": 262,
   "metadata": {
    "hidden": true
   },
   "outputs": [],
   "source": [
    "set_rf_samples(20000)\n",
    "reset_rf_samples()"
   ]
  },
  {
   "cell_type": "code",
   "execution_count": 263,
   "metadata": {
    "hidden": true
   },
   "outputs": [],
   "source": [
    "params = {\n",
    "    'n_estimators': range(40,100,10),\n",
    "    'criterion': ['gini', 'entropy'],\n",
    "    'max_features': ['auto', 'sqrt', 'log2'],\n",
    "    'min_samples_leaf': [1,5,10,30],\n",
    "    'n_jobs': [-1]\n",
    "}"
   ]
  },
  {
   "cell_type": "code",
   "execution_count": 264,
   "metadata": {
    "hidden": true
   },
   "outputs": [],
   "source": [
    "param_grids = [dict(zip(params, v)) for v in product(*params.values())]"
   ]
  },
  {
   "cell_type": "code",
   "execution_count": 266,
   "metadata": {
    "hidden": true
   },
   "outputs": [],
   "source": [
    "n_random = 50\n",
    "random_param_grids = np.random.choice(param_grids, size=n_random, replace=False)"
   ]
  },
  {
   "cell_type": "code",
   "execution_count": 267,
   "metadata": {
    "hidden": true,
    "scrolled": true
   },
   "outputs": [
    {
     "name": "stdout",
     "output_type": "stream",
     "text": [
      "{'n_estimators': 70, 'criterion': 'entropy', 'max_features': 'sqrt', 'min_samples_leaf': 5, 'n_jobs': -1}\n",
      "0.8085763484723412 0.009837628295821887\n",
      "{'n_estimators': 90, 'criterion': 'entropy', 'max_features': 'sqrt', 'min_samples_leaf': 30, 'n_jobs': -1}\n",
      "0.8408433376262522 0.006808705469828797\n",
      "{'n_estimators': 60, 'criterion': 'gini', 'max_features': 'sqrt', 'min_samples_leaf': 5, 'n_jobs': -1}\n",
      "0.8115318635443038 0.009610407762825852\n",
      "{'n_estimators': 60, 'criterion': 'entropy', 'max_features': 'auto', 'min_samples_leaf': 10, 'n_jobs': -1}\n",
      "0.8245661828859058 0.005838485219594475\n",
      "{'n_estimators': 60, 'criterion': 'gini', 'max_features': 'log2', 'min_samples_leaf': 5, 'n_jobs': -1}\n",
      "0.8072363493829025 0.009047274549523992\n",
      "{'n_estimators': 60, 'criterion': 'entropy', 'max_features': 'log2', 'min_samples_leaf': 1, 'n_jobs': -1}\n",
      "0.7122376516011817 0.021115720763079496\n",
      "{'n_estimators': 80, 'criterion': 'gini', 'max_features': 'sqrt', 'min_samples_leaf': 30, 'n_jobs': -1}\n",
      "0.8396880726982079 0.011009549845051895\n",
      "{'n_estimators': 60, 'criterion': 'entropy', 'max_features': 'log2', 'min_samples_leaf': 5, 'n_jobs': -1}\n",
      "0.8058538661080616 0.008749851416677813\n",
      "{'n_estimators': 60, 'criterion': 'entropy', 'max_features': 'log2', 'min_samples_leaf': 30, 'n_jobs': -1}\n",
      "0.8420725076302441 0.009728500201717118\n",
      "{'n_estimators': 40, 'criterion': 'entropy', 'max_features': 'sqrt', 'min_samples_leaf': 10, 'n_jobs': -1}\n",
      "0.8213186003000498 0.01104959591687327\n",
      "{'n_estimators': 40, 'criterion': 'entropy', 'max_features': 'log2', 'min_samples_leaf': 5, 'n_jobs': -1}\n",
      "0.7934344350366683 0.012553462350802878\n",
      "{'n_estimators': 60, 'criterion': 'gini', 'max_features': 'log2', 'min_samples_leaf': 1, 'n_jobs': -1}\n",
      "0.7125791308055364 0.01826816036685433\n",
      "{'n_estimators': 90, 'criterion': 'gini', 'max_features': 'auto', 'min_samples_leaf': 10, 'n_jobs': -1}\n",
      "0.826835061330416 0.008247292986961882\n",
      "{'n_estimators': 40, 'criterion': 'entropy', 'max_features': 'log2', 'min_samples_leaf': 1, 'n_jobs': -1}\n",
      "0.6984047574239872 0.007776424553712466\n",
      "{'n_estimators': 40, 'criterion': 'gini', 'max_features': 'sqrt', 'min_samples_leaf': 10, 'n_jobs': -1}\n",
      "0.8220672751106737 0.004653643442124974\n",
      "{'n_estimators': 50, 'criterion': 'gini', 'max_features': 'auto', 'min_samples_leaf': 10, 'n_jobs': -1}\n",
      "0.8259899029094184 0.00831113709657287\n",
      "{'n_estimators': 80, 'criterion': 'gini', 'max_features': 'sqrt', 'min_samples_leaf': 1, 'n_jobs': -1}\n",
      "0.7163713950035138 0.013874200439338968\n",
      "{'n_estimators': 50, 'criterion': 'entropy', 'max_features': 'sqrt', 'min_samples_leaf': 1, 'n_jobs': -1}\n",
      "0.7030861654960153 0.02153158344784689\n",
      "{'n_estimators': 70, 'criterion': 'entropy', 'max_features': 'auto', 'min_samples_leaf': 10, 'n_jobs': -1}\n",
      "0.8245851957243385 0.007648087087769208\n",
      "{'n_estimators': 90, 'criterion': 'gini', 'max_features': 'auto', 'min_samples_leaf': 5, 'n_jobs': -1}\n",
      "0.8119734596666441 0.011548591946866825\n",
      "{'n_estimators': 40, 'criterion': 'entropy', 'max_features': 'auto', 'min_samples_leaf': 10, 'n_jobs': -1}\n",
      "0.81923010432815 0.010510635457375222\n",
      "{'n_estimators': 90, 'criterion': 'entropy', 'max_features': 'sqrt', 'min_samples_leaf': 10, 'n_jobs': -1}\n",
      "0.8267354074367264 0.006799928920220527\n",
      "{'n_estimators': 80, 'criterion': 'entropy', 'max_features': 'sqrt', 'min_samples_leaf': 1, 'n_jobs': -1}\n",
      "0.7200409501339575 0.01447139182273911\n",
      "{'n_estimators': 90, 'criterion': 'gini', 'max_features': 'log2', 'min_samples_leaf': 10, 'n_jobs': -1}\n",
      "0.826088998877827 0.007196015374790354\n",
      "{'n_estimators': 60, 'criterion': 'entropy', 'max_features': 'auto', 'min_samples_leaf': 1, 'n_jobs': -1}\n",
      "0.7143424820570619 0.017224658126823257\n",
      "{'n_estimators': 90, 'criterion': 'gini', 'max_features': 'log2', 'min_samples_leaf': 1, 'n_jobs': -1}\n",
      "0.7267092541294837 0.013735374030896213\n",
      "{'n_estimators': 40, 'criterion': 'gini', 'max_features': 'sqrt', 'min_samples_leaf': 1, 'n_jobs': -1}\n",
      "0.6832813110319966 0.0191032394488176\n",
      "{'n_estimators': 50, 'criterion': 'gini', 'max_features': 'auto', 'min_samples_leaf': 30, 'n_jobs': -1}\n",
      "0.8364704689992987 0.008108184625188801\n",
      "{'n_estimators': 70, 'criterion': 'gini', 'max_features': 'auto', 'min_samples_leaf': 30, 'n_jobs': -1}\n",
      "0.8403397077239338 0.00609176415231966\n",
      "{'n_estimators': 60, 'criterion': 'gini', 'max_features': 'sqrt', 'min_samples_leaf': 10, 'n_jobs': -1}\n",
      "0.8238400027876309 0.009793027323259929\n",
      "{'n_estimators': 50, 'criterion': 'gini', 'max_features': 'sqrt', 'min_samples_leaf': 10, 'n_jobs': -1}\n",
      "0.8212555793977725 0.007164781851973359\n",
      "{'n_estimators': 80, 'criterion': 'entropy', 'max_features': 'log2', 'min_samples_leaf': 30, 'n_jobs': -1}\n",
      "0.8418759758325665 0.008279389637645154\n",
      "{'n_estimators': 50, 'criterion': 'entropy', 'max_features': 'log2', 'min_samples_leaf': 5, 'n_jobs': -1}\n",
      "0.8041612372115579 0.009398138015156486\n",
      "{'n_estimators': 80, 'criterion': 'gini', 'max_features': 'auto', 'min_samples_leaf': 30, 'n_jobs': -1}\n",
      "0.8412240761170923 0.00720117501548309\n",
      "{'n_estimators': 60, 'criterion': 'entropy', 'max_features': 'sqrt', 'min_samples_leaf': 5, 'n_jobs': -1}\n",
      "0.8005979411084422 0.007707627650306395\n",
      "{'n_estimators': 80, 'criterion': 'entropy', 'max_features': 'sqrt', 'min_samples_leaf': 10, 'n_jobs': -1}\n",
      "0.8263341461928002 0.010301404343436656\n",
      "{'n_estimators': 50, 'criterion': 'gini', 'max_features': 'log2', 'min_samples_leaf': 30, 'n_jobs': -1}\n",
      "0.8402947080790708 0.006621669254128714\n",
      "{'n_estimators': 60, 'criterion': 'entropy', 'max_features': 'sqrt', 'min_samples_leaf': 1, 'n_jobs': -1}\n",
      "0.71034558404645 0.019469048377354733\n",
      "{'n_estimators': 40, 'criterion': 'gini', 'max_features': 'sqrt', 'min_samples_leaf': 30, 'n_jobs': -1}\n",
      "0.8391157606683952 0.007504488552522695\n",
      "{'n_estimators': 50, 'criterion': 'gini', 'max_features': 'sqrt', 'min_samples_leaf': 5, 'n_jobs': -1}\n",
      "0.8003224964738539 0.009814167063803387\n",
      "{'n_estimators': 50, 'criterion': 'gini', 'max_features': 'log2', 'min_samples_leaf': 5, 'n_jobs': -1}\n",
      "0.8076970422053176 0.005757498026226172\n",
      "{'n_estimators': 80, 'criterion': 'gini', 'max_features': 'auto', 'min_samples_leaf': 1, 'n_jobs': -1}\n",
      "0.7212951095463898 0.009410056468453075\n",
      "{'n_estimators': 40, 'criterion': 'gini', 'max_features': 'auto', 'min_samples_leaf': 30, 'n_jobs': -1}\n",
      "0.8369147235653946 0.005529254603208288\n",
      "{'n_estimators': 80, 'criterion': 'entropy', 'max_features': 'auto', 'min_samples_leaf': 30, 'n_jobs': -1}\n",
      "0.841698148877752 0.007794197206036089\n",
      "{'n_estimators': 40, 'criterion': 'entropy', 'max_features': 'sqrt', 'min_samples_leaf': 5, 'n_jobs': -1}\n",
      "0.7998202207641738 0.013211638231006689\n",
      "{'n_estimators': 80, 'criterion': 'entropy', 'max_features': 'log2', 'min_samples_leaf': 5, 'n_jobs': -1}\n",
      "0.8099336365816878 0.009991181224517759\n",
      "{'n_estimators': 90, 'criterion': 'entropy', 'max_features': 'sqrt', 'min_samples_leaf': 1, 'n_jobs': -1}\n",
      "0.7254149597294879 0.016195213538259194\n",
      "{'n_estimators': 90, 'criterion': 'entropy', 'max_features': 'auto', 'min_samples_leaf': 30, 'n_jobs': -1}\n",
      "0.8415378501299516 0.008493631595895121\n",
      "{'n_estimators': 80, 'criterion': 'entropy', 'max_features': 'log2', 'min_samples_leaf': 10, 'n_jobs': -1}\n",
      "0.8259394525466796 0.006161151462560682\n",
      "{'n_estimators': 40, 'criterion': 'entropy', 'max_features': 'auto', 'min_samples_leaf': 30, 'n_jobs': -1}\n",
      "0.8386303238689665 0.007384560931379113\n"
     ]
    }
   ],
   "source": [
    "verbose = True\n",
    "init_score = 0\n",
    "\n",
    "for param_grid in random_param_grids:\n",
    "    rf = RandomForestClassifier(**param_grid)\n",
    "    scores = np.array(train_and_eval(df_reduced, cv_idxs, rf))\n",
    "    scores_mean, scores_std = scores.mean(), scores.std()\n",
    "    if scores.mean() > init_score:\n",
    "        init_score = scores_mean\n",
    "        best_params = param_grid\n",
    "    if verbose:\n",
    "        print(param_grid)\n",
    "        print(scores_mean, scores_std)"
   ]
  },
  {
   "cell_type": "code",
   "execution_count": 268,
   "metadata": {
    "hidden": true
   },
   "outputs": [
    {
     "data": {
      "text/plain": [
       "({'criterion': 'entropy',\n",
       "  'max_features': 'log2',\n",
       "  'min_samples_leaf': 30,\n",
       "  'n_estimators': 60,\n",
       "  'n_jobs': -1},\n",
       " 0.8420725076302441)"
      ]
     },
     "execution_count": 268,
     "metadata": {},
     "output_type": "execute_result"
    }
   ],
   "source": [
    "best_params, init_score"
   ]
  },
  {
   "cell_type": "code",
   "execution_count": 269,
   "metadata": {
    "hidden": true
   },
   "outputs": [],
   "source": [
    "rf = RandomForestClassifier(**best_params)"
   ]
  },
  {
   "cell_type": "code",
   "execution_count": 275,
   "metadata": {
    "hidden": true
   },
   "outputs": [
    {
     "data": {
      "text/plain": [
       "RandomForestClassifier(bootstrap=True, class_weight=None, criterion='entropy',\n",
       "            max_depth=None, max_features='log2', max_leaf_nodes=None,\n",
       "            min_impurity_split=1e-07, min_samples_leaf=30,\n",
       "            min_samples_split=2, min_weight_fraction_leaf=0.0,\n",
       "            n_estimators=60, n_jobs=-1, oob_score=False, random_state=None,\n",
       "            verbose=0, warm_start=False)"
      ]
     },
     "execution_count": 275,
     "metadata": {},
     "output_type": "execute_result"
    }
   ],
   "source": [
    "rf.fit(df_reduced, y)"
   ]
  },
  {
   "cell_type": "code",
   "execution_count": 276,
   "metadata": {
    "hidden": true
   },
   "outputs": [],
   "source": [
    "models['rf_reduced'] = rf"
   ]
  },
  {
   "cell_type": "code",
   "execution_count": 277,
   "metadata": {
    "hidden": true
   },
   "outputs": [],
   "source": [
    "test_reduced = test_df[['age', 'avg_glucose_level', 'bmi']]"
   ]
  },
  {
   "cell_type": "code",
   "execution_count": 278,
   "metadata": {
    "hidden": true
   },
   "outputs": [
    {
     "data": {
      "text/plain": [
       "array([0.07638, 0.04494, 0.     , ..., 0.13445, 0.00284, 0.00395])"
      ]
     },
     "execution_count": 278,
     "metadata": {},
     "output_type": "execute_result"
    }
   ],
   "source": [
    "test_preds = rf.predict_proba(test_reduced)[:, 1]\n",
    "submit_df = pd.DataFrame({\"id\": test.id, \"stroke\":test_preds})\n",
    "test_preds"
   ]
  },
  {
   "cell_type": "code",
   "execution_count": 279,
   "metadata": {
    "hidden": true
   },
   "outputs": [
    {
     "data": {
      "text/plain": [
       "(array([14050.,  1893.,  1120.,   751.,   409.,   208.,   105.,    41.,    19.,     5.]),\n",
       " array([0.   , 0.022, 0.044, 0.066, 0.088, 0.11 , 0.132, 0.154, 0.176, 0.198, 0.22 ]),\n",
       " <a list of 10 Patch objects>)"
      ]
     },
     "execution_count": 279,
     "metadata": {},
     "output_type": "execute_result"
    },
    {
     "data": {
      "image/png": "[encoded data removed]",
      "text/plain": [
       "<Figure size 432x288 with 1 Axes>"
      ]
     },
     "metadata": {},
     "output_type": "display_data"
    }
   ],
   "source": [
    "plt.hist(test_preds)"
   ]
  },
  {
   "cell_type": "code",
   "execution_count": 280,
   "metadata": {
    "hidden": true
   },
   "outputs": [],
   "source": [
    "submit_df.to_csv(\"rf_reduced.csv\", index=False)"
   ]
  },
  {
   "cell_type": "code",
   "execution_count": 281,
   "metadata": {
    "hidden": true
   },
   "outputs": [
    {
     "data": {
      "text/html": [
       "<div>\n",
       "<table border=\"1\" class=\"dataframe\">\n",
       "  <thead>\n",
       "    <tr style=\"text-align: right;\">\n",
       "      <th></th>\n",
       "      <th>id</th>\n",
       "      <th>stroke</th>\n",
       "    </tr>\n",
       "  </thead>\n",
       "  <tbody>\n",
       "    <tr>\n",
       "      <th>0</th>\n",
       "      <td>36306</td>\n",
       "      <td>0.076383</td>\n",
       "    </tr>\n",
       "    <tr>\n",
       "      <th>1</th>\n",
       "      <td>61829</td>\n",
       "      <td>0.044942</td>\n",
       "    </tr>\n",
       "    <tr>\n",
       "      <th>2</th>\n",
       "      <td>14152</td>\n",
       "      <td>0.000000</td>\n",
       "    </tr>\n",
       "    <tr>\n",
       "      <th>3</th>\n",
       "      <td>12997</td>\n",
       "      <td>0.000000</td>\n",
       "    </tr>\n",
       "    <tr>\n",
       "      <th>4</th>\n",
       "      <td>40801</td>\n",
       "      <td>0.036141</td>\n",
       "    </tr>\n",
       "  </tbody>\n",
       "</table>\n",
       "</div>"
      ],
      "text/plain": [
       "      id    stroke\n",
       "0  36306  0.076383\n",
       "1  61829  0.044942\n",
       "2  14152  0.000000\n",
       "3  12997  0.000000\n",
       "4  40801  0.036141"
      ]
     },
     "execution_count": 281,
     "metadata": {},
     "output_type": "execute_result"
    }
   ],
   "source": [
    "submit_df.head()"
   ]
  },
  {
   "cell_type": "markdown",
   "metadata": {
    "heading_collapsed": true
   },
   "source": [
    "### Tets set sample\n",
    "\n",
    "Full columns perform better"
   ]
  },
  {
   "cell_type": "code",
   "execution_count": 282,
   "metadata": {
    "hidden": true
   },
   "outputs": [],
   "source": [
    "set_rf_samples(20000)\n",
    "reset_rf_samples()"
   ]
  },
  {
   "cell_type": "code",
   "execution_count": null,
   "metadata": {
    "hidden": true
   },
   "outputs": [],
   "source": [
    "best_params, best_score = ({'criterion': 'entropy',\n",
    "  'max_features': 'sqrt',\n",
    "  'min_samples_leaf': 30,\n",
    "  'n_estimators': 50,\n",
    "  'n_jobs': -1},\n",
    " 0.8572504966268373)"
   ]
  },
  {
   "cell_type": "code",
   "execution_count": 283,
   "metadata": {
    "hidden": true
   },
   "outputs": [],
   "source": [
    "rf = RandomForestClassifier(**best_params)"
   ]
  },
  {
   "cell_type": "code",
   "execution_count": 313,
   "metadata": {
    "hidden": true
   },
   "outputs": [
    {
     "name": "stdout",
     "output_type": "stream",
     "text": [
      "10000 0.8588483589555158\n",
      "20000 0.8566037952285063\n",
      "30000 0.857225813482543\n",
      "40000 0.8565859836525108\n"
     ]
    }
   ],
   "source": [
    "best_score = 0\n",
    "for sample_sz in range(10000, 50000, 10000):\n",
    "    set_rf_samples(sample_sz)\n",
    "    scores = train_and_eval(df, cv_idxs, rf)\n",
    "    score = np.array(scores).mean()\n",
    "    if score > best_score:\n",
    "        best_score = score\n",
    "    print(sample_sz, score)"
   ]
  },
  {
   "cell_type": "code",
   "execution_count": 288,
   "metadata": {
    "hidden": true
   },
   "outputs": [],
   "source": [
    "set_rf_samples(10000)\n",
    "rf = RandomForestClassifier(**best_params)"
   ]
  },
  {
   "cell_type": "code",
   "execution_count": 289,
   "metadata": {
    "hidden": true
   },
   "outputs": [
    {
     "data": {
      "text/plain": [
       "RandomForestClassifier(bootstrap=True, class_weight=None, criterion='entropy',\n",
       "            max_depth=None, max_features='sqrt', max_leaf_nodes=None,\n",
       "            min_impurity_split=1e-07, min_samples_leaf=30,\n",
       "            min_samples_split=2, min_weight_fraction_leaf=0.0,\n",
       "            n_estimators=50, n_jobs=-1, oob_score=False, random_state=None,\n",
       "            verbose=0, warm_start=False)"
      ]
     },
     "execution_count": 289,
     "metadata": {},
     "output_type": "execute_result"
    }
   ],
   "source": [
    "rf.fit(df, y)"
   ]
  },
  {
   "cell_type": "code",
   "execution_count": 292,
   "metadata": {
    "hidden": true
   },
   "outputs": [
    {
     "data": {
      "text/plain": [
       "array([0.08657, 0.10064, 0.00059, ..., 0.09457, 0.01315, 0.0029 ])"
      ]
     },
     "execution_count": 292,
     "metadata": {},
     "output_type": "execute_result"
    }
   ],
   "source": [
    "test_preds = rf.predict_proba(test_df)[:, 1]\n",
    "submit_df = pd.DataFrame({\"id\": test.id, \"stroke\":test_preds})\n",
    "test_preds"
   ]
  },
  {
   "cell_type": "code",
   "execution_count": 293,
   "metadata": {
    "hidden": true
   },
   "outputs": [],
   "source": [
    "submit_df.to_csv(\"rf_set_sample.csv\", index=False)"
   ]
  },
  {
   "cell_type": "code",
   "execution_count": 294,
   "metadata": {
    "hidden": true
   },
   "outputs": [
    {
     "data": {
      "text/plain": [
       "(array([13512.,  2073.,   972.,   800.,   661.,   328.,   131.,    72.,    43.,     9.]),\n",
       " array([0.     , 0.01858, 0.03715, 0.05573, 0.07431, 0.09289, 0.11146, 0.13004, 0.14862, 0.1672 , 0.18577]),\n",
       " <a list of 10 Patch objects>)"
      ]
     },
     "execution_count": 294,
     "metadata": {},
     "output_type": "execute_result"
    },
    {
     "data": {
      "image/png": "[encoded data removed]",
      "text/plain": [
       "<Figure size 432x288 with 1 Axes>"
      ]
     },
     "metadata": {},
     "output_type": "display_data"
    }
   ],
   "source": [
    "plt.hist(test_preds)"
   ]
  },
  {
   "cell_type": "code",
   "execution_count": 298,
   "metadata": {
    "hidden": true
   },
   "outputs": [
    {
     "data": {
      "text/plain": [
       "[(0.0619, 0.124], (0.0619, 0.124], (-0.000186, 0.0619], (-0.000186, 0.0619], (-0.000186, 0.0619], ..., (-0.000186, 0.0619], (-0.000186, 0.0619], (0.0619, 0.124], (-0.000186, 0.0619], (-0.000186, 0.0619]]\n",
       "Length: 18601\n",
       "Categories (3, object): [(-0.000186, 0.0619] < (0.0619, 0.124] < (0.124, 0.186]]"
      ]
     },
     "execution_count": 298,
     "metadata": {},
     "output_type": "execute_result"
    }
   ],
   "source": [
    "pd.cut(test_preds, bins=3)"
   ]
  },
  {
   "cell_type": "code",
   "execution_count": 302,
   "metadata": {
    "hidden": true
   },
   "outputs": [
    {
     "data": {
      "text/plain": [
       "0.01804147465437788"
      ]
     },
     "execution_count": 302,
     "metadata": {},
     "output_type": "execute_result"
    }
   ],
   "source": [
    "y.mean()"
   ]
  },
  {
   "cell_type": "code",
   "execution_count": 305,
   "metadata": {
    "hidden": true
   },
   "outputs": [],
   "source": [
    "percentile = np.percentile(test_preds, 100*(1 - y.mean()))"
   ]
  },
  {
   "cell_type": "code",
   "execution_count": 306,
   "metadata": {
    "hidden": true
   },
   "outputs": [
    {
     "data": {
      "text/plain": [
       "0.10462696095587505"
      ]
     },
     "execution_count": 306,
     "metadata": {},
     "output_type": "execute_result"
    }
   ],
   "source": [
    "percentile"
   ]
  },
  {
   "cell_type": "code",
   "execution_count": 308,
   "metadata": {
    "hidden": true
   },
   "outputs": [],
   "source": [
    "test_preds[test_preds > percentile] = 0.95"
   ]
  },
  {
   "cell_type": "code",
   "execution_count": 309,
   "metadata": {
    "hidden": true
   },
   "outputs": [],
   "source": [
    "submit_df = pd.DataFrame({\"id\": test.id, \"stroke\":test_preds})\n",
    "submit_df.to_csv(\"rf_set_sample_pushed_preds.csv\", index=False)"
   ]
  },
  {
   "cell_type": "markdown",
   "metadata": {},
   "source": [
    "### Binning\n",
    "\n",
    "age and bmi"
   ]
  },
  {
   "cell_type": "code",
   "execution_count": 315,
   "metadata": {},
   "outputs": [
    {
     "data": {
      "text/plain": [
       "0.8588483589555158"
      ]
     },
     "execution_count": 315,
     "metadata": {},
     "output_type": "execute_result"
    }
   ],
   "source": [
    "best_score"
   ]
  },
  {
   "cell_type": "code",
   "execution_count": 310,
   "metadata": {},
   "outputs": [
    {
     "data": {
      "text/plain": [
       "(array([3932., 3134., 3989., 4306., 4988., 5155., 5528., 4738., 3499., 4131.]),\n",
       " array([ 0.08 ,  8.272, 16.464, 24.656, 32.848, 41.04 , 49.232, 57.424, 65.616, 73.808, 82.   ]),\n",
       " <a list of 10 Patch objects>)"
      ]
     },
     "execution_count": 310,
     "metadata": {},
     "output_type": "execute_result"
    },
    {
     "data": {
      "image/png": "[encoded data removed]",
      "text/plain": [
       "<Figure size 432x288 with 1 Axes>"
      ]
     },
     "metadata": {},
     "output_type": "display_data"
    }
   ],
   "source": [
    "plt.hist(df.age)"
   ]
  },
  {
   "cell_type": "code",
   "execution_count": 327,
   "metadata": {},
   "outputs": [
    {
     "data": {
      "text/plain": [
       "(array([ 3625., 16815., 16856.,  4745.,  1063.,   241.,    40.,     6.,     4.,     5.]),\n",
       " array([10.1 , 18.85, 27.6 , 36.35, 45.1 , 53.85, 62.6 , 71.35, 80.1 , 88.85, 97.6 ]),\n",
       " <a list of 10 Patch objects>)"
      ]
     },
     "execution_count": 327,
     "metadata": {},
     "output_type": "execute_result"
    },
    {
     "data": {
      "image/png": "[encoded data removed]",
      "text/plain": [
       "<Figure size 432x288 with 1 Axes>"
      ]
     },
     "metadata": {},
     "output_type": "display_data"
    }
   ],
   "source": [
    "plt.hist(df.bmi)"
   ]
  },
  {
   "cell_type": "code",
   "execution_count": 324,
   "metadata": {},
   "outputs": [],
   "source": [
    "df['age_bins'] = pd.cut(df.age, range(0, 100, 10)).cat.codes\n",
    "df['bmi_bins'] = pd.cut(df.bmi, range(0, 100, 5)).cat.codes"
   ]
  },
  {
   "cell_type": "code",
   "execution_count": 349,
   "metadata": {},
   "outputs": [],
   "source": [
    "test_df['age_bins'] = pd.cut(test_df.age, range(0, 100, 10)).cat.codes\n",
    "test_df['bmi_bins'] = pd.cut(test_df.bmi, range(0, 100, 5)).cat.codes"
   ]
  },
  {
   "cell_type": "code",
   "execution_count": null,
   "metadata": {},
   "outputs": [],
   "source": []
  },
  {
   "cell_type": "code",
   "execution_count": 334,
   "metadata": {},
   "outputs": [
    {
     "data": {
      "text/html": [
       "<div>\n",
       "<table border=\"1\" class=\"dataframe\">\n",
       "  <thead>\n",
       "    <tr style=\"text-align: right;\">\n",
       "      <th></th>\n",
       "      <th>gender</th>\n",
       "      <th>age</th>\n",
       "      <th>hypertension</th>\n",
       "      <th>heart_disease</th>\n",
       "      <th>ever_married</th>\n",
       "      <th>work_type</th>\n",
       "      <th>Residence_type</th>\n",
       "      <th>avg_glucose_level</th>\n",
       "      <th>bmi</th>\n",
       "      <th>smoking_status</th>\n",
       "      <th>stroke</th>\n",
       "    </tr>\n",
       "  </thead>\n",
       "  <tbody>\n",
       "    <tr>\n",
       "      <th>0</th>\n",
       "      <td>Male</td>\n",
       "      <td>3.0</td>\n",
       "      <td>0</td>\n",
       "      <td>0</td>\n",
       "      <td>No</td>\n",
       "      <td>children</td>\n",
       "      <td>Rural</td>\n",
       "      <td>95.12</td>\n",
       "      <td>18.0</td>\n",
       "      <td>NaN</td>\n",
       "      <td>0</td>\n",
       "    </tr>\n",
       "    <tr>\n",
       "      <th>1</th>\n",
       "      <td>Male</td>\n",
       "      <td>58.0</td>\n",
       "      <td>1</td>\n",
       "      <td>0</td>\n",
       "      <td>Yes</td>\n",
       "      <td>Private</td>\n",
       "      <td>Urban</td>\n",
       "      <td>87.96</td>\n",
       "      <td>39.2</td>\n",
       "      <td>never smoked</td>\n",
       "      <td>0</td>\n",
       "    </tr>\n",
       "    <tr>\n",
       "      <th>2</th>\n",
       "      <td>Female</td>\n",
       "      <td>8.0</td>\n",
       "      <td>0</td>\n",
       "      <td>0</td>\n",
       "      <td>No</td>\n",
       "      <td>Private</td>\n",
       "      <td>Urban</td>\n",
       "      <td>110.89</td>\n",
       "      <td>17.6</td>\n",
       "      <td>NaN</td>\n",
       "      <td>0</td>\n",
       "    </tr>\n",
       "    <tr>\n",
       "      <th>3</th>\n",
       "      <td>Female</td>\n",
       "      <td>70.0</td>\n",
       "      <td>0</td>\n",
       "      <td>0</td>\n",
       "      <td>Yes</td>\n",
       "      <td>Private</td>\n",
       "      <td>Rural</td>\n",
       "      <td>69.04</td>\n",
       "      <td>35.9</td>\n",
       "      <td>formerly smoked</td>\n",
       "      <td>0</td>\n",
       "    </tr>\n",
       "    <tr>\n",
       "      <th>4</th>\n",
       "      <td>Male</td>\n",
       "      <td>14.0</td>\n",
       "      <td>0</td>\n",
       "      <td>0</td>\n",
       "      <td>No</td>\n",
       "      <td>Never_worked</td>\n",
       "      <td>Rural</td>\n",
       "      <td>161.28</td>\n",
       "      <td>19.1</td>\n",
       "      <td>NaN</td>\n",
       "      <td>0</td>\n",
       "    </tr>\n",
       "  </tbody>\n",
       "</table>\n",
       "</div>"
      ],
      "text/plain": [
       "   gender   age  hypertension  heart_disease ever_married     work_type  \\\n",
       "0    Male   3.0             0              0           No      children   \n",
       "1    Male  58.0             1              0          Yes       Private   \n",
       "2  Female   8.0             0              0           No       Private   \n",
       "3  Female  70.0             0              0          Yes       Private   \n",
       "4    Male  14.0             0              0           No  Never_worked   \n",
       "\n",
       "  Residence_type  avg_glucose_level   bmi   smoking_status stroke  \n",
       "0          Rural              95.12  18.0              NaN      0  \n",
       "1          Urban              87.96  39.2     never smoked      0  \n",
       "2          Urban             110.89  17.6              NaN      0  \n",
       "3          Rural              69.04  35.9  formerly smoked      0  \n",
       "4          Rural             161.28  19.1              NaN      0  "
      ]
     },
     "execution_count": 334,
     "metadata": {},
     "output_type": "execute_result"
    }
   ],
   "source": [
    "train.head()"
   ]
  },
  {
   "cell_type": "code",
   "execution_count": 335,
   "metadata": {},
   "outputs": [
    {
     "data": {
      "text/html": [
       "<div>\n",
       "<table border=\"1\" class=\"dataframe\">\n",
       "  <thead>\n",
       "    <tr style=\"text-align: right;\">\n",
       "      <th></th>\n",
       "      <th>gender</th>\n",
       "      <th>age</th>\n",
       "      <th>hypertension</th>\n",
       "      <th>heart_disease</th>\n",
       "      <th>ever_married</th>\n",
       "      <th>work_type</th>\n",
       "      <th>Residence_type</th>\n",
       "      <th>avg_glucose_level</th>\n",
       "      <th>bmi</th>\n",
       "      <th>smoking_status</th>\n",
       "      <th>bmi_na</th>\n",
       "      <th>age_bins</th>\n",
       "      <th>bmi_bins</th>\n",
       "    </tr>\n",
       "  </thead>\n",
       "  <tbody>\n",
       "    <tr>\n",
       "      <th>0</th>\n",
       "      <td>2</td>\n",
       "      <td>3.0</td>\n",
       "      <td>0</td>\n",
       "      <td>0</td>\n",
       "      <td>1</td>\n",
       "      <td>5</td>\n",
       "      <td>1</td>\n",
       "      <td>95.12</td>\n",
       "      <td>18.0</td>\n",
       "      <td>0</td>\n",
       "      <td>False</td>\n",
       "      <td>0</td>\n",
       "      <td>3</td>\n",
       "    </tr>\n",
       "    <tr>\n",
       "      <th>1</th>\n",
       "      <td>2</td>\n",
       "      <td>58.0</td>\n",
       "      <td>1</td>\n",
       "      <td>0</td>\n",
       "      <td>2</td>\n",
       "      <td>3</td>\n",
       "      <td>2</td>\n",
       "      <td>87.96</td>\n",
       "      <td>39.2</td>\n",
       "      <td>2</td>\n",
       "      <td>False</td>\n",
       "      <td>5</td>\n",
       "      <td>7</td>\n",
       "    </tr>\n",
       "    <tr>\n",
       "      <th>2</th>\n",
       "      <td>1</td>\n",
       "      <td>8.0</td>\n",
       "      <td>0</td>\n",
       "      <td>0</td>\n",
       "      <td>1</td>\n",
       "      <td>3</td>\n",
       "      <td>2</td>\n",
       "      <td>110.89</td>\n",
       "      <td>17.6</td>\n",
       "      <td>0</td>\n",
       "      <td>False</td>\n",
       "      <td>0</td>\n",
       "      <td>3</td>\n",
       "    </tr>\n",
       "    <tr>\n",
       "      <th>3</th>\n",
       "      <td>1</td>\n",
       "      <td>70.0</td>\n",
       "      <td>0</td>\n",
       "      <td>0</td>\n",
       "      <td>2</td>\n",
       "      <td>3</td>\n",
       "      <td>1</td>\n",
       "      <td>69.04</td>\n",
       "      <td>35.9</td>\n",
       "      <td>1</td>\n",
       "      <td>False</td>\n",
       "      <td>6</td>\n",
       "      <td>7</td>\n",
       "    </tr>\n",
       "    <tr>\n",
       "      <th>4</th>\n",
       "      <td>2</td>\n",
       "      <td>14.0</td>\n",
       "      <td>0</td>\n",
       "      <td>0</td>\n",
       "      <td>1</td>\n",
       "      <td>2</td>\n",
       "      <td>1</td>\n",
       "      <td>161.28</td>\n",
       "      <td>19.1</td>\n",
       "      <td>0</td>\n",
       "      <td>False</td>\n",
       "      <td>1</td>\n",
       "      <td>3</td>\n",
       "    </tr>\n",
       "  </tbody>\n",
       "</table>\n",
       "</div>"
      ],
      "text/plain": [
       "   gender   age  hypertension  heart_disease  ever_married  work_type  \\\n",
       "0       2   3.0             0              0             1          5   \n",
       "1       2  58.0             1              0             2          3   \n",
       "2       1   8.0             0              0             1          3   \n",
       "3       1  70.0             0              0             2          3   \n",
       "4       2  14.0             0              0             1          2   \n",
       "\n",
       "   Residence_type  avg_glucose_level   bmi  smoking_status bmi_na  age_bins  \\\n",
       "0               1              95.12  18.0               0  False         0   \n",
       "1               2              87.96  39.2               2  False         5   \n",
       "2               2             110.89  17.6               0  False         0   \n",
       "3               1              69.04  35.9               1  False         6   \n",
       "4               1             161.28  19.1               0  False         1   \n",
       "\n",
       "   bmi_bins  \n",
       "0         3  \n",
       "1         7  \n",
       "2         3  \n",
       "3         7  \n",
       "4         3  "
      ]
     },
     "execution_count": 335,
     "metadata": {},
     "output_type": "execute_result"
    }
   ],
   "source": [
    "df.head()"
   ]
  },
  {
   "cell_type": "code",
   "execution_count": 339,
   "metadata": {},
   "outputs": [],
   "source": [
    "n_random = 60\n",
    "random_param_grids = np.random.choice(param_grids, size=n_random, replace=False)"
   ]
  },
  {
   "cell_type": "code",
   "execution_count": 340,
   "metadata": {},
   "outputs": [],
   "source": [
    "reset_rf_samples()"
   ]
  },
  {
   "cell_type": "code",
   "execution_count": 341,
   "metadata": {
    "scrolled": true
   },
   "outputs": [
    {
     "name": "stdout",
     "output_type": "stream",
     "text": [
      "{'n_estimators': 50, 'criterion': 'entropy', 'max_features': 'log2', 'min_samples_leaf': 5, 'n_jobs': -1}\n",
      "0.8329733457777382 0.007516492190156628\n",
      "{'n_estimators': 60, 'criterion': 'entropy', 'max_features': 'log2', 'min_samples_leaf': 5, 'n_jobs': -1}\n",
      "0.8355271022886365 0.008590525120304292\n",
      "{'n_estimators': 60, 'criterion': 'entropy', 'max_features': 'sqrt', 'min_samples_leaf': 30, 'n_jobs': -1}\n",
      "0.8569076539675595 0.00994684309953329\n",
      "{'n_estimators': 70, 'criterion': 'gini', 'max_features': 'sqrt', 'min_samples_leaf': 30, 'n_jobs': -1}\n",
      "0.8565687042325397 0.007175519256760008\n",
      "{'n_estimators': 40, 'criterion': 'entropy', 'max_features': 'auto', 'min_samples_leaf': 1, 'n_jobs': -1}\n",
      "0.748058763242229 0.017637056391820633\n",
      "{'n_estimators': 50, 'criterion': 'gini', 'max_features': 'sqrt', 'min_samples_leaf': 5, 'n_jobs': -1}\n",
      "0.8321387356378349 0.010229922835435676\n",
      "{'n_estimators': 80, 'criterion': 'gini', 'max_features': 'log2', 'min_samples_leaf': 30, 'n_jobs': -1}\n",
      "0.8560821151158733 0.010384101793082377\n",
      "{'n_estimators': 40, 'criterion': 'gini', 'max_features': 'auto', 'min_samples_leaf': 5, 'n_jobs': -1}\n",
      "0.8267188341898404 0.012911914218289728\n",
      "{'n_estimators': 40, 'criterion': 'entropy', 'max_features': 'log2', 'min_samples_leaf': 10, 'n_jobs': -1}\n",
      "0.8386567687140383 0.0054930583880528775\n",
      "{'n_estimators': 80, 'criterion': 'entropy', 'max_features': 'log2', 'min_samples_leaf': 1, 'n_jobs': -1}\n",
      "0.7795793716403685 0.020241609823253487\n",
      "{'n_estimators': 40, 'criterion': 'gini', 'max_features': 'auto', 'min_samples_leaf': 10, 'n_jobs': -1}\n",
      "0.8433585264028652 0.01000285529470692\n",
      "{'n_estimators': 80, 'criterion': 'gini', 'max_features': 'sqrt', 'min_samples_leaf': 1, 'n_jobs': -1}\n",
      "0.782073663230847 0.0037612037215740907\n",
      "{'n_estimators': 40, 'criterion': 'entropy', 'max_features': 'sqrt', 'min_samples_leaf': 10, 'n_jobs': -1}\n",
      "0.8456473296548376 0.00958536284805376\n",
      "{'n_estimators': 50, 'criterion': 'gini', 'max_features': 'log2', 'min_samples_leaf': 30, 'n_jobs': -1}\n",
      "0.8545207418715008 0.01094453985867299\n",
      "{'n_estimators': 50, 'criterion': 'gini', 'max_features': 'log2', 'min_samples_leaf': 1, 'n_jobs': -1}\n",
      "0.7518737350189666 0.014626937270375763\n",
      "{'n_estimators': 60, 'criterion': 'entropy', 'max_features': 'log2', 'min_samples_leaf': 10, 'n_jobs': -1}\n",
      "0.8471147594495207 0.00880715969543863\n",
      "{'n_estimators': 90, 'criterion': 'gini', 'max_features': 'sqrt', 'min_samples_leaf': 5, 'n_jobs': -1}\n",
      "0.8391345827514736 0.006264388223514589\n",
      "{'n_estimators': 80, 'criterion': 'entropy', 'max_features': 'log2', 'min_samples_leaf': 5, 'n_jobs': -1}\n",
      "0.8370294836416898 0.007180472454625755\n",
      "{'n_estimators': 60, 'criterion': 'gini', 'max_features': 'log2', 'min_samples_leaf': 10, 'n_jobs': -1}\n",
      "0.8482076405948756 0.010239485841754173\n",
      "{'n_estimators': 40, 'criterion': 'entropy', 'max_features': 'auto', 'min_samples_leaf': 10, 'n_jobs': -1}\n",
      "0.844967905621609 0.004382963977582475\n",
      "{'n_estimators': 90, 'criterion': 'entropy', 'max_features': 'sqrt', 'min_samples_leaf': 30, 'n_jobs': -1}\n",
      "0.8596448662989428 0.008873908541019496\n",
      "{'n_estimators': 80, 'criterion': 'entropy', 'max_features': 'log2', 'min_samples_leaf': 10, 'n_jobs': -1}\n",
      "0.8464565678835413 0.007846181696889592\n",
      "{'n_estimators': 60, 'criterion': 'entropy', 'max_features': 'sqrt', 'min_samples_leaf': 1, 'n_jobs': -1}\n",
      "0.7652610463363941 0.01361702577033473\n",
      "{'n_estimators': 80, 'criterion': 'entropy', 'max_features': 'sqrt', 'min_samples_leaf': 5, 'n_jobs': -1}\n",
      "0.8375203334574823 0.00872401778407176\n",
      "{'n_estimators': 80, 'criterion': 'gini', 'max_features': 'sqrt', 'min_samples_leaf': 30, 'n_jobs': -1}\n",
      "0.8560987841413705 0.009663631419469604\n",
      "{'n_estimators': 40, 'criterion': 'gini', 'max_features': 'log2', 'min_samples_leaf': 1, 'n_jobs': -1}\n",
      "0.7499511193330111 0.012541129147351993\n",
      "{'n_estimators': 70, 'criterion': 'gini', 'max_features': 'log2', 'min_samples_leaf': 1, 'n_jobs': -1}\n",
      "0.7678196697768884 0.010170485272423192\n",
      "{'n_estimators': 40, 'criterion': 'entropy', 'max_features': 'sqrt', 'min_samples_leaf': 30, 'n_jobs': -1}\n",
      "0.8538286740083969 0.008640803034963365\n",
      "{'n_estimators': 40, 'criterion': 'gini', 'max_features': 'log2', 'min_samples_leaf': 30, 'n_jobs': -1}\n",
      "0.853850245496339 0.009310141801002774\n",
      "{'n_estimators': 70, 'criterion': 'entropy', 'max_features': 'log2', 'min_samples_leaf': 5, 'n_jobs': -1}\n",
      "0.8349405705943103 0.010445359159158162\n",
      "{'n_estimators': 40, 'criterion': 'entropy', 'max_features': 'auto', 'min_samples_leaf': 5, 'n_jobs': -1}\n",
      "0.8275815629578516 0.01181938386916448\n",
      "{'n_estimators': 70, 'criterion': 'gini', 'max_features': 'auto', 'min_samples_leaf': 10, 'n_jobs': -1}\n",
      "0.8473737961731125 0.006986033720712434\n",
      "{'n_estimators': 70, 'criterion': 'gini', 'max_features': 'sqrt', 'min_samples_leaf': 5, 'n_jobs': -1}\n",
      "0.8376822256446002 0.00950023896766813\n",
      "{'n_estimators': 90, 'criterion': 'entropy', 'max_features': 'sqrt', 'min_samples_leaf': 5, 'n_jobs': -1}\n",
      "0.8399974820505438 0.00705894152269904\n",
      "{'n_estimators': 50, 'criterion': 'entropy', 'max_features': 'auto', 'min_samples_leaf': 5, 'n_jobs': -1}\n",
      "0.8322162616631393 0.01328996705558415\n",
      "{'n_estimators': 90, 'criterion': 'entropy', 'max_features': 'log2', 'min_samples_leaf': 10, 'n_jobs': -1}\n",
      "0.8479057173173867 0.00820527588685189\n",
      "{'n_estimators': 70, 'criterion': 'gini', 'max_features': 'log2', 'min_samples_leaf': 5, 'n_jobs': -1}\n",
      "0.8373310381578799 0.007114680900436394\n",
      "{'n_estimators': 90, 'criterion': 'gini', 'max_features': 'sqrt', 'min_samples_leaf': 10, 'n_jobs': -1}\n",
      "0.8470096408914756 0.008763485388561004\n",
      "{'n_estimators': 90, 'criterion': 'entropy', 'max_features': 'auto', 'min_samples_leaf': 10, 'n_jobs': -1}\n",
      "0.8517643493185257 0.006827017848806205\n",
      "{'n_estimators': 40, 'criterion': 'entropy', 'max_features': 'log2', 'min_samples_leaf': 30, 'n_jobs': -1}\n",
      "0.8524894779989346 0.007926907973574687\n",
      "{'n_estimators': 80, 'criterion': 'gini', 'max_features': 'auto', 'min_samples_leaf': 10, 'n_jobs': -1}\n",
      "0.8467838948477411 0.008162635124545944\n",
      "{'n_estimators': 40, 'criterion': 'gini', 'max_features': 'sqrt', 'min_samples_leaf': 1, 'n_jobs': -1}\n",
      "0.7279774879170169 0.017433417653232017\n",
      "{'n_estimators': 80, 'criterion': 'entropy', 'max_features': 'sqrt', 'min_samples_leaf': 10, 'n_jobs': -1}\n",
      "0.8449416427129165 0.011011111656586196\n",
      "{'n_estimators': 90, 'criterion': 'entropy', 'max_features': 'auto', 'min_samples_leaf': 30, 'n_jobs': -1}\n",
      "0.8550387081767907 0.009669148396663304\n",
      "{'n_estimators': 50, 'criterion': 'gini', 'max_features': 'sqrt', 'min_samples_leaf': 30, 'n_jobs': -1}\n",
      "0.8555208631972736 0.007743197428370031\n",
      "{'n_estimators': 80, 'criterion': 'entropy', 'max_features': 'log2', 'min_samples_leaf': 30, 'n_jobs': -1}\n",
      "0.8556861173236177 0.007723395955175926\n",
      "{'n_estimators': 80, 'criterion': 'entropy', 'max_features': 'auto', 'min_samples_leaf': 5, 'n_jobs': -1}\n",
      "0.8399788462393726 0.00898972348190336\n",
      "{'n_estimators': 60, 'criterion': 'entropy', 'max_features': 'sqrt', 'min_samples_leaf': 5, 'n_jobs': -1}\n",
      "0.8361622365910142 0.012144311465791197\n",
      "{'n_estimators': 60, 'criterion': 'gini', 'max_features': 'sqrt', 'min_samples_leaf': 10, 'n_jobs': -1}\n",
      "0.8438133028099901 0.008774965270792748\n",
      "{'n_estimators': 80, 'criterion': 'gini', 'max_features': 'log2', 'min_samples_leaf': 1, 'n_jobs': -1}\n",
      "0.774533056754682 0.01034456367523709\n",
      "{'n_estimators': 90, 'criterion': 'gini', 'max_features': 'auto', 'min_samples_leaf': 1, 'n_jobs': -1}\n",
      "0.7847542073822931 0.012838332299054449\n",
      "{'n_estimators': 90, 'criterion': 'entropy', 'max_features': 'log2', 'min_samples_leaf': 1, 'n_jobs': -1}\n",
      "0.7853513306914104 0.009764165682798873\n",
      "{'n_estimators': 90, 'criterion': 'entropy', 'max_features': 'sqrt', 'min_samples_leaf': 1, 'n_jobs': -1}\n",
      "0.7854445943028727 0.013670224750861356\n",
      "{'n_estimators': 50, 'criterion': 'entropy', 'max_features': 'log2', 'min_samples_leaf': 1, 'n_jobs': -1}\n",
      "0.7538823697227461 0.01193144162317672\n",
      "{'n_estimators': 60, 'criterion': 'entropy', 'max_features': 'auto', 'min_samples_leaf': 5, 'n_jobs': -1}\n",
      "0.8368387506495129 0.009207429457772457\n",
      "{'n_estimators': 40, 'criterion': 'gini', 'max_features': 'sqrt', 'min_samples_leaf': 5, 'n_jobs': -1}\n",
      "0.8230900735296078 0.010603119424660707\n"
     ]
    },
    {
     "name": "stdout",
     "output_type": "stream",
     "text": [
      "{'n_estimators': 40, 'criterion': 'gini', 'max_features': 'auto', 'min_samples_leaf': 1, 'n_jobs': -1}\n",
      "0.7406245918003984 0.009558125313461528\n",
      "{'n_estimators': 80, 'criterion': 'gini', 'max_features': 'sqrt', 'min_samples_leaf': 10, 'n_jobs': -1}\n",
      "0.8493540178188794 0.007799032879184625\n",
      "{'n_estimators': 90, 'criterion': 'gini', 'max_features': 'sqrt', 'min_samples_leaf': 30, 'n_jobs': -1}\n",
      "0.8597820152490947 0.009532497173487935\n",
      "{'n_estimators': 90, 'criterion': 'gini', 'max_features': 'auto', 'min_samples_leaf': 10, 'n_jobs': -1}\n",
      "0.8477827542941665 0.008946895477664911\n"
     ]
    }
   ],
   "source": [
    "verbose = True\n",
    "init_score = 0\n",
    "\n",
    "for param_grid in random_param_grids:\n",
    "    rf = RandomForestClassifier(**param_grid)\n",
    "    scores = np.array(train_and_eval(df, cv_idxs, rf))\n",
    "    scores_mean, scores_std = scores.mean(), scores.std()\n",
    "    if scores.mean() > init_score:\n",
    "        init_score = scores_mean\n",
    "        best_params = param_grid\n",
    "    if verbose:\n",
    "        print(param_grid)\n",
    "        print(scores_mean, scores_std)"
   ]
  },
  {
   "cell_type": "code",
   "execution_count": 342,
   "metadata": {},
   "outputs": [
    {
     "data": {
      "text/plain": [
       "({'criterion': 'gini',\n",
       "  'max_features': 'sqrt',\n",
       "  'min_samples_leaf': 30,\n",
       "  'n_estimators': 90,\n",
       "  'n_jobs': -1},\n",
       " 0.8597820152490947)"
      ]
     },
     "execution_count": 342,
     "metadata": {},
     "output_type": "execute_result"
    }
   ],
   "source": [
    "best_params, init_score"
   ]
  },
  {
   "cell_type": "code",
   "execution_count": 343,
   "metadata": {},
   "outputs": [],
   "source": [
    "rf = RandomForestClassifier(**best_params)"
   ]
  },
  {
   "cell_type": "code",
   "execution_count": 354,
   "metadata": {},
   "outputs": [
    {
     "data": {
      "text/plain": [
       "(0.8573862509838678, 0.00798285552956845)"
      ]
     },
     "execution_count": 354,
     "metadata": {},
     "output_type": "execute_result"
    }
   ],
   "source": [
    "scores = np.array(train_and_eval(df, cv_idxs, rf))\n",
    "scores.mean(), scores.std()"
   ]
  },
  {
   "cell_type": "code",
   "execution_count": 345,
   "metadata": {},
   "outputs": [
    {
     "data": {
      "text/plain": [
       "RandomForestClassifier(bootstrap=True, class_weight=None, criterion='gini',\n",
       "            max_depth=None, max_features='sqrt', max_leaf_nodes=None,\n",
       "            min_impurity_split=1e-07, min_samples_leaf=30,\n",
       "            min_samples_split=2, min_weight_fraction_leaf=0.0,\n",
       "            n_estimators=90, n_jobs=-1, oob_score=False, random_state=None,\n",
       "            verbose=0, warm_start=False)"
      ]
     },
     "execution_count": 345,
     "metadata": {},
     "output_type": "execute_result"
    }
   ],
   "source": [
    "rf.fit(df, y)"
   ]
  },
  {
   "cell_type": "code",
   "execution_count": 346,
   "metadata": {},
   "outputs": [],
   "source": [
    "importances = permutation_importances_raw(rf, df, y, auc_metric)"
   ]
  },
  {
   "cell_type": "code",
   "execution_count": 347,
   "metadata": {},
   "outputs": [
    {
     "data": {
      "image/png": "[encoded data removed]",
      "text/plain": [
       "<Figure size 432x288 with 1 Axes>"
      ]
     },
     "metadata": {},
     "output_type": "display_data"
    }
   ],
   "source": [
    "imp_df = pd.DataFrame({\"Feature\": df.columns, \"Importance\": importances}).\\\n",
    "    set_index('Feature').sort_values('Importance')\n",
    "rfpimp.plot_importances(imp_df)"
   ]
  },
  {
   "cell_type": "code",
   "execution_count": 350,
   "metadata": {},
   "outputs": [
    {
     "data": {
      "text/plain": [
       "array([0.05793, 0.09284, 0.00009, ..., 0.08084, 0.00833, 0.00327])"
      ]
     },
     "execution_count": 350,
     "metadata": {},
     "output_type": "execute_result"
    }
   ],
   "source": [
    "test_preds = rf.predict_proba(test_df)[:, 1]\n",
    "submit_df = pd.DataFrame({\"id\": test.id, \"stroke\":test_preds})\n",
    "test_preds"
   ]
  },
  {
   "cell_type": "code",
   "execution_count": 351,
   "metadata": {},
   "outputs": [],
   "source": [
    "submit_df.to_csv(\"rf_with_bins.csv\", index=False)"
   ]
  },
  {
   "cell_type": "markdown",
   "metadata": {},
   "source": [
    "### XGBOOST"
   ]
  },
  {
   "cell_type": "code",
   "execution_count": 373,
   "metadata": {},
   "outputs": [],
   "source": [
    "import xgboost as xgb"
   ]
  },
  {
   "cell_type": "code",
   "execution_count": 378,
   "metadata": {},
   "outputs": [],
   "source": [
    "# numerical encoding for cats\n",
    "df, y, nas = proc_df(train, 'stroke')\n",
    "test_df,_,nas = proc_df(test, na_dict=nas)\n",
    "test_df.drop('id', 1, inplace=True)"
   ]
  },
  {
   "cell_type": "code",
   "execution_count": 379,
   "metadata": {
    "scrolled": true
   },
   "outputs": [
    {
     "data": {
      "text/html": [
       "<div>\n",
       "<table border=\"1\" class=\"dataframe\">\n",
       "  <thead>\n",
       "    <tr style=\"text-align: right;\">\n",
       "      <th></th>\n",
       "      <th>gender</th>\n",
       "      <th>age</th>\n",
       "      <th>hypertension</th>\n",
       "      <th>heart_disease</th>\n",
       "      <th>ever_married</th>\n",
       "      <th>work_type</th>\n",
       "      <th>Residence_type</th>\n",
       "      <th>avg_glucose_level</th>\n",
       "      <th>bmi</th>\n",
       "      <th>smoking_status</th>\n",
       "      <th>bmi_na</th>\n",
       "    </tr>\n",
       "  </thead>\n",
       "  <tbody>\n",
       "    <tr>\n",
       "      <th>0</th>\n",
       "      <td>2</td>\n",
       "      <td>3.0</td>\n",
       "      <td>0</td>\n",
       "      <td>0</td>\n",
       "      <td>1</td>\n",
       "      <td>5</td>\n",
       "      <td>1</td>\n",
       "      <td>95.12</td>\n",
       "      <td>18.0</td>\n",
       "      <td>0</td>\n",
       "      <td>False</td>\n",
       "    </tr>\n",
       "    <tr>\n",
       "      <th>1</th>\n",
       "      <td>2</td>\n",
       "      <td>58.0</td>\n",
       "      <td>1</td>\n",
       "      <td>0</td>\n",
       "      <td>2</td>\n",
       "      <td>3</td>\n",
       "      <td>2</td>\n",
       "      <td>87.96</td>\n",
       "      <td>39.2</td>\n",
       "      <td>2</td>\n",
       "      <td>False</td>\n",
       "    </tr>\n",
       "    <tr>\n",
       "      <th>2</th>\n",
       "      <td>1</td>\n",
       "      <td>8.0</td>\n",
       "      <td>0</td>\n",
       "      <td>0</td>\n",
       "      <td>1</td>\n",
       "      <td>3</td>\n",
       "      <td>2</td>\n",
       "      <td>110.89</td>\n",
       "      <td>17.6</td>\n",
       "      <td>0</td>\n",
       "      <td>False</td>\n",
       "    </tr>\n",
       "    <tr>\n",
       "      <th>3</th>\n",
       "      <td>1</td>\n",
       "      <td>70.0</td>\n",
       "      <td>0</td>\n",
       "      <td>0</td>\n",
       "      <td>2</td>\n",
       "      <td>3</td>\n",
       "      <td>1</td>\n",
       "      <td>69.04</td>\n",
       "      <td>35.9</td>\n",
       "      <td>1</td>\n",
       "      <td>False</td>\n",
       "    </tr>\n",
       "    <tr>\n",
       "      <th>4</th>\n",
       "      <td>2</td>\n",
       "      <td>14.0</td>\n",
       "      <td>0</td>\n",
       "      <td>0</td>\n",
       "      <td>1</td>\n",
       "      <td>2</td>\n",
       "      <td>1</td>\n",
       "      <td>161.28</td>\n",
       "      <td>19.1</td>\n",
       "      <td>0</td>\n",
       "      <td>False</td>\n",
       "    </tr>\n",
       "  </tbody>\n",
       "</table>\n",
       "</div>"
      ],
      "text/plain": [
       "   gender   age  hypertension  heart_disease  ever_married  work_type  \\\n",
       "0       2   3.0             0              0             1          5   \n",
       "1       2  58.0             1              0             2          3   \n",
       "2       1   8.0             0              0             1          3   \n",
       "3       1  70.0             0              0             2          3   \n",
       "4       2  14.0             0              0             1          2   \n",
       "\n",
       "   Residence_type  avg_glucose_level   bmi  smoking_status bmi_na  \n",
       "0               1              95.12  18.0               0  False  \n",
       "1               2              87.96  39.2               2  False  \n",
       "2               2             110.89  17.6               0  False  \n",
       "3               1              69.04  35.9               1  False  \n",
       "4               1             161.28  19.1               0  False  "
      ]
     },
     "execution_count": 379,
     "metadata": {},
     "output_type": "execute_result"
    }
   ],
   "source": [
    "df.head()"
   ]
  },
  {
   "cell_type": "code",
   "execution_count": 380,
   "metadata": {},
   "outputs": [],
   "source": [
    "trn_idx, val_idx = cv_idxs[0]\n",
    "\n",
    "trn_df = df.iloc[trn_idx] \n",
    "trn_y = y[trn_idx]\n",
    "val_df = df.iloc[val_idx]\n",
    "val_y = y[val_idx]"
   ]
  },
  {
   "cell_type": "code",
   "execution_count": 382,
   "metadata": {},
   "outputs": [],
   "source": [
    "dtrain = xgb.DMatrix(trn_df, trn_y)\n",
    "dval = xgb.DMatrix(val_df, val_y)"
   ]
  },
  {
   "cell_type": "code",
   "execution_count": 385,
   "metadata": {},
   "outputs": [],
   "source": [
    "params = {}"
   ]
  },
  {
   "cell_type": "code",
   "execution_count": 410,
   "metadata": {},
   "outputs": [],
   "source": [
    "params['objective'] = 'binary:logistic'\n",
    "params['eta'] = 0.001 #tradeoff with num_boost_round\n",
    "\n",
    "# model complexity\n",
    "params['max_depth'] = 5\n",
    "params['min_child_weight'] = 1\n",
    "params['gamma'] = 1\n",
    "# noise and variance\n",
    "params['subsample'] = 1\n",
    "params['colsample_bytree'] = 1\n",
    "params['colsample_bylevel'] = 1\n",
    "params['seed'] = 20\n",
    "params['eval_metric'] = 'auc'"
   ]
  },
  {
   "cell_type": "code",
   "execution_count": 411,
   "metadata": {},
   "outputs": [],
   "source": [
    "evals = [(dtrain, 'train'), (dval, 'valid')]"
   ]
  },
  {
   "cell_type": "code",
   "execution_count": 412,
   "metadata": {
    "scrolled": true
   },
   "outputs": [
    {
     "name": "stdout",
     "output_type": "stream",
     "text": [
      "[0]\ttrain-auc:0.839343\tvalid-auc:0.814743\n",
      "Multiple eval metrics have been passed: 'valid-auc' will be used for early stopping.\n",
      "\n",
      "Will train until valid-auc hasn't improved in 200 rounds.\n",
      "[20]\ttrain-auc:0.83941\tvalid-auc:0.81481\n",
      "[40]\ttrain-auc:0.840695\tvalid-auc:0.815081\n",
      "[60]\ttrain-auc:0.840717\tvalid-auc:0.815093\n",
      "[80]\ttrain-auc:0.840984\tvalid-auc:0.81547\n",
      "[100]\ttrain-auc:0.841847\tvalid-auc:0.817158\n",
      "[120]\ttrain-auc:0.841846\tvalid-auc:0.817188\n",
      "[140]\ttrain-auc:0.8419\tvalid-auc:0.817314\n",
      "[160]\ttrain-auc:0.842571\tvalid-auc:0.818108\n",
      "[180]\ttrain-auc:0.842662\tvalid-auc:0.818137\n",
      "[200]\ttrain-auc:0.852395\tvalid-auc:0.830687\n",
      "[220]\ttrain-auc:0.853188\tvalid-auc:0.830637\n",
      "[240]\ttrain-auc:0.853519\tvalid-auc:0.831031\n",
      "[260]\ttrain-auc:0.853832\tvalid-auc:0.831159\n",
      "[280]\ttrain-auc:0.854469\tvalid-auc:0.831289\n",
      "[300]\ttrain-auc:0.854541\tvalid-auc:0.831587\n",
      "[320]\ttrain-auc:0.854557\tvalid-auc:0.831615\n",
      "[340]\ttrain-auc:0.8547\tvalid-auc:0.831573\n",
      "[360]\ttrain-auc:0.854733\tvalid-auc:0.831568\n",
      "[380]\ttrain-auc:0.854936\tvalid-auc:0.831517\n",
      "[400]\ttrain-auc:0.855122\tvalid-auc:0.831541\n",
      "[420]\ttrain-auc:0.855157\tvalid-auc:0.831425\n",
      "[440]\ttrain-auc:0.856414\tvalid-auc:0.831329\n",
      "[460]\ttrain-auc:0.856737\tvalid-auc:0.8312\n",
      "[480]\ttrain-auc:0.8567\tvalid-auc:0.830578\n",
      "[500]\ttrain-auc:0.856843\tvalid-auc:0.830566\n",
      "[520]\ttrain-auc:0.857511\tvalid-auc:0.831827\n",
      "[540]\ttrain-auc:0.85764\tvalid-auc:0.832197\n",
      "[560]\ttrain-auc:0.857691\tvalid-auc:0.832282\n",
      "[580]\ttrain-auc:0.857827\tvalid-auc:0.832837\n",
      "[600]\ttrain-auc:0.857838\tvalid-auc:0.832851\n",
      "[620]\ttrain-auc:0.858206\tvalid-auc:0.833018\n",
      "[640]\ttrain-auc:0.858909\tvalid-auc:0.833539\n",
      "[660]\ttrain-auc:0.85915\tvalid-auc:0.833576\n",
      "[680]\ttrain-auc:0.85909\tvalid-auc:0.834099\n",
      "[700]\ttrain-auc:0.864578\tvalid-auc:0.844467\n",
      "[720]\ttrain-auc:0.864602\tvalid-auc:0.844478\n",
      "[740]\ttrain-auc:0.864624\tvalid-auc:0.844662\n",
      "[760]\ttrain-auc:0.864604\tvalid-auc:0.84465\n",
      "[780]\ttrain-auc:0.86459\tvalid-auc:0.844633\n",
      "[800]\ttrain-auc:0.864626\tvalid-auc:0.844349\n",
      "[820]\ttrain-auc:0.864627\tvalid-auc:0.844334\n",
      "[840]\ttrain-auc:0.864643\tvalid-auc:0.844364\n",
      "[860]\ttrain-auc:0.865688\tvalid-auc:0.845379\n",
      "[880]\ttrain-auc:0.866301\tvalid-auc:0.846813\n",
      "[900]\ttrain-auc:0.866397\tvalid-auc:0.84692\n",
      "[920]\ttrain-auc:0.866387\tvalid-auc:0.846914\n",
      "[940]\ttrain-auc:0.866374\tvalid-auc:0.84694\n",
      "[960]\ttrain-auc:0.86624\tvalid-auc:0.84674\n",
      "[980]\ttrain-auc:0.866228\tvalid-auc:0.846758\n",
      "[1000]\ttrain-auc:0.866062\tvalid-auc:0.846571\n",
      "[1020]\ttrain-auc:0.866054\tvalid-auc:0.846577\n",
      "[1040]\ttrain-auc:0.86633\tvalid-auc:0.84673\n",
      "[1060]\ttrain-auc:0.866664\tvalid-auc:0.846765\n",
      "[1080]\ttrain-auc:0.866932\tvalid-auc:0.847015\n",
      "[1100]\ttrain-auc:0.867079\tvalid-auc:0.847259\n",
      "[1120]\ttrain-auc:0.867162\tvalid-auc:0.847232\n",
      "[1140]\ttrain-auc:0.867198\tvalid-auc:0.847266\n",
      "[1160]\ttrain-auc:0.867229\tvalid-auc:0.847273\n",
      "[1180]\ttrain-auc:0.867426\tvalid-auc:0.847027\n",
      "[1200]\ttrain-auc:0.867347\tvalid-auc:0.846847\n",
      "[1220]\ttrain-auc:0.867516\tvalid-auc:0.847078\n",
      "[1240]\ttrain-auc:0.867557\tvalid-auc:0.847212\n",
      "[1260]\ttrain-auc:0.867814\tvalid-auc:0.847347\n",
      "[1280]\ttrain-auc:0.868207\tvalid-auc:0.847082\n",
      "[1300]\ttrain-auc:0.868339\tvalid-auc:0.847091\n",
      "[1320]\ttrain-auc:0.868392\tvalid-auc:0.847934\n",
      "[1340]\ttrain-auc:0.868611\tvalid-auc:0.847869\n",
      "[1360]\ttrain-auc:0.869352\tvalid-auc:0.847955\n",
      "[1380]\ttrain-auc:0.869499\tvalid-auc:0.848017\n",
      "[1400]\ttrain-auc:0.869564\tvalid-auc:0.84818\n",
      "[1420]\ttrain-auc:0.869612\tvalid-auc:0.848204\n",
      "[1440]\ttrain-auc:0.869797\tvalid-auc:0.848698\n",
      "[1460]\ttrain-auc:0.869872\tvalid-auc:0.848675\n",
      "[1480]\ttrain-auc:0.869949\tvalid-auc:0.848567\n",
      "[1500]\ttrain-auc:0.870036\tvalid-auc:0.848558\n",
      "[1520]\ttrain-auc:0.869963\tvalid-auc:0.848389\n",
      "[1540]\ttrain-auc:0.870096\tvalid-auc:0.848433\n",
      "[1560]\ttrain-auc:0.870279\tvalid-auc:0.84916\n",
      "[1580]\ttrain-auc:0.870667\tvalid-auc:0.849387\n",
      "[1600]\ttrain-auc:0.870973\tvalid-auc:0.849328\n",
      "[1620]\ttrain-auc:0.871078\tvalid-auc:0.849404\n",
      "[1640]\ttrain-auc:0.871324\tvalid-auc:0.849415\n",
      "[1660]\ttrain-auc:0.871508\tvalid-auc:0.849393\n",
      "[1680]\ttrain-auc:0.871481\tvalid-auc:0.849322\n",
      "[1700]\ttrain-auc:0.871711\tvalid-auc:0.849316\n",
      "[1720]\ttrain-auc:0.871782\tvalid-auc:0.849281\n",
      "[1740]\ttrain-auc:0.87188\tvalid-auc:0.849318\n",
      "[1760]\ttrain-auc:0.871907\tvalid-auc:0.849376\n",
      "[1780]\ttrain-auc:0.872009\tvalid-auc:0.849375\n",
      "[1800]\ttrain-auc:0.872007\tvalid-auc:0.849302\n",
      "[1820]\ttrain-auc:0.872028\tvalid-auc:0.849301\n",
      "[1840]\ttrain-auc:0.872344\tvalid-auc:0.849579\n",
      "[1860]\ttrain-auc:0.872368\tvalid-auc:0.849743\n",
      "[1880]\ttrain-auc:0.872393\tvalid-auc:0.849702\n",
      "[1900]\ttrain-auc:0.872868\tvalid-auc:0.849917\n",
      "[1920]\ttrain-auc:0.873017\tvalid-auc:0.849978\n",
      "[1940]\ttrain-auc:0.873092\tvalid-auc:0.850055\n",
      "[1960]\ttrain-auc:0.873152\tvalid-auc:0.850054\n",
      "[1980]\ttrain-auc:0.873204\tvalid-auc:0.850061\n",
      "[2000]\ttrain-auc:0.8734\tvalid-auc:0.850059\n",
      "[2020]\ttrain-auc:0.878576\tvalid-auc:0.85463\n",
      "[2040]\ttrain-auc:0.878777\tvalid-auc:0.854693\n",
      "[2060]\ttrain-auc:0.879071\tvalid-auc:0.85466\n",
      "[2080]\ttrain-auc:0.879175\tvalid-auc:0.854984\n",
      "[2100]\ttrain-auc:0.879207\tvalid-auc:0.855149\n",
      "[2120]\ttrain-auc:0.879286\tvalid-auc:0.855195\n",
      "[2140]\ttrain-auc:0.879338\tvalid-auc:0.855357\n",
      "[2160]\ttrain-auc:0.879427\tvalid-auc:0.855774\n",
      "[2180]\ttrain-auc:0.879505\tvalid-auc:0.85594\n",
      "[2200]\ttrain-auc:0.879991\tvalid-auc:0.856053\n",
      "[2220]\ttrain-auc:0.88028\tvalid-auc:0.855836\n",
      "[2240]\ttrain-auc:0.880423\tvalid-auc:0.85566\n",
      "[2260]\ttrain-auc:0.880422\tvalid-auc:0.855761\n",
      "[2280]\ttrain-auc:0.880599\tvalid-auc:0.855635\n",
      "[2300]\ttrain-auc:0.880712\tvalid-auc:0.855795\n",
      "[2320]\ttrain-auc:0.880783\tvalid-auc:0.85568\n",
      "[2340]\ttrain-auc:0.8809\tvalid-auc:0.855613\n",
      "[2360]\ttrain-auc:0.881168\tvalid-auc:0.855315\n",
      "[2380]\ttrain-auc:0.881285\tvalid-auc:0.855189\n",
      "[2400]\ttrain-auc:0.881527\tvalid-auc:0.854883\n",
      "Stopping. Best iteration:\n",
      "[2201]\ttrain-auc:0.880065\tvalid-auc:0.85617\n",
      "\n"
     ]
    }
   ],
   "source": [
    "model = xgb.train(params=params, dtrain=dtrain,evals=evals, maximize=True,\n",
    "                  num_boost_round=10000,  early_stopping_rounds=200, verbose_eval=20)"
   ]
  },
  {
   "cell_type": "code",
   "execution_count": 403,
   "metadata": {},
   "outputs": [
    {
     "data": {
      "text/plain": [
       "(0.85617, 2201)"
      ]
     },
     "execution_count": 403,
     "metadata": {},
     "output_type": "execute_result"
    }
   ],
   "source": [
    "model.best_score, model.best_iteration"
   ]
  },
  {
   "cell_type": "code",
   "execution_count": 432,
   "metadata": {},
   "outputs": [],
   "source": [
    "params['objective'] = 'binary:logistic'\n",
    "params['eta'] = 0.01 #tradeoff with num_boost_round\n",
    "\n",
    "# model complexity\n",
    "params['max_depth'] = 5\n",
    "params['min_child_weight'] = 1\n",
    "params['gamma'] = 1\n",
    "# noise and variance\n",
    "params['subsample'] = 1\n",
    "params['colsample_bytree'] = 1\n",
    "params['colsample_bylevel'] = 1\n",
    "params['seed'] = 20\n",
    "params['eval_metric'] = 'auc'\n",
    "\n",
    "params = {\n",
    "    'objective': ['binary:logistic'],\n",
    "    'eta': [0.01],\n",
    "    'max_depth': range(3,10,1),\n",
    "    'min_child_weight': [1,3,5,10,30],\n",
    "    'gamma': [1,10,20,100],\n",
    "    'subsample': np.linspace(0.5, 1, 6),\n",
    "    'colsample_bytree': np.linspace(0.5, 1, 6),\n",
    "    'colsample_bylevel': np.linspace(0.5, 1, 6),\n",
    "    'seed': [20],\n",
    "    'eval_metric': ['auc']\n",
    "    \n",
    "}"
   ]
  },
  {
   "cell_type": "code",
   "execution_count": 433,
   "metadata": {},
   "outputs": [],
   "source": [
    "param_grids = [dict(zip(params, v)) for v in product(*params.values())]"
   ]
  },
  {
   "cell_type": "code",
   "execution_count": 434,
   "metadata": {},
   "outputs": [],
   "source": [
    "# pick 100 random param grids\n",
    "n_random = 100\n",
    "random_param_grids = np.random.choice(param_grids, size=n_random, replace=False)"
   ]
  },
  {
   "cell_type": "code",
   "execution_count": 435,
   "metadata": {},
   "outputs": [
    {
     "data": {
      "text/plain": [
       "30240"
      ]
     },
     "execution_count": 435,
     "metadata": {},
     "output_type": "execute_result"
    }
   ],
   "source": [
    "len(param_grids)"
   ]
  },
  {
   "cell_type": "code",
   "execution_count": 436,
   "metadata": {},
   "outputs": [],
   "source": [
    "best_round = 22002"
   ]
  },
  {
   "cell_type": "code",
   "execution_count": 437,
   "metadata": {},
   "outputs": [
    {
     "data": {
      "text/plain": [
       "(0.859545, 1160)"
      ]
     },
     "execution_count": 437,
     "metadata": {},
     "output_type": "execute_result"
    }
   ],
   "source": [
    "model.best_score, model.best_iteration"
   ]
  },
  {
   "cell_type": "code",
   "execution_count": 439,
   "metadata": {},
   "outputs": [],
   "source": [
    "# create dtrain and dval for every cv pair\n",
    "dtrain_dval_pairs = []\n",
    "for trn_idx, val_idx in cv_idxs:\n",
    "    trn_df = df.iloc[trn_idx] \n",
    "    trn_y = y[trn_idx]\n",
    "    val_df = df.iloc[val_idx]\n",
    "    val_y = y[val_idx]\n",
    "    dtrain = xgb.DMatrix(trn_df, trn_y)\n",
    "    dval = xgb.DMatrix(val_df, val_y)    \n",
    "    dtrain_dval_pairs.append((dtrain, dval))"
   ]
  },
  {
   "cell_type": "code",
   "execution_count": 443,
   "metadata": {
    "scrolled": true
   },
   "outputs": [
    {
     "name": "stdout",
     "output_type": "stream",
     "text": [
      "0.859545\n",
      "0.856406\n",
      "0.859197\n",
      "0.85822\n",
      "0.88587\n",
      "{'objective': 'binary:logistic', 'eta': 0.01, 'max_depth': 3, 'min_child_weight': 1, 'gamma': 1, 'subsample': 0.5, 'colsample_bytree': 0.5, 'colsample_bylevel': 0.5, 'seed': 20, 'eval_metric': 'auc'} 0.8638475999999999\n",
      "0.859288\n",
      "0.855371\n",
      "0.860534\n",
      "0.859557\n",
      "0.882263\n",
      "0.859288\n",
      "0.855371\n",
      "0.860534\n",
      "0.859557\n",
      "0.882263\n",
      "0.860163\n",
      "0.857771\n",
      "0.860918\n",
      "0.860963\n",
      "0.884774\n",
      "{'objective': 'binary:logistic', 'eta': 0.01, 'max_depth': 3, 'min_child_weight': 1, 'gamma': 1, 'subsample': 0.5, 'colsample_bytree': 0.5, 'colsample_bylevel': 0.8, 'seed': 20, 'eval_metric': 'auc'} 0.8649178\n",
      "0.860163\n",
      "0.857771\n",
      "0.860918\n",
      "0.860963\n",
      "0.884774\n",
      "0.858985\n",
      "0.856228\n",
      "0.860639\n",
      "0.860829\n",
      "0.884518\n",
      "0.859438\n",
      "0.85702\n",
      "0.860751\n",
      "0.860119\n",
      "0.883952\n",
      "0.859438\n",
      "0.85702\n",
      "0.860751\n",
      "0.860119\n",
      "0.883952\n",
      "0.859743\n",
      "0.857186\n",
      "0.860279\n",
      "0.860582\n",
      "0.884387\n",
      "0.859743\n",
      "0.857186\n",
      "0.860279\n",
      "0.860582\n",
      "0.884387\n",
      "0.860752\n",
      "0.857882\n",
      "0.860025\n",
      "0.860774\n",
      "0.885169\n",
      "{'objective': 'binary:logistic', 'eta': 0.01, 'max_depth': 3, 'min_child_weight': 1, 'gamma': 1, 'subsample': 0.5, 'colsample_bytree': 0.6, 'colsample_bylevel': 0.9, 'seed': 20, 'eval_metric': 'auc'} 0.8649204000000001\n",
      "0.86024\n",
      "0.85859\n",
      "0.859535\n",
      "0.861007\n",
      "0.884172\n",
      "0.859831\n",
      "0.853776\n",
      "0.859766\n",
      "0.858713\n",
      "0.883998\n",
      "0.860077\n",
      "0.856954\n",
      "0.859123\n",
      "0.859579\n",
      "0.884413\n",
      "0.860077\n",
      "0.856954\n",
      "0.859123\n",
      "0.859579\n",
      "0.884413\n",
      "0.860836\n",
      "0.858964\n",
      "0.858599\n",
      "0.859768\n",
      "0.884747\n",
      "0.860092\n",
      "0.858365\n",
      "0.859472\n",
      "0.859965\n",
      "0.884602\n",
      "0.859793\n",
      "0.858977\n",
      "0.858776\n",
      "0.860341\n",
      "0.883638\n",
      "0.859375\n",
      "0.858099\n",
      "0.858862\n",
      "0.85913\n",
      "0.88509\n",
      "0.859375\n",
      "0.858099\n",
      "0.858862\n",
      "0.85913\n",
      "0.88509\n",
      "0.860197\n",
      "0.85843\n",
      "0.859755\n",
      "0.86017\n",
      "0.885322\n",
      "0.859595\n",
      "0.858837\n",
      "0.858298\n"
     ]
    },
    {
     "ename": "KeyboardInterrupt",
     "evalue": "",
     "output_type": "error",
     "traceback": [
      "\u001b[0;31m---------------------------------------------------------------------------\u001b[0m",
      "\u001b[0;31mKeyboardInterrupt\u001b[0m                         Traceback (most recent call last)",
      "\u001b[0;32m<ipython-input-443-77136a8f87bc>\u001b[0m in \u001b[0;36m<module>\u001b[0;34m()\u001b[0m\n\u001b[1;32m     11\u001b[0m \u001b[0;34m\u001b[0m\u001b[0m\n\u001b[1;32m     12\u001b[0m         model = xgb.train(params=param_grid, dtrain=dtrain,evals=evals, maximize=True,\n\u001b[0;32m---> 13\u001b[0;31m                       num_boost_round=best_round,  early_stopping_rounds=200, verbose_eval=False)\n\u001b[0m\u001b[1;32m     14\u001b[0m \u001b[0;34m\u001b[0m\u001b[0m\n\u001b[1;32m     15\u001b[0m         \u001b[0mmodel_cv_score\u001b[0m\u001b[0;34m,\u001b[0m \u001b[0mmodel_cv_iteration\u001b[0m \u001b[0;34m=\u001b[0m \u001b[0mmodel\u001b[0m\u001b[0;34m.\u001b[0m\u001b[0mbest_score\u001b[0m\u001b[0;34m,\u001b[0m \u001b[0mmodel\u001b[0m\u001b[0;34m.\u001b[0m\u001b[0mbest_iteration\u001b[0m\u001b[0;34m\u001b[0m\u001b[0m\n",
      "\u001b[0;32m~/anaconda3/envs/fastai/lib/python3.6/site-packages/xgboost/training.py\u001b[0m in \u001b[0;36mtrain\u001b[0;34m(params, dtrain, num_boost_round, evals, obj, feval, maximize, early_stopping_rounds, evals_result, verbose_eval, xgb_model, callbacks, learning_rates)\u001b[0m\n\u001b[1;32m    202\u001b[0m                            \u001b[0mevals\u001b[0m\u001b[0;34m=\u001b[0m\u001b[0mevals\u001b[0m\u001b[0;34m,\u001b[0m\u001b[0;34m\u001b[0m\u001b[0m\n\u001b[1;32m    203\u001b[0m                            \u001b[0mobj\u001b[0m\u001b[0;34m=\u001b[0m\u001b[0mobj\u001b[0m\u001b[0;34m,\u001b[0m \u001b[0mfeval\u001b[0m\u001b[0;34m=\u001b[0m\u001b[0mfeval\u001b[0m\u001b[0;34m,\u001b[0m\u001b[0;34m\u001b[0m\u001b[0m\n\u001b[0;32m--> 204\u001b[0;31m                            xgb_model=xgb_model, callbacks=callbacks)\n\u001b[0m\u001b[1;32m    205\u001b[0m \u001b[0;34m\u001b[0m\u001b[0m\n\u001b[1;32m    206\u001b[0m \u001b[0;34m\u001b[0m\u001b[0m\n",
      "\u001b[0;32m~/anaconda3/envs/fastai/lib/python3.6/site-packages/xgboost/training.py\u001b[0m in \u001b[0;36m_train_internal\u001b[0;34m(params, dtrain, num_boost_round, evals, obj, feval, xgb_model, callbacks)\u001b[0m\n\u001b[1;32m     82\u001b[0m         \u001b[0;31m# check evaluation result.\u001b[0m\u001b[0;34m\u001b[0m\u001b[0;34m\u001b[0m\u001b[0m\n\u001b[1;32m     83\u001b[0m         \u001b[0;32mif\u001b[0m \u001b[0mlen\u001b[0m\u001b[0;34m(\u001b[0m\u001b[0mevals\u001b[0m\u001b[0;34m)\u001b[0m \u001b[0;34m!=\u001b[0m \u001b[0;36m0\u001b[0m\u001b[0;34m:\u001b[0m\u001b[0;34m\u001b[0m\u001b[0m\n\u001b[0;32m---> 84\u001b[0;31m             \u001b[0mbst_eval_set\u001b[0m \u001b[0;34m=\u001b[0m \u001b[0mbst\u001b[0m\u001b[0;34m.\u001b[0m\u001b[0meval_set\u001b[0m\u001b[0;34m(\u001b[0m\u001b[0mevals\u001b[0m\u001b[0;34m,\u001b[0m \u001b[0mi\u001b[0m\u001b[0;34m,\u001b[0m \u001b[0mfeval\u001b[0m\u001b[0;34m)\u001b[0m\u001b[0;34m\u001b[0m\u001b[0m\n\u001b[0m\u001b[1;32m     85\u001b[0m             \u001b[0;32mif\u001b[0m \u001b[0misinstance\u001b[0m\u001b[0;34m(\u001b[0m\u001b[0mbst_eval_set\u001b[0m\u001b[0;34m,\u001b[0m \u001b[0mSTRING_TYPES\u001b[0m\u001b[0;34m)\u001b[0m\u001b[0;34m:\u001b[0m\u001b[0;34m\u001b[0m\u001b[0m\n\u001b[1;32m     86\u001b[0m                 \u001b[0mmsg\u001b[0m \u001b[0;34m=\u001b[0m \u001b[0mbst_eval_set\u001b[0m\u001b[0;34m\u001b[0m\u001b[0m\n",
      "\u001b[0;32m~/anaconda3/envs/fastai/lib/python3.6/site-packages/xgboost/core.py\u001b[0m in \u001b[0;36meval_set\u001b[0;34m(self, evals, iteration, feval)\u001b[0m\n\u001b[1;32m    957\u001b[0m                                               \u001b[0mdmats\u001b[0m\u001b[0;34m,\u001b[0m \u001b[0mevnames\u001b[0m\u001b[0;34m,\u001b[0m\u001b[0;34m\u001b[0m\u001b[0m\n\u001b[1;32m    958\u001b[0m                                               \u001b[0mc_bst_ulong\u001b[0m\u001b[0;34m(\u001b[0m\u001b[0mlen\u001b[0m\u001b[0;34m(\u001b[0m\u001b[0mevals\u001b[0m\u001b[0;34m)\u001b[0m\u001b[0;34m)\u001b[0m\u001b[0;34m,\u001b[0m\u001b[0;34m\u001b[0m\u001b[0m\n\u001b[0;32m--> 959\u001b[0;31m                                               ctypes.byref(msg)))\n\u001b[0m\u001b[1;32m    960\u001b[0m         \u001b[0mres\u001b[0m \u001b[0;34m=\u001b[0m \u001b[0mmsg\u001b[0m\u001b[0;34m.\u001b[0m\u001b[0mvalue\u001b[0m\u001b[0;34m.\u001b[0m\u001b[0mdecode\u001b[0m\u001b[0;34m(\u001b[0m\u001b[0;34m)\u001b[0m\u001b[0;34m\u001b[0m\u001b[0m\n\u001b[1;32m    961\u001b[0m         \u001b[0;32mif\u001b[0m \u001b[0mfeval\u001b[0m \u001b[0;32mis\u001b[0m \u001b[0;32mnot\u001b[0m \u001b[0;32mNone\u001b[0m\u001b[0;34m:\u001b[0m\u001b[0;34m\u001b[0m\u001b[0m\n",
      "\u001b[0;31mKeyboardInterrupt\u001b[0m: "
     ]
    }
   ],
   "source": [
    "best_score = 0\n",
    "best_params = None\n",
    "best_iteration = None\n",
    "\n",
    "for param_grid in param_grids:\n",
    "    scores = []\n",
    "    iterations = []\n",
    "    for dtrain, dval in dtrain_dval_pairs: \n",
    "        \n",
    "        evals = [(dtrain, 'train'), (dval, 'valid')]\n",
    "        \n",
    "        model = xgb.train(params=param_grid, dtrain=dtrain,evals=evals, maximize=True,\n",
    "                      num_boost_round=best_round,  early_stopping_rounds=200, verbose_eval=False)\n",
    "\n",
    "        model_cv_score, model_cv_iteration = model.best_score, model.best_iteration\n",
    "        scores.append(model_cv_score)\n",
    "        iterations.append(model_cv_iteration)\n",
    "        print(model_cv_score)\n",
    "    \n",
    "    param_score, param_iteration = np.array(scores).mean(), np.array(iterations).mean()\n",
    "    \n",
    "    if param_score > best_score:\n",
    "        best_score = param_score\n",
    "        best_iteration = param_iterations\n",
    "        best_params = param_grid\n",
    "\n",
    "        print(best_params, best_score)"
   ]
  },
  {
   "cell_type": "markdown",
   "metadata": {},
   "source": [
    "### Final model"
   ]
  },
  {
   "cell_type": "code",
   "execution_count": 444,
   "metadata": {},
   "outputs": [
    {
     "data": {
      "text/plain": [
       "(0.8649204000000001,\n",
       " {'colsample_bylevel': 0.9,\n",
       "  'colsample_bytree': 0.6,\n",
       "  'eta': 0.01,\n",
       "  'eval_metric': 'auc',\n",
       "  'gamma': 1,\n",
       "  'max_depth': 3,\n",
       "  'min_child_weight': 1,\n",
       "  'objective': 'binary:logistic',\n",
       "  'seed': 20,\n",
       "  'subsample': 0.5},\n",
       " 379.4)"
      ]
     },
     "execution_count": 444,
     "metadata": {},
     "output_type": "execute_result"
    }
   ],
   "source": [
    "best_score, best_params, best_iteration "
   ]
  },
  {
   "cell_type": "code",
   "execution_count": 445,
   "metadata": {},
   "outputs": [],
   "source": [
    "dtrain = xgb.DMatrix(df, y)\n",
    "dtest = xgb.DMatrix(test_df)"
   ]
  },
  {
   "cell_type": "code",
   "execution_count": 446,
   "metadata": {},
   "outputs": [],
   "source": [
    "model = xgb.train(params=best_params, dtrain=dtrain,num_boost_round=int(best_iteration),verbose_eval=False)"
   ]
  },
  {
   "cell_type": "code",
   "execution_count": 448,
   "metadata": {},
   "outputs": [],
   "source": [
    "test_preds = model.predict(dtest)"
   ]
  },
  {
   "cell_type": "code",
   "execution_count": 450,
   "metadata": {},
   "outputs": [],
   "source": [
    "submit_df = pd.DataFrame({\"id\": test.id, \"stroke\":test_preds})\n",
    "submit_df.to_csv(\"xgb.csv\", index=False)"
   ]
  },
  {
   "cell_type": "code",
   "execution_count": null,
   "metadata": {},
   "outputs": [],
   "source": []
  }
 ],
 "metadata": {
  "kernelspec": {
   "display_name": "Python 3",
   "language": "python",
   "name": "python3"
  },
  "language_info": {
   "codemirror_mode": {
    "name": "ipython",
    "version": 3
   },
   "file_extension": ".py",
   "mimetype": "text/x-python",
   "name": "python",
   "nbconvert_exporter": "python",
   "pygments_lexer": "ipython3",
   "version": "3.6.4"
  }
 },
 "nbformat": 4,
 "nbformat_minor": 2
}
