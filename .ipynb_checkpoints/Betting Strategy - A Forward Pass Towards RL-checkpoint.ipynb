{
 "cells": [
  {
   "cell_type": "code",
   "execution_count": 43,
   "metadata": {},
   "outputs": [],
   "source": [
    "db_uname='power_user'\n",
    "db_pswd='deepodds_usf'\n",
    "db_host='ec2-50-112-29-56.us-west-2.compute.amazonaws.com'\n",
    "db_name='deepodds'"
   ]
  },
  {
   "cell_type": "code",
   "execution_count": 44,
   "metadata": {},
   "outputs": [],
   "source": [
    "import pandas as pd"
   ]
  },
  {
   "cell_type": "code",
   "execution_count": 45,
   "metadata": {},
   "outputs": [],
   "source": [
    "from sqlalchemy import create_engine"
   ]
  },
  {
   "cell_type": "code",
   "execution_count": 46,
   "metadata": {},
   "outputs": [],
   "source": [
    "def create_connection_postgre():\n",
    "    \"\"\"\n",
    "    Function to create SQL connection object\n",
    "    :return: SQL Connection object\n",
    "    \"\"\"\n",
    "    engine = create_engine('postgresql://{}:{}@{}/{}'.format(\n",
    "        db_uname, db_pswd, db_host, db_name))\n",
    "    conn = engine.connect()\n",
    "    return conn"
   ]
  },
  {
   "cell_type": "code",
   "execution_count": 47,
   "metadata": {},
   "outputs": [],
   "source": [
    "read_matches = \"\"\"\n",
    "select * from base_matches\n",
    "where season = '2015/2016'\n",
    "\"\"\""
   ]
  },
  {
   "cell_type": "code",
   "execution_count": 48,
   "metadata": {},
   "outputs": [],
   "source": [
    "read_teams = '''\n",
    "select * from base_teams;\n",
    "'''"
   ]
  },
  {
   "cell_type": "code",
   "execution_count": 107,
   "metadata": {},
   "outputs": [],
   "source": [
    "read_match_outcome = '''\n",
    "select match_api_id, home_team_goal, away_team_goal  \n",
    "from \n",
    "base_matches;\n",
    "'''"
   ]
  },
  {
   "cell_type": "code",
   "execution_count": 108,
   "metadata": {},
   "outputs": [],
   "source": [
    "conn = create_connection_postgre()"
   ]
  },
  {
   "cell_type": "code",
   "execution_count": 109,
   "metadata": {},
   "outputs": [],
   "source": [
    "teams = pd.read_sql(read_teams,conn)"
   ]
  },
  {
   "cell_type": "code",
   "execution_count": 110,
   "metadata": {},
   "outputs": [],
   "source": [
    "bets = pd.read_sql(read_bets,conn)"
   ]
  },
  {
   "cell_type": "code",
   "execution_count": 111,
   "metadata": {},
   "outputs": [],
   "source": [
    "outcomes = pd.read_sql(read_match_outcome,conn)"
   ]
  },
  {
   "cell_type": "code",
   "execution_count": 112,
   "metadata": {},
   "outputs": [],
   "source": [
    "active_bets = bets[bets.is_active].sort_values(by = ['attr_1', 'predicted_odds'], ascending=[True, True])"
   ]
  },
  {
   "cell_type": "code",
   "execution_count": 113,
   "metadata": {},
   "outputs": [
    {
     "data": {
      "text/html": [
       "<div>\n",
       "<style scoped>\n",
       "    .dataframe tbody tr th:only-of-type {\n",
       "        vertical-align: middle;\n",
       "    }\n",
       "\n",
       "    .dataframe tbody tr th {\n",
       "        vertical-align: top;\n",
       "    }\n",
       "\n",
       "    .dataframe thead th {\n",
       "        text-align: right;\n",
       "    }\n",
       "</style>\n",
       "<table border=\"1\" class=\"dataframe\">\n",
       "  <thead>\n",
       "    <tr style=\"text-align: right;\">\n",
       "      <th></th>\n",
       "      <th>pred_id</th>\n",
       "      <th>match_id</th>\n",
       "      <th>home_team_id</th>\n",
       "      <th>away_team_id</th>\n",
       "      <th>prediction</th>\n",
       "      <th>prediction_type</th>\n",
       "      <th>predicted_odds</th>\n",
       "      <th>bookmaker</th>\n",
       "      <th>bookmaker_odds</th>\n",
       "      <th>is_active</th>\n",
       "      <th>attr_1</th>\n",
       "      <th>attr_2</th>\n",
       "      <th>attr_3</th>\n",
       "      <th>attr_4</th>\n",
       "      <th>attr_5</th>\n",
       "      <th>created_time</th>\n",
       "      <th>update_time</th>\n",
       "    </tr>\n",
       "  </thead>\n",
       "  <tbody>\n",
       "    <tr>\n",
       "      <th>5082</th>\n",
       "      <td>10000</td>\n",
       "      <td>2030271</td>\n",
       "      <td>9910</td>\n",
       "      <td>9906</td>\n",
       "      <td>away</td>\n",
       "      <td>result</td>\n",
       "      <td>1.902890</td>\n",
       "      <td>betway</td>\n",
       "      <td>1.91</td>\n",
       "      <td>True</td>\n",
       "      <td>Week 1</td>\n",
       "      <td>0.5255163301670845</td>\n",
       "      <td>0.007109561405910014</td>\n",
       "      <td>None</td>\n",
       "      <td>None</td>\n",
       "      <td>2018-05-03 19:05:27.863707</td>\n",
       "      <td>2018-05-03 19:05:27.863707</td>\n",
       "    </tr>\n",
       "    <tr>\n",
       "      <th>6273</th>\n",
       "      <td>11190</td>\n",
       "      <td>2030269</td>\n",
       "      <td>8302</td>\n",
       "      <td>8315</td>\n",
       "      <td>home</td>\n",
       "      <td>result</td>\n",
       "      <td>1.991429</td>\n",
       "      <td>bet365</td>\n",
       "      <td>2.10</td>\n",
       "      <td>True</td>\n",
       "      <td>Week 1</td>\n",
       "      <td>0.5021519463775299</td>\n",
       "      <td>0.10857089728738001</td>\n",
       "      <td>None</td>\n",
       "      <td>None</td>\n",
       "      <td>2018-05-03 19:07:03.536258</td>\n",
       "      <td>2018-05-03 19:07:03.536258</td>\n",
       "    </tr>\n",
       "  </tbody>\n",
       "</table>\n",
       "</div>"
      ],
      "text/plain": [
       "      pred_id  match_id  home_team_id  away_team_id prediction  \\\n",
       "5082    10000   2030271          9910          9906       away   \n",
       "6273    11190   2030269          8302          8315       home   \n",
       "\n",
       "     prediction_type  predicted_odds bookmaker  bookmaker_odds  is_active  \\\n",
       "5082          result        1.902890    betway            1.91       True   \n",
       "6273          result        1.991429    bet365            2.10       True   \n",
       "\n",
       "      attr_1              attr_2                attr_3 attr_4 attr_5  \\\n",
       "5082  Week 1  0.5255163301670845  0.007109561405910014   None   None   \n",
       "6273  Week 1  0.5021519463775299   0.10857089728738001   None   None   \n",
       "\n",
       "                   created_time                update_time  \n",
       "5082 2018-05-03 19:05:27.863707 2018-05-03 19:05:27.863707  \n",
       "6273 2018-05-03 19:07:03.536258 2018-05-03 19:07:03.536258  "
      ]
     },
     "execution_count": 113,
     "metadata": {},
     "output_type": "execute_result"
    }
   ],
   "source": [
    "active_bets.head(2)"
   ]
  },
  {
   "cell_type": "code",
   "execution_count": 114,
   "metadata": {},
   "outputs": [
    {
     "data": {
      "text/plain": [
       "Index(['pred_id', 'match_id', 'home_team_id', 'away_team_id', 'prediction',\n",
       "       'prediction_type', 'predicted_odds', 'bookmaker', 'bookmaker_odds',\n",
       "       'is_active', 'attr_1', 'attr_2', 'attr_3', 'attr_4', 'attr_5',\n",
       "       'created_time', 'update_time'],\n",
       "      dtype='object')"
      ]
     },
     "execution_count": 114,
     "metadata": {},
     "output_type": "execute_result"
    }
   ],
   "source": [
    "active_bets.columns"
   ]
  },
  {
   "cell_type": "code",
   "execution_count": 128,
   "metadata": {},
   "outputs": [],
   "source": [
    "usecols = ['match_id',\n",
    "     'home_team_id', 'away_team_id', 'prediction', \n",
    "    'predicted_odds', 'bookmaker', 'bookmaker_odds',\n",
    "    'attr_1'\n",
    "]"
   ]
  },
  {
   "cell_type": "code",
   "execution_count": 129,
   "metadata": {},
   "outputs": [],
   "source": [
    "teamid2name = dict(zip(teams.team_api_id, teams.team_long_name))"
   ]
  },
  {
   "cell_type": "code",
   "execution_count": 130,
   "metadata": {},
   "outputs": [],
   "source": [
    "summary = active_bets[usecols]"
   ]
  },
  {
   "cell_type": "code",
   "execution_count": 131,
   "metadata": {},
   "outputs": [
    {
     "name": "stderr",
     "output_type": "stream",
     "text": [
      "/home/kerem/anaconda3/envs/fastai/lib/python3.6/site-packages/pandas/core/generic.py:3643: SettingWithCopyWarning: \n",
      "A value is trying to be set on a copy of a slice from a DataFrame.\n",
      "Try using .loc[row_indexer,col_indexer] = value instead\n",
      "\n",
      "See the caveats in the documentation: http://pandas.pydata.org/pandas-docs/stable/indexing.html#indexing-view-versus-copy\n",
      "  self[name] = value\n"
     ]
    }
   ],
   "source": [
    "summary.home_team_id = summary.home_team_id.map(teamid2name)\n",
    "summary.away_team_id = summary.away_team_id.map(teamid2name)"
   ]
  },
  {
   "cell_type": "code",
   "execution_count": 132,
   "metadata": {},
   "outputs": [],
   "source": [
    "summary.reset_index(inplace=True, drop=True)"
   ]
  },
  {
   "cell_type": "code",
   "execution_count": 133,
   "metadata": {},
   "outputs": [
    {
     "name": "stderr",
     "output_type": "stream",
     "text": [
      "/home/kerem/anaconda3/envs/fastai/lib/python3.6/site-packages/ipykernel_launcher.py:1: UserWarning: Pandas doesn't allow columns to be created via a new attribute name - see https://pandas.pydata.org/pandas-docs/stable/indexing.html#attribute-access\n",
      "  \"\"\"Entry point for launching an IPython kernel.\n"
     ]
    }
   ],
   "source": [
    "summary.leverage = summary.bookmaker_odds / summary.predicted_odds"
   ]
  },
  {
   "cell_type": "code",
   "execution_count": 134,
   "metadata": {},
   "outputs": [
    {
     "name": "stderr",
     "output_type": "stream",
     "text": [
      "/home/kerem/anaconda3/envs/fastai/lib/python3.6/site-packages/ipykernel_launcher.py:1: SettingWithCopyWarning: \n",
      "A value is trying to be set on a copy of a slice from a DataFrame.\n",
      "Try using .loc[row_indexer,col_indexer] = value instead\n",
      "\n",
      "See the caveats in the documentation: http://pandas.pydata.org/pandas-docs/stable/indexing.html#indexing-view-versus-copy\n",
      "  \"\"\"Entry point for launching an IPython kernel.\n"
     ]
    }
   ],
   "source": [
    "summary['confidence'] = 1/summary.predicted_odds"
   ]
  },
  {
   "cell_type": "markdown",
   "metadata": {},
   "source": [
    "### Many Ways of Looking At this\n",
    "\n",
    "**Environment Variables:**\n",
    "\n",
    "- Bookmaker Odds\n",
    "- Predicted Confidence on Outcome\n",
    "- Multiple Games (Playing Multiple Games in same website to compound odds)\n",
    "- Multiple Companies (Playing Different Website)\n",
    "\n",
    "**Reward:**\n",
    "\n",
    "- Profit/Loss for each action (bet)\n",
    "\n",
    "**On Going Research:** Reinforcement Learning for training an agent to create bets."
   ]
  },
  {
   "cell_type": "code",
   "execution_count": 144,
   "metadata": {
    "scrolled": true
   },
   "outputs": [],
   "source": [
    "outcome_list = []\n",
    "for h, a in list(zip(outcomes.home_team_goal,outcomes.away_team_goal)):\n",
    "    if h < a:\n",
    "        outcome_list.append('away')\n",
    "    elif h == a:\n",
    "        outcome_list.append('draw')\n",
    "    else:\n",
    "        outcome_list.append('home')"
   ]
  },
  {
   "cell_type": "code",
   "execution_count": 146,
   "metadata": {},
   "outputs": [],
   "source": [
    "outcomes['outcomes'] = outcome_list"
   ]
  },
  {
   "cell_type": "code",
   "execution_count": 148,
   "metadata": {},
   "outputs": [
    {
     "data": {
      "text/html": [
       "<div>\n",
       "<style scoped>\n",
       "    .dataframe tbody tr th:only-of-type {\n",
       "        vertical-align: middle;\n",
       "    }\n",
       "\n",
       "    .dataframe tbody tr th {\n",
       "        vertical-align: top;\n",
       "    }\n",
       "\n",
       "    .dataframe thead th {\n",
       "        text-align: right;\n",
       "    }\n",
       "</style>\n",
       "<table border=\"1\" class=\"dataframe\">\n",
       "  <thead>\n",
       "    <tr style=\"text-align: right;\">\n",
       "      <th></th>\n",
       "      <th>match_api_id</th>\n",
       "      <th>home_team_goal</th>\n",
       "      <th>away_team_goal</th>\n",
       "      <th>outcomes</th>\n",
       "    </tr>\n",
       "  </thead>\n",
       "  <tbody>\n",
       "    <tr>\n",
       "      <th>0</th>\n",
       "      <td>1786012</td>\n",
       "      <td>0</td>\n",
       "      <td>3</td>\n",
       "      <td>away</td>\n",
       "    </tr>\n",
       "    <tr>\n",
       "      <th>1</th>\n",
       "      <td>1786013</td>\n",
       "      <td>1</td>\n",
       "      <td>1</td>\n",
       "      <td>draw</td>\n",
       "    </tr>\n",
       "    <tr>\n",
       "      <th>2</th>\n",
       "      <td>1786014</td>\n",
       "      <td>1</td>\n",
       "      <td>1</td>\n",
       "      <td>draw</td>\n",
       "    </tr>\n",
       "    <tr>\n",
       "      <th>3</th>\n",
       "      <td>1786015</td>\n",
       "      <td>0</td>\n",
       "      <td>1</td>\n",
       "      <td>away</td>\n",
       "    </tr>\n",
       "    <tr>\n",
       "      <th>4</th>\n",
       "      <td>523804</td>\n",
       "      <td>1</td>\n",
       "      <td>0</td>\n",
       "      <td>home</td>\n",
       "    </tr>\n",
       "  </tbody>\n",
       "</table>\n",
       "</div>"
      ],
      "text/plain": [
       "   match_api_id  home_team_goal  away_team_goal outcomes\n",
       "0       1786012               0               3     away\n",
       "1       1786013               1               1     draw\n",
       "2       1786014               1               1     draw\n",
       "3       1786015               0               1     away\n",
       "4        523804               1               0     home"
      ]
     },
     "execution_count": 148,
     "metadata": {},
     "output_type": "execute_result"
    }
   ],
   "source": [
    "outcomes.head()"
   ]
  },
  {
   "cell_type": "code",
   "execution_count": null,
   "metadata": {},
   "outputs": [],
   "source": []
  },
  {
   "cell_type": "code",
   "execution_count": null,
   "metadata": {},
   "outputs": [],
   "source": []
  },
  {
   "cell_type": "code",
   "execution_count": null,
   "metadata": {},
   "outputs": [],
   "source": []
  },
  {
   "cell_type": "code",
   "execution_count": null,
   "metadata": {},
   "outputs": [],
   "source": []
  },
  {
   "cell_type": "code",
   "execution_count": null,
   "metadata": {},
   "outputs": [],
   "source": []
  },
  {
   "cell_type": "code",
   "execution_count": null,
   "metadata": {},
   "outputs": [],
   "source": []
  }
 ],
 "metadata": {
  "kernelspec": {
   "display_name": "Python 3",
   "language": "python",
   "name": "python3"
  },
  "language_info": {
   "codemirror_mode": {
    "name": "ipython",
    "version": 3
   },
   "file_extension": ".py",
   "mimetype": "text/x-python",
   "name": "python",
   "nbconvert_exporter": "python",
   "pygments_lexer": "ipython3",
   "version": "3.6.4"
  }
 },
 "nbformat": 4,
 "nbformat_minor": 2
}
