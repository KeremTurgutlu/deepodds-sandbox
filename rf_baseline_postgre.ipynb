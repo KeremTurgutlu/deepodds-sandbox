{
 "cells": [
  {
   "cell_type": "code",
   "execution_count": 295,
   "metadata": {},
   "outputs": [],
   "source": [
    "import pandas as pd\n",
    "import numpy as np\n",
    "import pickle\n",
    "from sklearn.ensemble import RandomForestClassifier\n",
    "from pandas.api.types import is_string_dtype, is_numeric_dtype\n",
    "from sklearn.metrics import roc_auc_score\n",
    "from sklearn.preprocessing import label_binarize\n",
    "from sklearn.metrics import log_loss\n",
    "from sklearn.calibration import CalibratedClassifierCV\n",
    "import shap\n",
    "import rfpimp\n",
    "from joblib import Parallel, delayed\n",
    "from sklearn.model_selection import ParameterGrid\n",
    "import datetime\n",
    "import pandas as pd\n",
    "from flask import Flask\n",
    "from flask_sqlalchemy import SQLAlchemy\n",
    "from werkzeug.security import check_password_hash, generate_password_hash\n",
    "from sqlalchemy import Sequence\n",
    "from sqlalchemy import Column, Integer, String, DateTime, Boolean\n",
    "from flask_login import (current_user, LoginManager, login_required,\n",
    "                         login_user, logout_user, UserMixin)\n",
    "\n",
    "import matplotlib.pyplot as plt\n",
    "from sqlalchemy import create_engine"
   ]
  },
  {
   "cell_type": "markdown",
   "metadata": {
    "heading_collapsed": true
   },
   "source": [
    "## Feature engineering and data preparation"
   ]
  },
  {
   "cell_type": "code",
   "execution_count": 107,
   "metadata": {
    "hidden": true
   },
   "outputs": [],
   "source": [
    "path = 'data/deep_odds/'\n",
    "\n",
    "data_final = pd.read_pickle(path + 'data_final_form')\n",
    "\n",
    "bookkeeper_data = pd.read_feather(path + 'bookkeeper-data')\n",
    "\n",
    "# repetetive column\n",
    "data_final.drop('league_id_y', axis=1, inplace=True)\n",
    "\n",
    "data_final.drop(\n",
    "    [\n",
    "        'id', 'country_id', 'home_player_1', 'home_player_2', 'home_player_3',\n",
    "        'home_player_4', 'home_player_5', 'home_player_6', 'home_player_7',\n",
    "        'home_player_8', 'home_player_9', 'home_player_10', 'home_player_11',\n",
    "        'away_player_1', 'away_player_2', 'away_player_3', 'away_player_4',\n",
    "        'away_player_5', 'away_player_6', 'away_player_7', 'away_player_8',\n",
    "        'away_player_9', 'away_player_10', 'away_player_11'\n",
    "    ],\n",
    "    axis=1,\n",
    "    inplace=True)\n",
    "\n",
    "data_final.drop(\n",
    "    [\n",
    "        'home_player_1_pos', 'home_player_2_pos', 'home_player_3_pos',\n",
    "        'home_player_4_pos', 'home_player_5_pos', 'home_player_6_pos',\n",
    "        'home_player_7_pos', 'home_player_8_pos', 'home_player_9_pos',\n",
    "        'home_player_10_pos', 'home_player_11_pos', 'away_player_1_pos',\n",
    "        'away_player_2_pos', 'away_player_3_pos', 'away_player_4_pos',\n",
    "        'away_player_5_pos', 'away_player_6_pos', 'away_player_7_pos',\n",
    "        'away_player_8_pos', 'away_player_9_pos', 'away_player_10_pos',\n",
    "        'away_player_11_pos'\n",
    "    ],\n",
    "    axis=1,\n",
    "    inplace=True)\n",
    "\n",
    "data_final.drop(\n",
    "    [\n",
    "        'goal', 'shoton', 'shotoff', 'foulcommit', 'card', 'cross', 'corner',\n",
    "        'possession'\n",
    "    ],\n",
    "    axis=1,\n",
    "    inplace=True)\n",
    "\n",
    "bk_filter = bookkeeper_data.iloc[:, :9]\n",
    "\n",
    "data_final = pd.concat((data_final, bk_filter), axis=1)\n",
    "\n",
    "data_final.dropna(how='any', inplace=True)\n",
    "\n",
    "# * Training : upto last-2 seasons of each league\n",
    "# * Validation : 2nd last season\n",
    "# * Test: last season\n",
    "\n",
    "# adding year column\n",
    "data_final['year'] = data_final.date.dt.year\n",
    "\n",
    "league_years = data_final[['league_id_x',\n",
    "                           'year']].drop_duplicates().reset_index(drop=True)\n",
    "\n",
    "# league_years\n",
    "\n",
    "# validation set\n",
    "val_yr_lg = league_years.groupby('league_id_x').tail(2).groupby(\n",
    "    'league_id_x').head(1)\n",
    "# val_yr_lg\n",
    "\n",
    "# test set\n",
    "test_yr_lg = league_years.groupby('league_id_x').tail(1)\n",
    "# test_yr_lg"
   ]
  },
  {
   "cell_type": "code",
   "execution_count": 117,
   "metadata": {
    "hidden": true
   },
   "outputs": [],
   "source": [
    "data_final['month'] = data_final.date.dt.month\n",
    "data_final['dow'] = data_final.date.dt.dayofweek"
   ]
  },
  {
   "cell_type": "code",
   "execution_count": 119,
   "metadata": {
    "hidden": true
   },
   "outputs": [],
   "source": [
    "# convert string to cats\n",
    "\n",
    "convert_cats(data_final)"
   ]
  },
  {
   "cell_type": "code",
   "execution_count": 120,
   "metadata": {
    "hidden": true
   },
   "outputs": [],
   "source": [
    "# removing nulls from int/float based columns, replace with -1 as this is what we did for string type also\n",
    "\n",
    "data_final.fillna(-1, inplace=True)"
   ]
  },
  {
   "cell_type": "code",
   "execution_count": 121,
   "metadata": {
    "hidden": true
   },
   "outputs": [],
   "source": [
    "# don't need id and date column\n",
    "\n",
    "data_final.drop(['date'], axis=1, inplace=True)"
   ]
  },
  {
   "cell_type": "code",
   "execution_count": 122,
   "metadata": {
    "hidden": true
   },
   "outputs": [],
   "source": [
    "data_final.drop(['home_team_goal', 'away_team_goal'], axis=1, inplace=True)"
   ]
  },
  {
   "cell_type": "code",
   "execution_count": 124,
   "metadata": {
    "hidden": true
   },
   "outputs": [],
   "source": [
    "df_id = data_final.loc[:,['match_api_id', 'home_team_api_id',\n",
    "       'away_team_api_id']]"
   ]
  },
  {
   "cell_type": "code",
   "execution_count": 127,
   "metadata": {
    "hidden": true
   },
   "outputs": [],
   "source": [
    "id_cols_to_rem = list(data_final.filter(regex='id$').columns) + list(data_final.filter(regex='\\d$').columns)"
   ]
  },
  {
   "cell_type": "code",
   "execution_count": 128,
   "metadata": {
    "hidden": true
   },
   "outputs": [],
   "source": [
    "data_final.drop(id_cols_to_rem, axis=1, inplace=True)"
   ]
  },
  {
   "cell_type": "code",
   "execution_count": 129,
   "metadata": {
    "hidden": true
   },
   "outputs": [],
   "source": [
    "# new cols were string\n",
    "convert_cats(data_final)"
   ]
  },
  {
   "cell_type": "code",
   "execution_count": 130,
   "metadata": {
    "hidden": true
   },
   "outputs": [],
   "source": [
    "df_bk = data_final.loc[:,['B365H', 'B365D', 'B365A', 'BWH', 'BWD', 'BWA', 'IWH', 'IWD', 'IWA']]"
   ]
  },
  {
   "cell_type": "code",
   "execution_count": 131,
   "metadata": {
    "hidden": true
   },
   "outputs": [],
   "source": [
    "data_final.drop(['B365H', 'B365D', 'B365A', 'BWH', 'BWD', 'BWA', 'IWH', 'IWD', 'IWA'],inplace=True,axis=1)"
   ]
  },
  {
   "cell_type": "markdown",
   "metadata": {},
   "source": [
    "## Splitting data into train, validation and test "
   ]
  },
  {
   "cell_type": "code",
   "execution_count": 132,
   "metadata": {},
   "outputs": [],
   "source": [
    "train = data_final[(data_final.year != 2016) & (data_final.year != 2015) &\n",
    "                   (data_final.year != 2014)]\n",
    "val1 = data_final[data_final.year == 2014]\n",
    "train_val1 = data_final[(data_final.year != 2016) & (data_final.year != 2015)]\n",
    "val2 = data_final[data_final.year == 2015]\n",
    "\n",
    "# completely hold out\n",
    "test = data_final[data_final.year == 2016]"
   ]
  },
  {
   "cell_type": "code",
   "execution_count": 136,
   "metadata": {},
   "outputs": [],
   "source": [
    "tst_idx = test.index"
   ]
  },
  {
   "cell_type": "code",
   "execution_count": 137,
   "metadata": {},
   "outputs": [],
   "source": [
    "x_train, y_train = train.drop('outcome', axis=1), train['outcome']\n",
    "x_val1, y_val1 = val1.drop('outcome', axis=1), val1['outcome']\n",
    "x_val2, y_val2 = val2.drop('outcome', axis=1), val2['outcome']"
   ]
  },
  {
   "cell_type": "markdown",
   "metadata": {},
   "source": [
    "## Random Forest Model"
   ]
  },
  {
   "cell_type": "markdown",
   "metadata": {},
   "source": [
    "Multiclass without callibration"
   ]
  },
  {
   "cell_type": "code",
   "execution_count": 145,
   "metadata": {},
   "outputs": [
    {
     "data": {
      "text/plain": [
       "RandomForestClassifier(bootstrap=True, class_weight=None, criterion='gini',\n",
       "            max_depth=None, max_features='auto', max_leaf_nodes=None,\n",
       "            min_impurity_decrease=0.0, min_impurity_split=None,\n",
       "            min_samples_leaf=1, min_samples_split=2,\n",
       "            min_weight_fraction_leaf=0.0, n_estimators=200, n_jobs=-1,\n",
       "            oob_score=False, random_state=10, verbose=0, warm_start=False)"
      ]
     },
     "execution_count": 145,
     "metadata": {},
     "output_type": "execute_result"
    }
   ],
   "source": [
    "m = RandomForestClassifier(n_jobs=-1, n_estimators=200, random_state=10)\n",
    "m.fit(train_val1.drop('outcome', axis=1), train_val1['outcome'])"
   ]
  },
  {
   "cell_type": "code",
   "execution_count": 148,
   "metadata": {},
   "outputs": [
    {
     "data": {
      "text/plain": [
       "0.5110047846889952"
      ]
     },
     "execution_count": 148,
     "metadata": {},
     "output_type": "execute_result"
    }
   ],
   "source": [
    "m.score(val2.drop('outcome', axis=1), val2['outcome'])"
   ]
  },
  {
   "cell_type": "markdown",
   "metadata": {},
   "source": [
    "Multiclass with callibration "
   ]
  },
  {
   "cell_type": "code",
   "execution_count": 149,
   "metadata": {
    "scrolled": true
   },
   "outputs": [
    {
     "name": "stdout",
     "output_type": "stream",
     "text": [
      "logloss :  1.0004673910991777\n"
     ]
    }
   ],
   "source": [
    "m2 = RandomForestClassifier(n_estimators=200, n_jobs=-1, random_state=10)\n",
    "m2.fit(train.drop('outcome', axis=1), train['outcome'])\n",
    "m2_probs = m2.predict_proba(val1.drop('outcome', axis=1))\n",
    "\n",
    "sig_m2 = CalibratedClassifierCV(m2, method=\"sigmoid\", cv=\"prefit\")\n",
    "sig_m2.fit(val1.drop('outcome', axis=1),\n",
    "           val1['outcome'])  # final callibrated model\n",
    "sig_m2_probs = sig_m2.predict_proba(val2.drop('outcome', axis=1))\n",
    "sig_score = log_loss(val2['outcome'], sig_m2_probs)\n",
    "\n",
    "# print('logloss : ', sig_score)"
   ]
  },
  {
   "cell_type": "code",
   "execution_count": 150,
   "metadata": {},
   "outputs": [
    {
     "data": {
      "text/plain": [
       "0.5052631578947369"
      ]
     },
     "execution_count": 150,
     "metadata": {},
     "output_type": "execute_result"
    }
   ],
   "source": [
    "sig_m2.score(x_val2, y_val2)"
   ]
  },
  {
   "cell_type": "markdown",
   "metadata": {},
   "source": [
    "**Hyperparameter tuning**"
   ]
  },
  {
   "cell_type": "code",
   "execution_count": 151,
   "metadata": {},
   "outputs": [],
   "source": [
    "def fitOne(model, x_train, y_train, x_val1, y_val1, params):\n",
    "\n",
    "    model.set_params(**params)\n",
    "    m = model.fit(x_train, y_train)\n",
    "\n",
    "    sig_mod = CalibratedClassifierCV(m, method=\"sigmoid\", cv=\"prefit\")\n",
    "    return sig_mod.fit(x_val1, y_val1)\n",
    "\n",
    "\n",
    "def fitModels(model,\n",
    "              paramGrid,\n",
    "              x_train,\n",
    "              y_train,\n",
    "              x_val1,\n",
    "              y_val1,\n",
    "              n_jobs=-1,\n",
    "              verbose=10):\n",
    "\n",
    "    return Parallel(\n",
    "        n_jobs=n_jobs, verbose=verbose)(\n",
    "            delayed(fitOne)(model, x_train, y_train, x_val1, y_val1, params)\n",
    "            for params in paramGrid)\n",
    "\n",
    "\n",
    "def scoreOne(model, x, y, metric):\n",
    "    probs = model.predict_proba(x)\n",
    "    return log_loss(y, probs)\n",
    "\n",
    "\n",
    "def scoreModels(models,\n",
    "                X,\n",
    "                y,\n",
    "                metric=log_loss,\n",
    "                predict_proba=True,\n",
    "                n_jobs=-1,\n",
    "                verbose=10):\n",
    "\n",
    "    return Parallel(\n",
    "        n_jobs=n_jobs, verbose=np.ceil(verbose / 10))(\n",
    "            delayed(scoreOne)(m, X, y, metric) for m in models)\n",
    "\n",
    "\n",
    "def getBestModel(models, scores, greater_is_better=False):\n",
    "\n",
    "    if greater_is_better:\n",
    "        return models[np.argmax(scores)]\n",
    "    else:\n",
    "        return models[np.argmin(scores)]\n",
    "\n",
    "\n",
    "def getBestScore(scores, greater_is_better=False):\n",
    "\n",
    "    if greater_is_better:\n",
    "        return np.max(scores)\n",
    "    else:\n",
    "        return np.min(scores)\n",
    "\n",
    "\n",
    "def bestFit(model,\n",
    "            paramGrid,\n",
    "            x_train,\n",
    "            y_train,\n",
    "            x_val1,\n",
    "            y_val1,\n",
    "            x_val2,\n",
    "            y_val2,\n",
    "            metric=log_loss,\n",
    "            greater_is_better=False,\n",
    "            predict_proba=True,\n",
    "            scoreLabel=None,\n",
    "            vrange=None,\n",
    "            cmap='YlOrRd',\n",
    "            n_jobs=-1,\n",
    "            verbose=10):\n",
    "    print('-------------FITTING MODELS-------------')\n",
    "    models = fitModels(model, paramGrid, x_train, y_train, x_val1, y_val1,\n",
    "                       n_jobs, verbose)\n",
    "    print('-------------SCORING MODELS-------------')\n",
    "    scores = scoreModels(models, x_val2, y_val2, metric, predict_proba, n_jobs,\n",
    "                         verbose)\n",
    "\n",
    "    return getBestModel(models, scores, greater_is_better), getBestScore(\n",
    "        scores, greater_is_better), models, scores"
   ]
  },
  {
   "cell_type": "code",
   "execution_count": 152,
   "metadata": {},
   "outputs": [],
   "source": [
    "grid = {\n",
    "    'min_samples_leaf': [1, 5, 10, 15, 20, 25],\n",
    "    'max_features': ['sqrt', 'log2', 0.5],\n",
    "    'n_estimators': [100],\n",
    "    'n_jobs': [-1],\n",
    "    'random_state': [10]\n",
    "}\n",
    "paramGrid = ParameterGrid(grid)"
   ]
  },
  {
   "cell_type": "code",
   "execution_count": 153,
   "metadata": {},
   "outputs": [
    {
     "name": "stdout",
     "output_type": "stream",
     "text": [
      "-------------FITTING MODELS-------------\n"
     ]
    },
    {
     "name": "stderr",
     "output_type": "stream",
     "text": [
      "[Parallel(n_jobs=-1)]: Done   5 tasks      | elapsed:   11.7s\n",
      "[Parallel(n_jobs=-1)]: Done  10 tasks      | elapsed:   14.0s\n",
      "[Parallel(n_jobs=-1)]: Done  13 out of  18 | elapsed:  1.4min remaining:   32.3s\n",
      "[Parallel(n_jobs=-1)]: Done  15 out of  18 | elapsed:  1.9min remaining:   22.3s\n",
      "[Parallel(n_jobs=-1)]: Done  18 out of  18 | elapsed:  2.4min finished\n"
     ]
    },
    {
     "name": "stdout",
     "output_type": "stream",
     "text": [
      "-------------SCORING MODELS-------------\n"
     ]
    },
    {
     "name": "stderr",
     "output_type": "stream",
     "text": [
      "[Parallel(n_jobs=-1)]: Done  18 out of  18 | elapsed:    1.6s finished\n"
     ]
    }
   ],
   "source": [
    "best_model, best_score, all_models, all_scores = bestFit(RandomForestClassifier(), paramGrid,\n",
    "                                                    x_train, y_train, x_val1, y_val1, x_val2, y_val2,\n",
    "                                                    metric=roc_auc_score, greater_is_better=False, \n",
    "                                                    scoreLabel='log_loss')"
   ]
  },
  {
   "cell_type": "code",
   "execution_count": 156,
   "metadata": {
    "scrolled": false
   },
   "outputs": [
    {
     "data": {
      "text/plain": [
       "0.5119617224880383"
      ]
     },
     "execution_count": 156,
     "metadata": {},
     "output_type": "execute_result"
    }
   ],
   "source": [
    "# best_model.score(x_val2, y_val2)"
   ]
  },
  {
   "cell_type": "markdown",
   "metadata": {},
   "source": [
    "## Test prediction for postgre"
   ]
  },
  {
   "cell_type": "code",
   "execution_count": 251,
   "metadata": {},
   "outputs": [],
   "source": [
    "def label_fix(x):\n",
    "    if x[-1] == 'H': return 'home'\n",
    "    elif x[-1] == 'A': return 'away'\n",
    "    else: return 'draw'"
   ]
  },
  {
   "cell_type": "code",
   "execution_count": 157,
   "metadata": {},
   "outputs": [],
   "source": [
    "x_test = test.drop('outcome', axis=1).values"
   ]
  },
  {
   "cell_type": "code",
   "execution_count": 158,
   "metadata": {},
   "outputs": [],
   "source": [
    "test_pred = best_model.predict_proba(x_test)"
   ]
  },
  {
   "cell_type": "code",
   "execution_count": 159,
   "metadata": {},
   "outputs": [],
   "source": [
    "test_pred = pd.DataFrame(test_pred, columns=['away', 'draw', 'home'])"
   ]
  },
  {
   "cell_type": "code",
   "execution_count": 163,
   "metadata": {},
   "outputs": [],
   "source": [
    "test_id = df_id.loc[tst_idx].reset_index(drop=True)"
   ]
  },
  {
   "cell_type": "code",
   "execution_count": 169,
   "metadata": {},
   "outputs": [],
   "source": [
    "test_bk = df_bk.loc[tst_idx].reset_index(drop=True)"
   ]
  },
  {
   "cell_type": "code",
   "execution_count": 182,
   "metadata": {},
   "outputs": [],
   "source": [
    "test_pred.reset_index(drop=True, inplace=True)"
   ]
  },
  {
   "cell_type": "code",
   "execution_count": 191,
   "metadata": {},
   "outputs": [],
   "source": [
    "df_final = pd.concat((test_id, test_bk, test_pred), axis=1, ignore_index=True)"
   ]
  },
  {
   "cell_type": "code",
   "execution_count": 195,
   "metadata": {},
   "outputs": [],
   "source": [
    "df_final.columns = [\n",
    "    'match_api_id', 'home_team_api_id', 'away_team_api_id', 'B365H', 'B365D',\n",
    "    'B365A', 'BWH', 'BWD', 'BWA', 'IWH', 'IWD', 'IWA', 'away', 'draw', 'home'\n",
    "]"
   ]
  },
  {
   "cell_type": "code",
   "execution_count": 203,
   "metadata": {},
   "outputs": [],
   "source": [
    "df_final['away'] = 1 / df_final.away"
   ]
  },
  {
   "cell_type": "code",
   "execution_count": 205,
   "metadata": {},
   "outputs": [],
   "source": [
    "df_final['home'] = 1 / df_final.home"
   ]
  },
  {
   "cell_type": "code",
   "execution_count": 206,
   "metadata": {},
   "outputs": [],
   "source": [
    "df_final['draw'] = 1 / df_final.draw"
   ]
  },
  {
   "cell_type": "code",
   "execution_count": 250,
   "metadata": {},
   "outputs": [],
   "source": [
    "tmp = pd.melt(\n",
    "    df_final,\n",
    "    id_vars=['match_api_id', 'home_team_api_id', 'away_team_api_id'],\n",
    "    value_vars=['away', 'draw', 'home'],\n",
    "    var_name='prediction',\n",
    "    value_name='predicted_odds')"
   ]
  },
  {
   "cell_type": "code",
   "execution_count": 252,
   "metadata": {},
   "outputs": [],
   "source": [
    "tmp1 = pd.melt(\n",
    "    df_final,\n",
    "    id_vars=['match_api_id', 'home_team_api_id', 'away_team_api_id'],\n",
    "    value_vars=['B365H', 'B365D', 'B365A'],\n",
    "    var_name='bookmaker',\n",
    "    value_name='bookmaker_odds')\n",
    "\n",
    "tmp1['prediction'] = tmp1.bookmaker.apply(label_fix)\n",
    "\n",
    "tmp1['bookmaker'] = 'bet365'"
   ]
  },
  {
   "cell_type": "code",
   "execution_count": 253,
   "metadata": {},
   "outputs": [],
   "source": [
    "tmp2 = pd.melt(\n",
    "    df_final,\n",
    "    id_vars=['match_api_id', 'home_team_api_id', 'away_team_api_id'],\n",
    "    value_vars=['BWH', 'BWD', 'BWA'],\n",
    "    var_name='bookmaker',\n",
    "    value_name='bookmaker_odds')\n",
    "\n",
    "tmp2['prediction'] = tmp2.bookmaker.apply(label_fix)\n",
    "\n",
    "tmp2['bookmaker'] = 'betway'"
   ]
  },
  {
   "cell_type": "code",
   "execution_count": 254,
   "metadata": {},
   "outputs": [],
   "source": [
    "tmp3 = pd.melt(\n",
    "    df_final,\n",
    "    id_vars=['match_api_id', 'home_team_api_id', 'away_team_api_id'],\n",
    "    value_vars=['IWH', 'IWD', 'IWA'],\n",
    "    var_name='bookmaker',\n",
    "    value_name='bookmaker_odds')\n",
    "\n",
    "tmp3['prediction'] = tmp3.bookmaker.apply(label_fix)\n",
    "\n",
    "tmp3['bookmaker'] = 'interwetten'"
   ]
  },
  {
   "cell_type": "code",
   "execution_count": 255,
   "metadata": {},
   "outputs": [],
   "source": [
    "tmp4 = pd.concat((tmp1, tmp2, tmp3), axis=0).reset_index(drop=True)"
   ]
  },
  {
   "cell_type": "code",
   "execution_count": 265,
   "metadata": {},
   "outputs": [],
   "source": [
    "pred_final = pd.merge(\n",
    "    tmp,\n",
    "    tmp4,\n",
    "    on=['match_api_id', 'home_team_api_id', 'away_team_api_id', 'prediction'],\n",
    "    how='left',\n",
    "    copy=False)"
   ]
  },
  {
   "cell_type": "code",
   "execution_count": 266,
   "metadata": {},
   "outputs": [],
   "source": [
    "pred_final['prediction_type'] = 'result'"
   ]
  },
  {
   "cell_type": "code",
   "execution_count": 390,
   "metadata": {},
   "outputs": [
    {
     "data": {
      "text/html": [
       "<div>\n",
       "<style scoped>\n",
       "    .dataframe tbody tr th:only-of-type {\n",
       "        vertical-align: middle;\n",
       "    }\n",
       "\n",
       "    .dataframe tbody tr th {\n",
       "        vertical-align: top;\n",
       "    }\n",
       "\n",
       "    .dataframe thead th {\n",
       "        text-align: right;\n",
       "    }\n",
       "</style>\n",
       "<table border=\"1\" class=\"dataframe\">\n",
       "  <thead>\n",
       "    <tr style=\"text-align: right;\">\n",
       "      <th></th>\n",
       "      <th>match_api_id</th>\n",
       "      <th>home_team_api_id</th>\n",
       "      <th>away_team_api_id</th>\n",
       "      <th>prediction</th>\n",
       "      <th>predicted_odds</th>\n",
       "      <th>bookmaker</th>\n",
       "      <th>bookmaker_odds</th>\n",
       "      <th>prediction_type</th>\n",
       "      <th>pred_id</th>\n",
       "    </tr>\n",
       "  </thead>\n",
       "  <tbody>\n",
       "    <tr>\n",
       "      <th>0</th>\n",
       "      <td>1988900</td>\n",
       "      <td>9825</td>\n",
       "      <td>10261</td>\n",
       "      <td>away</td>\n",
       "      <td>5.776156</td>\n",
       "      <td>bet365</td>\n",
       "      <td>11.0</td>\n",
       "      <td>result</td>\n",
       "      <td>default</td>\n",
       "    </tr>\n",
       "    <tr>\n",
       "      <th>1</th>\n",
       "      <td>1988900</td>\n",
       "      <td>9825</td>\n",
       "      <td>10261</td>\n",
       "      <td>away</td>\n",
       "      <td>5.776156</td>\n",
       "      <td>betway</td>\n",
       "      <td>11.0</td>\n",
       "      <td>result</td>\n",
       "      <td>default</td>\n",
       "    </tr>\n",
       "    <tr>\n",
       "      <th>2</th>\n",
       "      <td>1988900</td>\n",
       "      <td>9825</td>\n",
       "      <td>10261</td>\n",
       "      <td>away</td>\n",
       "      <td>5.776156</td>\n",
       "      <td>interwetten</td>\n",
       "      <td>9.0</td>\n",
       "      <td>result</td>\n",
       "      <td>default</td>\n",
       "    </tr>\n",
       "    <tr>\n",
       "      <th>3</th>\n",
       "      <td>1988901</td>\n",
       "      <td>9826</td>\n",
       "      <td>8455</td>\n",
       "      <td>away</td>\n",
       "      <td>1.719195</td>\n",
       "      <td>bet365</td>\n",
       "      <td>2.1</td>\n",
       "      <td>result</td>\n",
       "      <td>default</td>\n",
       "    </tr>\n",
       "    <tr>\n",
       "      <th>4</th>\n",
       "      <td>1988901</td>\n",
       "      <td>9826</td>\n",
       "      <td>8455</td>\n",
       "      <td>away</td>\n",
       "      <td>1.719195</td>\n",
       "      <td>betway</td>\n",
       "      <td>2.1</td>\n",
       "      <td>result</td>\n",
       "      <td>default</td>\n",
       "    </tr>\n",
       "  </tbody>\n",
       "</table>\n",
       "</div>"
      ],
      "text/plain": [
       "   match_api_id  home_team_api_id  away_team_api_id prediction  \\\n",
       "0       1988900              9825             10261       away   \n",
       "1       1988900              9825             10261       away   \n",
       "2       1988900              9825             10261       away   \n",
       "3       1988901              9826              8455       away   \n",
       "4       1988901              9826              8455       away   \n",
       "\n",
       "   predicted_odds    bookmaker  bookmaker_odds prediction_type  pred_id  \n",
       "0        5.776156       bet365            11.0          result  default  \n",
       "1        5.776156       betway            11.0          result  default  \n",
       "2        5.776156  interwetten             9.0          result  default  \n",
       "3        1.719195       bet365             2.1          result  default  \n",
       "4        1.719195       betway             2.1          result  default  "
      ]
     },
     "execution_count": 390,
     "metadata": {},
     "output_type": "execute_result"
    }
   ],
   "source": [
    "pred_final.head()"
   ]
  },
  {
   "cell_type": "markdown",
   "metadata": {},
   "source": [
    "## Loading to postgre"
   ]
  },
  {
   "cell_type": "code",
   "execution_count": 286,
   "metadata": {},
   "outputs": [],
   "source": [
    "db_uname = 'power_user'\n",
    "db_pswd = 'deepodds_usf'\n",
    "db_host = 'ec2-50-112-29-56.us-west-2.compute.amazonaws.com'\n",
    "db_name = 'deepodds'"
   ]
  },
  {
   "cell_type": "code",
   "execution_count": 287,
   "metadata": {},
   "outputs": [],
   "source": [
    "def create_connection_postgre():\n",
    "    \"\"\"\n",
    "    Function to create SQL connection object\n",
    "    :return: SQL Connection object\n",
    "    \"\"\"\n",
    "    engine = create_engine('postgresql://{}:{}@{}/{}'.format(\n",
    "        db_uname, db_pswd, db_host, db_name))\n",
    "    conn = engine.connect()\n",
    "    return conn"
   ]
  },
  {
   "cell_type": "code",
   "execution_count": 388,
   "metadata": {},
   "outputs": [],
   "source": [
    "def update_active_status(conn):\n",
    "    \"\"\"\n",
    "    Function to update is_active column to False\n",
    "    :param SQL connection object\n",
    "    :return: None\n",
    "    \"\"\"\n",
    "    conn.execute(update_is_active)\n",
    "    return None"
   ]
  },
  {
   "cell_type": "code",
   "execution_count": 393,
   "metadata": {},
   "outputs": [],
   "source": [
    "def insert_preds(x):\n",
    "    \"\"\"\n",
    "    Function to update predictions by inserting new rows\n",
    "    :x: single row from the prediction dataframe\n",
    "    :return: None\n",
    "    \"\"\"\n",
    "    timestamp = str(pd.datetime.now())\n",
    "    conn.execute(insert_into_portfolio.format(x[0], x[1], x[2],x[3],x[7],x[4],x[5],x[6],timestamp,timestamp))\n",
    "    return None"
   ]
  },
  {
   "cell_type": "code",
   "execution_count": 394,
   "metadata": {},
   "outputs": [],
   "source": [
    "def update_prediction(conn, predictions):\n",
    "    update_active_status(conn)\n",
    "    predictions.apply(insert_preds, axis=1)\n",
    "    return None"
   ]
  },
  {
   "cell_type": "code",
   "execution_count": 353,
   "metadata": {},
   "outputs": [],
   "source": [
    "conn = create_connection_postgre()"
   ]
  },
  {
   "cell_type": "code",
   "execution_count": 386,
   "metadata": {},
   "outputs": [],
   "source": [
    "update_is_active = '''\n",
    "UPDATE bet_suggestion SET is_active = true; \n",
    "'''"
   ]
  },
  {
   "cell_type": "code",
   "execution_count": 389,
   "metadata": {},
   "outputs": [],
   "source": [
    "insert_predictions = '''\n",
    "INSERT INTO bet_suggestion VALUES(default, {}, {}, {}, '{}', '{}', {}, '{}', {}, TRUE, NULL, NULL, NULL, NULL, NULL, '{}'::timestamp, '{}'::timestamp);\n",
    "'''"
   ]
  },
  {
   "cell_type": "code",
   "execution_count": null,
   "metadata": {},
   "outputs": [],
   "source": [
    "update_prediction(conn,pred_final)"
   ]
  }
 ],
 "metadata": {
  "kernelspec": {
   "display_name": "Python 3",
   "language": "python",
   "name": "python3"
  },
  "language_info": {
   "codemirror_mode": {
    "name": "ipython",
    "version": 3
   },
   "file_extension": ".py",
   "mimetype": "text/x-python",
   "name": "python",
   "nbconvert_exporter": "python",
   "pygments_lexer": "ipython3",
   "version": "3.6.4"
  }
 },
 "nbformat": 4,
 "nbformat_minor": 2
}
