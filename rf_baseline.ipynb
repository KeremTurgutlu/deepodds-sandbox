{
 "cells": [
  {
   "cell_type": "code",
   "execution_count": 37,
   "metadata": {},
   "outputs": [],
   "source": [
    "import pandas as pd\n",
    "import numpy as np\n",
    "import pickle\n",
    "from sklearn.ensemble import RandomForestClassifier\n",
    "from pandas.api.types import is_string_dtype, is_numeric_dtype\n",
    "from sklearn.metrics import roc_auc_score\n",
    "from sklearn.preprocessing import label_binarize\n",
    "from sklearn.metrics import log_loss\n",
    "from sklearn.calibration import CalibratedClassifierCV\n",
    "import shap\n",
    "import rfpimp\n",
    "from joblib import Parallel, delayed\n",
    "from sklearn.model_selection import ParameterGrid\n",
    "\n",
    "# from parfit.fit import *\n",
    "# from parfit.score import *\n",
    "# from parfit.plot import *\n",
    "# from parfit.crossval import *"
   ]
  },
  {
   "cell_type": "code",
   "execution_count": 2,
   "metadata": {},
   "outputs": [],
   "source": [
    "path= '../data/'"
   ]
  },
  {
   "cell_type": "code",
   "execution_count": 3,
   "metadata": {},
   "outputs": [
    {
     "name": "stdout",
     "output_type": "stream",
     "text": [
      "bookkeeper-data data-final      \u001b[31mdatabase.sqlite\u001b[m\u001b[m\r\n"
     ]
    }
   ],
   "source": [
    "! ls {path}"
   ]
  },
  {
   "cell_type": "code",
   "execution_count": 4,
   "metadata": {},
   "outputs": [],
   "source": [
    "data_final = pd.read_pickle(path+'data-final')"
   ]
  },
  {
   "cell_type": "code",
   "execution_count": 5,
   "metadata": {},
   "outputs": [],
   "source": [
    "# repetetive column\n",
    "\n",
    "data_final.drop('league_id_y', axis=1, inplace=True)"
   ]
  },
  {
   "cell_type": "code",
   "execution_count": 6,
   "metadata": {},
   "outputs": [
    {
     "data": {
      "text/plain": [
       "(8045, 968)"
      ]
     },
     "execution_count": 6,
     "metadata": {},
     "output_type": "execute_result"
    }
   ],
   "source": [
    "data_final.shape"
   ]
  },
  {
   "cell_type": "code",
   "execution_count": 7,
   "metadata": {
    "scrolled": true
   },
   "outputs": [
    {
     "data": {
      "text/html": [
       "<div>\n",
       "<style scoped>\n",
       "    .dataframe tbody tr th:only-of-type {\n",
       "        vertical-align: middle;\n",
       "    }\n",
       "\n",
       "    .dataframe tbody tr th {\n",
       "        vertical-align: top;\n",
       "    }\n",
       "\n",
       "    .dataframe thead th {\n",
       "        text-align: right;\n",
       "    }\n",
       "</style>\n",
       "<table border=\"1\" class=\"dataframe\">\n",
       "  <thead>\n",
       "    <tr style=\"text-align: right;\">\n",
       "      <th></th>\n",
       "      <th>id</th>\n",
       "      <th>country_id</th>\n",
       "      <th>league_id_x</th>\n",
       "      <th>season</th>\n",
       "      <th>stage</th>\n",
       "      <th>date</th>\n",
       "      <th>match_api_id</th>\n",
       "      <th>home_team_api_id</th>\n",
       "      <th>away_team_api_id</th>\n",
       "      <th>home_team_goal</th>\n",
       "      <th>...</th>\n",
       "      <th>home_defenceAggression</th>\n",
       "      <th>away_defenceAggression</th>\n",
       "      <th>home_defenceAggressionClass</th>\n",
       "      <th>away_defenceAggressionClass</th>\n",
       "      <th>home_defenceTeamWidth</th>\n",
       "      <th>away_defenceTeamWidth</th>\n",
       "      <th>home_defenceTeamWidthClass</th>\n",
       "      <th>away_defenceTeamWidthClass</th>\n",
       "      <th>home_defenceDefenderLineClass</th>\n",
       "      <th>away_defenceDefenderLineClass</th>\n",
       "    </tr>\n",
       "  </thead>\n",
       "  <tbody>\n",
       "    <tr>\n",
       "      <th>0</th>\n",
       "      <td>1729</td>\n",
       "      <td>1729</td>\n",
       "      <td>1729</td>\n",
       "      <td>2008/2009</td>\n",
       "      <td>1</td>\n",
       "      <td>2008-08-17</td>\n",
       "      <td>489042</td>\n",
       "      <td>10260</td>\n",
       "      <td>10261</td>\n",
       "      <td>1</td>\n",
       "      <td>...</td>\n",
       "      <td>NaN</td>\n",
       "      <td>NaN</td>\n",
       "      <td>NaN</td>\n",
       "      <td>NaN</td>\n",
       "      <td>NaN</td>\n",
       "      <td>NaN</td>\n",
       "      <td>NaN</td>\n",
       "      <td>NaN</td>\n",
       "      <td>NaN</td>\n",
       "      <td>NaN</td>\n",
       "    </tr>\n",
       "    <tr>\n",
       "      <th>1</th>\n",
       "      <td>1730</td>\n",
       "      <td>1729</td>\n",
       "      <td>1729</td>\n",
       "      <td>2008/2009</td>\n",
       "      <td>1</td>\n",
       "      <td>2008-08-16</td>\n",
       "      <td>489043</td>\n",
       "      <td>9825</td>\n",
       "      <td>8659</td>\n",
       "      <td>1</td>\n",
       "      <td>...</td>\n",
       "      <td>NaN</td>\n",
       "      <td>NaN</td>\n",
       "      <td>NaN</td>\n",
       "      <td>NaN</td>\n",
       "      <td>NaN</td>\n",
       "      <td>NaN</td>\n",
       "      <td>NaN</td>\n",
       "      <td>NaN</td>\n",
       "      <td>NaN</td>\n",
       "      <td>NaN</td>\n",
       "    </tr>\n",
       "    <tr>\n",
       "      <th>2</th>\n",
       "      <td>1731</td>\n",
       "      <td>1729</td>\n",
       "      <td>1729</td>\n",
       "      <td>2008/2009</td>\n",
       "      <td>1</td>\n",
       "      <td>2008-08-16</td>\n",
       "      <td>489044</td>\n",
       "      <td>8472</td>\n",
       "      <td>8650</td>\n",
       "      <td>0</td>\n",
       "      <td>...</td>\n",
       "      <td>NaN</td>\n",
       "      <td>NaN</td>\n",
       "      <td>NaN</td>\n",
       "      <td>NaN</td>\n",
       "      <td>NaN</td>\n",
       "      <td>NaN</td>\n",
       "      <td>NaN</td>\n",
       "      <td>NaN</td>\n",
       "      <td>NaN</td>\n",
       "      <td>NaN</td>\n",
       "    </tr>\n",
       "    <tr>\n",
       "      <th>3</th>\n",
       "      <td>1732</td>\n",
       "      <td>1729</td>\n",
       "      <td>1729</td>\n",
       "      <td>2008/2009</td>\n",
       "      <td>1</td>\n",
       "      <td>2008-08-16</td>\n",
       "      <td>489045</td>\n",
       "      <td>8654</td>\n",
       "      <td>8528</td>\n",
       "      <td>2</td>\n",
       "      <td>...</td>\n",
       "      <td>NaN</td>\n",
       "      <td>NaN</td>\n",
       "      <td>NaN</td>\n",
       "      <td>NaN</td>\n",
       "      <td>NaN</td>\n",
       "      <td>NaN</td>\n",
       "      <td>NaN</td>\n",
       "      <td>NaN</td>\n",
       "      <td>NaN</td>\n",
       "      <td>NaN</td>\n",
       "    </tr>\n",
       "    <tr>\n",
       "      <th>4</th>\n",
       "      <td>1734</td>\n",
       "      <td>1729</td>\n",
       "      <td>1729</td>\n",
       "      <td>2008/2009</td>\n",
       "      <td>1</td>\n",
       "      <td>2008-08-16</td>\n",
       "      <td>489047</td>\n",
       "      <td>8668</td>\n",
       "      <td>8655</td>\n",
       "      <td>2</td>\n",
       "      <td>...</td>\n",
       "      <td>NaN</td>\n",
       "      <td>NaN</td>\n",
       "      <td>NaN</td>\n",
       "      <td>NaN</td>\n",
       "      <td>NaN</td>\n",
       "      <td>NaN</td>\n",
       "      <td>NaN</td>\n",
       "      <td>NaN</td>\n",
       "      <td>NaN</td>\n",
       "      <td>NaN</td>\n",
       "    </tr>\n",
       "    <tr>\n",
       "      <th>5</th>\n",
       "      <td>1735</td>\n",
       "      <td>1729</td>\n",
       "      <td>1729</td>\n",
       "      <td>2008/2009</td>\n",
       "      <td>1</td>\n",
       "      <td>2008-08-16</td>\n",
       "      <td>489048</td>\n",
       "      <td>8549</td>\n",
       "      <td>8586</td>\n",
       "      <td>2</td>\n",
       "      <td>...</td>\n",
       "      <td>NaN</td>\n",
       "      <td>NaN</td>\n",
       "      <td>NaN</td>\n",
       "      <td>NaN</td>\n",
       "      <td>NaN</td>\n",
       "      <td>NaN</td>\n",
       "      <td>NaN</td>\n",
       "      <td>NaN</td>\n",
       "      <td>NaN</td>\n",
       "      <td>NaN</td>\n",
       "    </tr>\n",
       "  </tbody>\n",
       "</table>\n",
       "<p>6 rows × 968 columns</p>\n",
       "</div>"
      ],
      "text/plain": [
       "     id  country_id  league_id_x     season  stage       date  match_api_id  \\\n",
       "0  1729        1729         1729  2008/2009      1 2008-08-17        489042   \n",
       "1  1730        1729         1729  2008/2009      1 2008-08-16        489043   \n",
       "2  1731        1729         1729  2008/2009      1 2008-08-16        489044   \n",
       "3  1732        1729         1729  2008/2009      1 2008-08-16        489045   \n",
       "4  1734        1729         1729  2008/2009      1 2008-08-16        489047   \n",
       "5  1735        1729         1729  2008/2009      1 2008-08-16        489048   \n",
       "\n",
       "   home_team_api_id  away_team_api_id  home_team_goal  \\\n",
       "0             10260             10261               1   \n",
       "1              9825              8659               1   \n",
       "2              8472              8650               0   \n",
       "3              8654              8528               2   \n",
       "4              8668              8655               2   \n",
       "5              8549              8586               2   \n",
       "\n",
       "               ...                home_defenceAggression  \\\n",
       "0              ...                                   NaN   \n",
       "1              ...                                   NaN   \n",
       "2              ...                                   NaN   \n",
       "3              ...                                   NaN   \n",
       "4              ...                                   NaN   \n",
       "5              ...                                   NaN   \n",
       "\n",
       "   away_defenceAggression  home_defenceAggressionClass  \\\n",
       "0                     NaN                          NaN   \n",
       "1                     NaN                          NaN   \n",
       "2                     NaN                          NaN   \n",
       "3                     NaN                          NaN   \n",
       "4                     NaN                          NaN   \n",
       "5                     NaN                          NaN   \n",
       "\n",
       "   away_defenceAggressionClass  home_defenceTeamWidth  away_defenceTeamWidth  \\\n",
       "0                          NaN                    NaN                    NaN   \n",
       "1                          NaN                    NaN                    NaN   \n",
       "2                          NaN                    NaN                    NaN   \n",
       "3                          NaN                    NaN                    NaN   \n",
       "4                          NaN                    NaN                    NaN   \n",
       "5                          NaN                    NaN                    NaN   \n",
       "\n",
       "   home_defenceTeamWidthClass  away_defenceTeamWidthClass  \\\n",
       "0                         NaN                         NaN   \n",
       "1                         NaN                         NaN   \n",
       "2                         NaN                         NaN   \n",
       "3                         NaN                         NaN   \n",
       "4                         NaN                         NaN   \n",
       "5                         NaN                         NaN   \n",
       "\n",
       "   home_defenceDefenderLineClass  away_defenceDefenderLineClass  \n",
       "0                            NaN                            NaN  \n",
       "1                            NaN                            NaN  \n",
       "2                            NaN                            NaN  \n",
       "3                            NaN                            NaN  \n",
       "4                            NaN                            NaN  \n",
       "5                            NaN                            NaN  \n",
       "\n",
       "[6 rows x 968 columns]"
      ]
     },
     "execution_count": 7,
     "metadata": {},
     "output_type": "execute_result"
    }
   ],
   "source": [
    "data_final[:6]"
   ]
  },
  {
   "cell_type": "code",
   "execution_count": 8,
   "metadata": {},
   "outputs": [],
   "source": [
    "bookkeeper_data = pd.read_feather(path+'bookkeeper-data')"
   ]
  },
  {
   "cell_type": "code",
   "execution_count": 9,
   "metadata": {},
   "outputs": [
    {
     "data": {
      "text/html": [
       "<div>\n",
       "<style scoped>\n",
       "    .dataframe tbody tr th:only-of-type {\n",
       "        vertical-align: middle;\n",
       "    }\n",
       "\n",
       "    .dataframe tbody tr th {\n",
       "        vertical-align: top;\n",
       "    }\n",
       "\n",
       "    .dataframe thead th {\n",
       "        text-align: right;\n",
       "    }\n",
       "</style>\n",
       "<table border=\"1\" class=\"dataframe\">\n",
       "  <thead>\n",
       "    <tr style=\"text-align: right;\">\n",
       "      <th></th>\n",
       "      <th>B365H</th>\n",
       "      <th>B365D</th>\n",
       "      <th>B365A</th>\n",
       "      <th>BWH</th>\n",
       "      <th>BWD</th>\n",
       "      <th>BWA</th>\n",
       "      <th>IWH</th>\n",
       "      <th>IWD</th>\n",
       "      <th>IWA</th>\n",
       "      <th>LBH</th>\n",
       "      <th>...</th>\n",
       "      <th>VCH</th>\n",
       "      <th>VCD</th>\n",
       "      <th>VCA</th>\n",
       "      <th>GBH</th>\n",
       "      <th>GBD</th>\n",
       "      <th>GBA</th>\n",
       "      <th>BSH</th>\n",
       "      <th>BSD</th>\n",
       "      <th>BSA</th>\n",
       "      <th>match_api_id</th>\n",
       "    </tr>\n",
       "  </thead>\n",
       "  <tbody>\n",
       "    <tr>\n",
       "      <th>0</th>\n",
       "      <td>1.29</td>\n",
       "      <td>5.5</td>\n",
       "      <td>11.0</td>\n",
       "      <td>1.30</td>\n",
       "      <td>4.75</td>\n",
       "      <td>8.25</td>\n",
       "      <td>1.3</td>\n",
       "      <td>4.4</td>\n",
       "      <td>8.5</td>\n",
       "      <td>1.25</td>\n",
       "      <td>...</td>\n",
       "      <td>1.28</td>\n",
       "      <td>5.5</td>\n",
       "      <td>12.0</td>\n",
       "      <td>1.30</td>\n",
       "      <td>4.75</td>\n",
       "      <td>10.0</td>\n",
       "      <td>1.29</td>\n",
       "      <td>4.5</td>\n",
       "      <td>11.0</td>\n",
       "      <td>489042</td>\n",
       "    </tr>\n",
       "    <tr>\n",
       "      <th>1</th>\n",
       "      <td>1.20</td>\n",
       "      <td>6.5</td>\n",
       "      <td>15.0</td>\n",
       "      <td>1.22</td>\n",
       "      <td>5.50</td>\n",
       "      <td>10.00</td>\n",
       "      <td>1.2</td>\n",
       "      <td>5.2</td>\n",
       "      <td>11.0</td>\n",
       "      <td>1.20</td>\n",
       "      <td>...</td>\n",
       "      <td>1.25</td>\n",
       "      <td>6.0</td>\n",
       "      <td>13.0</td>\n",
       "      <td>1.22</td>\n",
       "      <td>5.50</td>\n",
       "      <td>13.0</td>\n",
       "      <td>1.22</td>\n",
       "      <td>5.0</td>\n",
       "      <td>13.0</td>\n",
       "      <td>489043</td>\n",
       "    </tr>\n",
       "  </tbody>\n",
       "</table>\n",
       "<p>2 rows × 31 columns</p>\n",
       "</div>"
      ],
      "text/plain": [
       "   B365H  B365D  B365A   BWH   BWD    BWA  IWH  IWD   IWA   LBH      ...       \\\n",
       "0   1.29    5.5   11.0  1.30  4.75   8.25  1.3  4.4   8.5  1.25      ...        \n",
       "1   1.20    6.5   15.0  1.22  5.50  10.00  1.2  5.2  11.0  1.20      ...        \n",
       "\n",
       "    VCH  VCD   VCA   GBH   GBD   GBA   BSH  BSD   BSA  match_api_id  \n",
       "0  1.28  5.5  12.0  1.30  4.75  10.0  1.29  4.5  11.0        489042  \n",
       "1  1.25  6.0  13.0  1.22  5.50  13.0  1.22  5.0  13.0        489043  \n",
       "\n",
       "[2 rows x 31 columns]"
      ]
     },
     "execution_count": 9,
     "metadata": {},
     "output_type": "execute_result"
    }
   ],
   "source": [
    "bookkeeper_data[:2]"
   ]
  },
  {
   "cell_type": "code",
   "execution_count": 10,
   "metadata": {},
   "outputs": [
    {
     "data": {
      "text/plain": [
       "(8045, 31)"
      ]
     },
     "execution_count": 10,
     "metadata": {},
     "output_type": "execute_result"
    }
   ],
   "source": [
    "bookkeeper_data.shape"
   ]
  },
  {
   "cell_type": "markdown",
   "metadata": {},
   "source": [
    "* Training : upto last-2 seasons of each league\n",
    "* Validation : 2nd last season\n",
    "* Test: last season"
   ]
  },
  {
   "cell_type": "code",
   "execution_count": 11,
   "metadata": {},
   "outputs": [
    {
     "data": {
      "text/plain": [
       "array([ 1729,  7809, 21518], dtype=uint64)"
      ]
     },
     "execution_count": 11,
     "metadata": {},
     "output_type": "execute_result"
    }
   ],
   "source": [
    "# data is only for 3 leagues\n",
    "\n",
    "data_final.league_id_x.unique()"
   ]
  },
  {
   "cell_type": "code",
   "execution_count": 12,
   "metadata": {},
   "outputs": [],
   "source": [
    "# adding year column\n",
    "\n",
    "data_final['year'] = data_final.date.dt.year"
   ]
  },
  {
   "cell_type": "code",
   "execution_count": 13,
   "metadata": {},
   "outputs": [],
   "source": [
    "league_years = data_final[['league_id_x','year']].drop_duplicates().reset_index(drop=True)"
   ]
  },
  {
   "cell_type": "code",
   "execution_count": 14,
   "metadata": {},
   "outputs": [
    {
     "data": {
      "text/html": [
       "<div>\n",
       "<style scoped>\n",
       "    .dataframe tbody tr th:only-of-type {\n",
       "        vertical-align: middle;\n",
       "    }\n",
       "\n",
       "    .dataframe tbody tr th {\n",
       "        vertical-align: top;\n",
       "    }\n",
       "\n",
       "    .dataframe thead th {\n",
       "        text-align: right;\n",
       "    }\n",
       "</style>\n",
       "<table border=\"1\" class=\"dataframe\">\n",
       "  <thead>\n",
       "    <tr style=\"text-align: right;\">\n",
       "      <th></th>\n",
       "      <th>league_id_x</th>\n",
       "      <th>year</th>\n",
       "    </tr>\n",
       "  </thead>\n",
       "  <tbody>\n",
       "    <tr>\n",
       "      <th>0</th>\n",
       "      <td>1729</td>\n",
       "      <td>2008</td>\n",
       "    </tr>\n",
       "    <tr>\n",
       "      <th>1</th>\n",
       "      <td>1729</td>\n",
       "      <td>2009</td>\n",
       "    </tr>\n",
       "    <tr>\n",
       "      <th>2</th>\n",
       "      <td>1729</td>\n",
       "      <td>2010</td>\n",
       "    </tr>\n",
       "    <tr>\n",
       "      <th>3</th>\n",
       "      <td>1729</td>\n",
       "      <td>2011</td>\n",
       "    </tr>\n",
       "    <tr>\n",
       "      <th>4</th>\n",
       "      <td>1729</td>\n",
       "      <td>2012</td>\n",
       "    </tr>\n",
       "    <tr>\n",
       "      <th>5</th>\n",
       "      <td>1729</td>\n",
       "      <td>2013</td>\n",
       "    </tr>\n",
       "    <tr>\n",
       "      <th>6</th>\n",
       "      <td>1729</td>\n",
       "      <td>2014</td>\n",
       "    </tr>\n",
       "    <tr>\n",
       "      <th>7</th>\n",
       "      <td>1729</td>\n",
       "      <td>2015</td>\n",
       "    </tr>\n",
       "    <tr>\n",
       "      <th>8</th>\n",
       "      <td>1729</td>\n",
       "      <td>2016</td>\n",
       "    </tr>\n",
       "    <tr>\n",
       "      <th>9</th>\n",
       "      <td>7809</td>\n",
       "      <td>2008</td>\n",
       "    </tr>\n",
       "    <tr>\n",
       "      <th>10</th>\n",
       "      <td>7809</td>\n",
       "      <td>2009</td>\n",
       "    </tr>\n",
       "    <tr>\n",
       "      <th>11</th>\n",
       "      <td>7809</td>\n",
       "      <td>2010</td>\n",
       "    </tr>\n",
       "    <tr>\n",
       "      <th>12</th>\n",
       "      <td>7809</td>\n",
       "      <td>2011</td>\n",
       "    </tr>\n",
       "    <tr>\n",
       "      <th>13</th>\n",
       "      <td>7809</td>\n",
       "      <td>2012</td>\n",
       "    </tr>\n",
       "    <tr>\n",
       "      <th>14</th>\n",
       "      <td>7809</td>\n",
       "      <td>2013</td>\n",
       "    </tr>\n",
       "    <tr>\n",
       "      <th>15</th>\n",
       "      <td>7809</td>\n",
       "      <td>2014</td>\n",
       "    </tr>\n",
       "    <tr>\n",
       "      <th>16</th>\n",
       "      <td>7809</td>\n",
       "      <td>2015</td>\n",
       "    </tr>\n",
       "    <tr>\n",
       "      <th>17</th>\n",
       "      <td>7809</td>\n",
       "      <td>2016</td>\n",
       "    </tr>\n",
       "    <tr>\n",
       "      <th>18</th>\n",
       "      <td>21518</td>\n",
       "      <td>2008</td>\n",
       "    </tr>\n",
       "    <tr>\n",
       "      <th>19</th>\n",
       "      <td>21518</td>\n",
       "      <td>2009</td>\n",
       "    </tr>\n",
       "    <tr>\n",
       "      <th>20</th>\n",
       "      <td>21518</td>\n",
       "      <td>2010</td>\n",
       "    </tr>\n",
       "    <tr>\n",
       "      <th>21</th>\n",
       "      <td>21518</td>\n",
       "      <td>2011</td>\n",
       "    </tr>\n",
       "    <tr>\n",
       "      <th>22</th>\n",
       "      <td>21518</td>\n",
       "      <td>2012</td>\n",
       "    </tr>\n",
       "    <tr>\n",
       "      <th>23</th>\n",
       "      <td>21518</td>\n",
       "      <td>2013</td>\n",
       "    </tr>\n",
       "    <tr>\n",
       "      <th>24</th>\n",
       "      <td>21518</td>\n",
       "      <td>2014</td>\n",
       "    </tr>\n",
       "    <tr>\n",
       "      <th>25</th>\n",
       "      <td>21518</td>\n",
       "      <td>2015</td>\n",
       "    </tr>\n",
       "    <tr>\n",
       "      <th>26</th>\n",
       "      <td>21518</td>\n",
       "      <td>2016</td>\n",
       "    </tr>\n",
       "  </tbody>\n",
       "</table>\n",
       "</div>"
      ],
      "text/plain": [
       "    league_id_x  year\n",
       "0          1729  2008\n",
       "1          1729  2009\n",
       "2          1729  2010\n",
       "3          1729  2011\n",
       "4          1729  2012\n",
       "5          1729  2013\n",
       "6          1729  2014\n",
       "7          1729  2015\n",
       "8          1729  2016\n",
       "9          7809  2008\n",
       "10         7809  2009\n",
       "11         7809  2010\n",
       "12         7809  2011\n",
       "13         7809  2012\n",
       "14         7809  2013\n",
       "15         7809  2014\n",
       "16         7809  2015\n",
       "17         7809  2016\n",
       "18        21518  2008\n",
       "19        21518  2009\n",
       "20        21518  2010\n",
       "21        21518  2011\n",
       "22        21518  2012\n",
       "23        21518  2013\n",
       "24        21518  2014\n",
       "25        21518  2015\n",
       "26        21518  2016"
      ]
     },
     "execution_count": 14,
     "metadata": {},
     "output_type": "execute_result"
    }
   ],
   "source": [
    "league_years"
   ]
  },
  {
   "cell_type": "code",
   "execution_count": 15,
   "metadata": {},
   "outputs": [
    {
     "data": {
      "text/html": [
       "<div>\n",
       "<style scoped>\n",
       "    .dataframe tbody tr th:only-of-type {\n",
       "        vertical-align: middle;\n",
       "    }\n",
       "\n",
       "    .dataframe tbody tr th {\n",
       "        vertical-align: top;\n",
       "    }\n",
       "\n",
       "    .dataframe thead th {\n",
       "        text-align: right;\n",
       "    }\n",
       "</style>\n",
       "<table border=\"1\" class=\"dataframe\">\n",
       "  <thead>\n",
       "    <tr style=\"text-align: right;\">\n",
       "      <th></th>\n",
       "      <th>league_id_x</th>\n",
       "      <th>year</th>\n",
       "    </tr>\n",
       "  </thead>\n",
       "  <tbody>\n",
       "    <tr>\n",
       "      <th>7</th>\n",
       "      <td>1729</td>\n",
       "      <td>2015</td>\n",
       "    </tr>\n",
       "    <tr>\n",
       "      <th>16</th>\n",
       "      <td>7809</td>\n",
       "      <td>2015</td>\n",
       "    </tr>\n",
       "    <tr>\n",
       "      <th>25</th>\n",
       "      <td>21518</td>\n",
       "      <td>2015</td>\n",
       "    </tr>\n",
       "  </tbody>\n",
       "</table>\n",
       "</div>"
      ],
      "text/plain": [
       "    league_id_x  year\n",
       "7          1729  2015\n",
       "16         7809  2015\n",
       "25        21518  2015"
      ]
     },
     "execution_count": 15,
     "metadata": {},
     "output_type": "execute_result"
    }
   ],
   "source": [
    "# validation set\n",
    "\n",
    "val_yr_lg = league_years.groupby('league_id_x').tail(2).groupby('league_id_x').head(1)\n",
    "val_yr_lg"
   ]
  },
  {
   "cell_type": "code",
   "execution_count": 16,
   "metadata": {
    "scrolled": false
   },
   "outputs": [
    {
     "data": {
      "text/html": [
       "<div>\n",
       "<style scoped>\n",
       "    .dataframe tbody tr th:only-of-type {\n",
       "        vertical-align: middle;\n",
       "    }\n",
       "\n",
       "    .dataframe tbody tr th {\n",
       "        vertical-align: top;\n",
       "    }\n",
       "\n",
       "    .dataframe thead th {\n",
       "        text-align: right;\n",
       "    }\n",
       "</style>\n",
       "<table border=\"1\" class=\"dataframe\">\n",
       "  <thead>\n",
       "    <tr style=\"text-align: right;\">\n",
       "      <th></th>\n",
       "      <th>league_id_x</th>\n",
       "      <th>year</th>\n",
       "    </tr>\n",
       "  </thead>\n",
       "  <tbody>\n",
       "    <tr>\n",
       "      <th>8</th>\n",
       "      <td>1729</td>\n",
       "      <td>2016</td>\n",
       "    </tr>\n",
       "    <tr>\n",
       "      <th>17</th>\n",
       "      <td>7809</td>\n",
       "      <td>2016</td>\n",
       "    </tr>\n",
       "    <tr>\n",
       "      <th>26</th>\n",
       "      <td>21518</td>\n",
       "      <td>2016</td>\n",
       "    </tr>\n",
       "  </tbody>\n",
       "</table>\n",
       "</div>"
      ],
      "text/plain": [
       "    league_id_x  year\n",
       "8          1729  2016\n",
       "17         7809  2016\n",
       "26        21518  2016"
      ]
     },
     "execution_count": 16,
     "metadata": {},
     "output_type": "execute_result"
    }
   ],
   "source": [
    "# test set\n",
    "\n",
    "test_yr_lg = league_years.groupby('league_id_x').tail(1)\n",
    "test_yr_lg"
   ]
  },
  {
   "cell_type": "markdown",
   "metadata": {},
   "source": [
    "### More features and null treatment"
   ]
  },
  {
   "cell_type": "code",
   "execution_count": 17,
   "metadata": {},
   "outputs": [],
   "source": [
    "data_final['month'] = data_final.date.dt.month\n",
    "data_final['dow'] = data_final.date.dt.dayofweek\n",
    "data_final['hour '] = data_final.date.dt.hour"
   ]
  },
  {
   "cell_type": "code",
   "execution_count": 18,
   "metadata": {},
   "outputs": [],
   "source": [
    "def convert_cats(train, col_not_convert = [], test = None):\n",
    "    \"\"\"\n",
    "    Convert columns in a training and test dataframe\n",
    "    into category codes \n",
    "    \n",
    "    train: Training dataframe\n",
    "    col_not_convert: list of columns which are string type and which you don't want to convert\n",
    "    test: Test/ Validation set (Mapping from category codes from training)\n",
    "    \"\"\"\n",
    "    \n",
    "    for n,c in train.items():\n",
    "        if is_string_dtype(c) and n not in col_not_convert : train[n] = c.astype('category').cat.as_ordered()\n",
    "    \n",
    "    if test is not None:\n",
    "        for n,c in test.items():\n",
    "            if (n in train.columns) and (train[n].dtype.name=='category'):\n",
    "                test[n] = pd.Categorical(c, categories=train[n].cat.categories, ordered=True)\n",
    "            \n",
    "    cols = list(train.columns[train.dtypes == 'category'])\n",
    "    for c in cols:\n",
    "        train[c] = train[c].astype('category').cat.codes\n",
    "        if test is not None: test[c] = test[c].astype('category').cat.codes"
   ]
  },
  {
   "cell_type": "code",
   "execution_count": 19,
   "metadata": {},
   "outputs": [],
   "source": [
    "# convert string to cats\n",
    "\n",
    "convert_cats(data_final)"
   ]
  },
  {
   "cell_type": "code",
   "execution_count": 20,
   "metadata": {},
   "outputs": [],
   "source": [
    "# removing nulls from int/float based columns, replace with -1 as this is what we did for string type also\n",
    "\n",
    "data_final.fillna(-1, inplace=True)"
   ]
  },
  {
   "cell_type": "code",
   "execution_count": 21,
   "metadata": {},
   "outputs": [
    {
     "data": {
      "text/html": [
       "<div>\n",
       "<style scoped>\n",
       "    .dataframe tbody tr th:only-of-type {\n",
       "        vertical-align: middle;\n",
       "    }\n",
       "\n",
       "    .dataframe tbody tr th {\n",
       "        vertical-align: top;\n",
       "    }\n",
       "\n",
       "    .dataframe thead th {\n",
       "        text-align: right;\n",
       "    }\n",
       "</style>\n",
       "<table border=\"1\" class=\"dataframe\">\n",
       "  <thead>\n",
       "    <tr style=\"text-align: right;\">\n",
       "      <th></th>\n",
       "      <th>id</th>\n",
       "      <th>country_id</th>\n",
       "      <th>league_id_x</th>\n",
       "      <th>season</th>\n",
       "      <th>stage</th>\n",
       "      <th>date</th>\n",
       "      <th>match_api_id</th>\n",
       "      <th>home_team_api_id</th>\n",
       "      <th>away_team_api_id</th>\n",
       "      <th>home_team_goal</th>\n",
       "      <th>...</th>\n",
       "      <th>home_defenceTeamWidth</th>\n",
       "      <th>away_defenceTeamWidth</th>\n",
       "      <th>home_defenceTeamWidthClass</th>\n",
       "      <th>away_defenceTeamWidthClass</th>\n",
       "      <th>home_defenceDefenderLineClass</th>\n",
       "      <th>away_defenceDefenderLineClass</th>\n",
       "      <th>year</th>\n",
       "      <th>month</th>\n",
       "      <th>dow</th>\n",
       "      <th>hour</th>\n",
       "    </tr>\n",
       "  </thead>\n",
       "  <tbody>\n",
       "    <tr>\n",
       "      <th>0</th>\n",
       "      <td>1729</td>\n",
       "      <td>1729</td>\n",
       "      <td>1729</td>\n",
       "      <td>0</td>\n",
       "      <td>1</td>\n",
       "      <td>2008-08-17</td>\n",
       "      <td>489042</td>\n",
       "      <td>10260</td>\n",
       "      <td>10261</td>\n",
       "      <td>1</td>\n",
       "      <td>...</td>\n",
       "      <td>-1</td>\n",
       "      <td>-1.0</td>\n",
       "      <td>-1</td>\n",
       "      <td>-1.0</td>\n",
       "      <td>-1</td>\n",
       "      <td>-1</td>\n",
       "      <td>2008</td>\n",
       "      <td>8</td>\n",
       "      <td>6</td>\n",
       "      <td>0</td>\n",
       "    </tr>\n",
       "    <tr>\n",
       "      <th>1</th>\n",
       "      <td>1730</td>\n",
       "      <td>1729</td>\n",
       "      <td>1729</td>\n",
       "      <td>0</td>\n",
       "      <td>1</td>\n",
       "      <td>2008-08-16</td>\n",
       "      <td>489043</td>\n",
       "      <td>9825</td>\n",
       "      <td>8659</td>\n",
       "      <td>1</td>\n",
       "      <td>...</td>\n",
       "      <td>-1</td>\n",
       "      <td>-1.0</td>\n",
       "      <td>-1</td>\n",
       "      <td>-1.0</td>\n",
       "      <td>-1</td>\n",
       "      <td>-1</td>\n",
       "      <td>2008</td>\n",
       "      <td>8</td>\n",
       "      <td>5</td>\n",
       "      <td>0</td>\n",
       "    </tr>\n",
       "  </tbody>\n",
       "</table>\n",
       "<p>2 rows × 972 columns</p>\n",
       "</div>"
      ],
      "text/plain": [
       "     id  country_id  league_id_x  season  stage       date  match_api_id  \\\n",
       "0  1729        1729         1729       0      1 2008-08-17        489042   \n",
       "1  1730        1729         1729       0      1 2008-08-16        489043   \n",
       "\n",
       "   home_team_api_id  away_team_api_id  home_team_goal  ...    \\\n",
       "0             10260             10261               1  ...     \n",
       "1              9825              8659               1  ...     \n",
       "\n",
       "   home_defenceTeamWidth  away_defenceTeamWidth  home_defenceTeamWidthClass  \\\n",
       "0                     -1                   -1.0                          -1   \n",
       "1                     -1                   -1.0                          -1   \n",
       "\n",
       "   away_defenceTeamWidthClass  home_defenceDefenderLineClass  \\\n",
       "0                        -1.0                             -1   \n",
       "1                        -1.0                             -1   \n",
       "\n",
       "   away_defenceDefenderLineClass  year  month  dow  hour   \n",
       "0                             -1  2008      8    6      0  \n",
       "1                             -1  2008      8    5      0  \n",
       "\n",
       "[2 rows x 972 columns]"
      ]
     },
     "execution_count": 21,
     "metadata": {},
     "output_type": "execute_result"
    }
   ],
   "source": [
    "data_final[:2]"
   ]
  },
  {
   "cell_type": "code",
   "execution_count": 22,
   "metadata": {},
   "outputs": [],
   "source": [
    "# don't need id and date column\n",
    "\n",
    "data_final.drop(['id','date'],axis=1, inplace=True)"
   ]
  },
  {
   "cell_type": "code",
   "execution_count": 23,
   "metadata": {},
   "outputs": [],
   "source": [
    "data_final.drop(['home_team_goal', 'away_team_goal','goal'], axis=1, inplace=True)"
   ]
  },
  {
   "cell_type": "markdown",
   "metadata": {},
   "source": [
    "Making lineup of home and way players"
   ]
  },
  {
   "cell_type": "code",
   "execution_count": 24,
   "metadata": {},
   "outputs": [],
   "source": [
    "data_final['away_lineup'] = data_final[['away_player_X1', 'away_player_X2', 'away_player_X3', 'away_player_X4',\n",
    "       'away_player_X5', 'away_player_X6', 'away_player_X7', 'away_player_X8',\n",
    "       'away_player_X9', 'away_player_X10', 'away_player_X11', 'away_player_Y1', 'away_player_Y2', 'away_player_Y3', 'away_player_Y4',\n",
    "       'away_player_Y5', 'away_player_Y6', 'away_player_Y7', 'away_player_Y8',\n",
    "       'away_player_Y9', 'away_player_Y10', 'away_player_Y11']].astype(str).add('_').sum(axis=1).str[:-1]"
   ]
  },
  {
   "cell_type": "code",
   "execution_count": 25,
   "metadata": {},
   "outputs": [],
   "source": [
    "data_final['home_lineup'] = data_final[['home_player_X1', 'home_player_X2', 'home_player_X3', 'home_player_X4',\n",
    "       'home_player_X5', 'home_player_X6', 'home_player_X7', 'home_player_X8',\n",
    "       'home_player_X9', 'home_player_X10', 'home_player_X11', 'home_player_Y1', 'home_player_Y2', 'home_player_Y3', 'home_player_Y4',\n",
    "       'home_player_Y5', 'home_player_Y6', 'home_player_Y7', 'home_player_Y8',\n",
    "       'home_player_Y9', 'home_player_Y10', 'home_player_Y11']].astype(str).add('_').sum(axis=1).str[:-1]"
   ]
  },
  {
   "cell_type": "code",
   "execution_count": 26,
   "metadata": {},
   "outputs": [],
   "source": [
    "id_cols_to_rem = list(data_final.filter(regex='id$').columns) + list(data_final.filter(regex='\\d$').columns)"
   ]
  },
  {
   "cell_type": "code",
   "execution_count": 27,
   "metadata": {},
   "outputs": [],
   "source": [
    "data_final.drop(id_cols_to_rem, axis=1, inplace=True)"
   ]
  },
  {
   "cell_type": "code",
   "execution_count": 28,
   "metadata": {},
   "outputs": [],
   "source": [
    "# new cols were string\n",
    "\n",
    "convert_cats(data_final)"
   ]
  },
  {
   "cell_type": "markdown",
   "metadata": {},
   "source": [
    "### Splitting data into train, validation and test "
   ]
  },
  {
   "cell_type": "code",
   "execution_count": 29,
   "metadata": {},
   "outputs": [],
   "source": [
    "train = data_final[(data_final.year!=2016) & (data_final.year!=2015) & (data_final.year!=2014)]\n",
    "val1 = data_final[data_final.year==2014]\n",
    "train_val1 = data_final[(data_final.year!=2016) & (data_final.year!=2015)]\n",
    "val2 = data_final[data_final.year==2015]\n",
    "\n",
    "# completely hold out\n",
    "test = data_final[data_final.year==2016]"
   ]
  },
  {
   "cell_type": "code",
   "execution_count": 30,
   "metadata": {},
   "outputs": [
    {
     "data": {
      "text/plain": [
       "((5423, 899), (1038, 899), (6461, 899), (1051, 899), (533, 899))"
      ]
     },
     "execution_count": 30,
     "metadata": {},
     "output_type": "execute_result"
    }
   ],
   "source": [
    "train.shape, val1.shape, train_val1.shape, val2.shape, test.shape"
   ]
  },
  {
   "cell_type": "code",
   "execution_count": 40,
   "metadata": {},
   "outputs": [],
   "source": [
    "x_train, y_train = train.drop('outcome', axis=1), train['outcome']\n",
    "x_val1, y_val1 = val1.drop('outcome', axis=1), val1['outcome']\n",
    "x_val2, y_val2 = val2.drop('outcome', axis=1), val2['outcome']"
   ]
  },
  {
   "cell_type": "markdown",
   "metadata": {},
   "source": [
    "### Random Forest"
   ]
  },
  {
   "cell_type": "markdown",
   "metadata": {},
   "source": [
    "Multiclass without callibration"
   ]
  },
  {
   "cell_type": "code",
   "execution_count": 86,
   "metadata": {},
   "outputs": [
    {
     "data": {
      "text/plain": [
       "RandomForestClassifier(bootstrap=True, class_weight=None, criterion='gini',\n",
       "            max_depth=None, max_features='auto', max_leaf_nodes=None,\n",
       "            min_impurity_decrease=0.0, min_impurity_split=None,\n",
       "            min_samples_leaf=1, min_samples_split=2,\n",
       "            min_weight_fraction_leaf=0.0, n_estimators=200, n_jobs=-1,\n",
       "            oob_score=False, random_state=10, verbose=0, warm_start=False)"
      ]
     },
     "execution_count": 86,
     "metadata": {},
     "output_type": "execute_result"
    }
   ],
   "source": [
    "m = RandomForestClassifier(n_jobs=-1, n_estimators=200, random_state=10)\n",
    "m.fit(train_val1.drop('outcome', axis=1), train_val1['outcome'])"
   ]
  },
  {
   "cell_type": "code",
   "execution_count": 87,
   "metadata": {
    "scrolled": true
   },
   "outputs": [
    {
     "data": {
      "text/plain": [
       "1.0118141042237716"
      ]
     },
     "execution_count": 87,
     "metadata": {},
     "output_type": "execute_result"
    }
   ],
   "source": [
    "m_probs = m.predict_proba(val2.drop('outcome', axis=1))\n",
    "score = log_loss(val2['outcome'], m_probs)\n",
    "score"
   ]
  },
  {
   "cell_type": "code",
   "execution_count": 88,
   "metadata": {},
   "outputs": [
    {
     "data": {
      "text/plain": [
       "array([[0.26 , 0.305, 0.435],\n",
       "       [0.39 , 0.33 , 0.28 ],\n",
       "       [0.22 , 0.21 , 0.57 ],\n",
       "       [0.12 , 0.16 , 0.72 ],\n",
       "       [0.21 , 0.255, 0.535],\n",
       "       [0.215, 0.285, 0.5  ],\n",
       "       [0.37 , 0.31 , 0.32 ],\n",
       "       [0.445, 0.325, 0.23 ],\n",
       "       [0.575, 0.195, 0.23 ],\n",
       "       [0.265, 0.24 , 0.495]])"
      ]
     },
     "execution_count": 88,
     "metadata": {},
     "output_type": "execute_result"
    }
   ],
   "source": [
    "m_probs[:10]"
   ]
  },
  {
   "cell_type": "code",
   "execution_count": 89,
   "metadata": {},
   "outputs": [
    {
     "data": {
      "text/plain": [
       "0.5033301617507137"
      ]
     },
     "execution_count": 89,
     "metadata": {},
     "output_type": "execute_result"
    }
   ],
   "source": [
    "m.score(val2.drop('outcome', axis=1), val2['outcome'])"
   ]
  },
  {
   "cell_type": "markdown",
   "metadata": {},
   "source": [
    "Multiclass with callibration "
   ]
  },
  {
   "cell_type": "code",
   "execution_count": 81,
   "metadata": {
    "scrolled": true
   },
   "outputs": [
    {
     "name": "stdout",
     "output_type": "stream",
     "text": [
      "logloss :  0.9980382448512757\n"
     ]
    }
   ],
   "source": [
    "m2 = RandomForestClassifier(n_estimators=200, n_jobs=-1, random_state=10)\n",
    "m2.fit(train.drop('outcome', axis=1), train['outcome'])\n",
    "m2_probs = m2.predict_proba(val1.drop('outcome', axis=1))\n",
    "\n",
    "sig_m2 = CalibratedClassifierCV(m2, method=\"sigmoid\", cv=\"prefit\")\n",
    "sig_m2.fit(val1.drop('outcome', axis=1), val1['outcome'])  # final callibrated model\n",
    "sig_m2_probs = sig_m2.predict_proba(val2.drop('outcome', axis=1))\n",
    "sig_score = log_loss(val2['outcome'], sig_m2_probs)\n",
    "\n",
    "print('logloss : ', sig_score)"
   ]
  },
  {
   "cell_type": "code",
   "execution_count": 82,
   "metadata": {},
   "outputs": [
    {
     "data": {
      "text/plain": [
       "0.5137963843958135"
      ]
     },
     "execution_count": 82,
     "metadata": {},
     "output_type": "execute_result"
    }
   ],
   "source": [
    "sig_m2.score(x_val2, y_val2)"
   ]
  },
  {
   "cell_type": "markdown",
   "metadata": {},
   "source": [
    "#### Hyperparameter tuning"
   ]
  },
  {
   "cell_type": "code",
   "execution_count": 49,
   "metadata": {},
   "outputs": [],
   "source": [
    "def fitOne(model, x_train, y_train, x_val1, y_val1, params):\n",
    "\n",
    "    model.set_params(**params)\n",
    "    m = model.fit(x_train, y_train)\n",
    "    \n",
    "    sig_mod = CalibratedClassifierCV(m, method=\"sigmoid\", cv=\"prefit\")\n",
    "    return sig_mod.fit(x_val1, y_val1)\n",
    "\n",
    "def fitModels(model, paramGrid, x_train, y_train, x_val1, y_val1, n_jobs=-1, verbose=10):\n",
    "\n",
    "    return Parallel(n_jobs=n_jobs, verbose=verbose)(delayed(fitOne)(model,\n",
    "                                                                    x_train,\n",
    "                                                                    y_train, \n",
    "                                                                    x_val1,\n",
    "                                                                    y_val1,\n",
    "                                                                    params) for params in paramGrid)\n",
    "\n",
    "def scoreOne(model, x,y, metric):\n",
    "    probs = model.predict_proba(x)\n",
    "    return log_loss(y, probs)\n",
    "\n",
    "\n",
    "def scoreModels(models, X, y, metric=log_loss, predict_proba=True, n_jobs=-1, verbose=10):\n",
    "\n",
    "    return Parallel(n_jobs=n_jobs, verbose=np.ceil(verbose/10))(delayed(scoreOne)(m,\n",
    "                                                                      X,\n",
    "                                                                      y,\n",
    "                                                                      metric) for m in models)\n",
    "\n",
    "\n",
    "def getBestModel(models, scores, greater_is_better=False):\n",
    "\n",
    "    if greater_is_better:\n",
    "        return models[np.argmax(scores)]\n",
    "    else:\n",
    "        return models[np.argmin(scores)]\n",
    "\n",
    "\n",
    "def getBestScore(scores, greater_is_better=False):\n",
    "    \n",
    "    if greater_is_better:\n",
    "        return np.max(scores)\n",
    "    else:\n",
    "        return np.min(scores)\n",
    "\n",
    "def bestFit(model, paramGrid, x_train, y_train, x_val1, y_val1, x_val2, y_val2, \n",
    "            metric=log_loss, greater_is_better=False, predict_proba=True,\n",
    "            scoreLabel=None, vrange=None, cmap='YlOrRd', n_jobs=-1, verbose=10):\n",
    "    print('-------------FITTING MODELS-------------')\n",
    "    models = fitModels(model, paramGrid, x_train, y_train, x_val1, y_val1, n_jobs, verbose)\n",
    "    print('-------------SCORING MODELS-------------')\n",
    "    scores = scoreModels(models, x_val2, y_val2, metric,\n",
    "                         predict_proba, n_jobs, verbose)\n",
    "\n",
    "    return getBestModel(models, scores, greater_is_better), getBestScore(scores, greater_is_better), models, scores\n"
   ]
  },
  {
   "cell_type": "code",
   "execution_count": 57,
   "metadata": {},
   "outputs": [],
   "source": [
    "grid = {\n",
    "    'min_samples_leaf': [1, 5, 10, 15, 20, 25],\n",
    "    'max_features': ['sqrt', 'log2', 0.5],\n",
    "    'n_estimators': [100],\n",
    "    'n_jobs': [-1],\n",
    "    'random_state': [10]\n",
    "}\n",
    "paramGrid = ParameterGrid(grid)"
   ]
  },
  {
   "cell_type": "code",
   "execution_count": 58,
   "metadata": {},
   "outputs": [
    {
     "name": "stdout",
     "output_type": "stream",
     "text": [
      "-------------FITTING MODELS-------------\n"
     ]
    },
    {
     "name": "stderr",
     "output_type": "stream",
     "text": [
      "[Parallel(n_jobs=-1)]: Done   5 tasks      | elapsed:   14.7s\n",
      "[Parallel(n_jobs=-1)]: Done  10 tasks      | elapsed:   18.0s\n",
      "[Parallel(n_jobs=-1)]: Done  13 out of  18 | elapsed:  2.2min remaining:   51.7s\n",
      "[Parallel(n_jobs=-1)]: Done  15 out of  18 | elapsed:  2.9min remaining:   34.3s\n",
      "[Parallel(n_jobs=-1)]: Done  18 out of  18 | elapsed:  3.5min finished\n"
     ]
    },
    {
     "name": "stdout",
     "output_type": "stream",
     "text": [
      "-------------SCORING MODELS-------------\n"
     ]
    },
    {
     "name": "stderr",
     "output_type": "stream",
     "text": [
      "[Parallel(n_jobs=-1)]: Done  18 out of  18 | elapsed:    1.6s finished\n"
     ]
    }
   ],
   "source": [
    "best_model, best_score, all_models, all_scores = bestFit(RandomForestClassifier(), paramGrid,\n",
    "                                                    x_train, y_train, x_val1, y_val1, x_val2, y_val2,\n",
    "                                                    metric=roc_auc_score, greater_is_better=False, \n",
    "                                                    scoreLabel='log_loss')"
   ]
  },
  {
   "cell_type": "code",
   "execution_count": 68,
   "metadata": {},
   "outputs": [
    {
     "data": {
      "text/plain": [
       "0.9912403806973626"
      ]
     },
     "execution_count": 68,
     "metadata": {},
     "output_type": "execute_result"
    }
   ],
   "source": [
    "best_score"
   ]
  },
  {
   "cell_type": "code",
   "execution_count": 62,
   "metadata": {},
   "outputs": [
    {
     "data": {
      "text/plain": [
       "CalibratedClassifierCV(base_estimator=RandomForestClassifier(bootstrap=True, class_weight=None, criterion='gini',\n",
       "            max_depth=None, max_features='sqrt', max_leaf_nodes=None,\n",
       "            min_impurity_decrease=0.0, min_impurity_split=None,\n",
       "            min_samples_leaf=5, min_samples_split=2,\n",
       "            min_weight_fraction_leaf=0.0, n_estimators=100, n_jobs=-1,\n",
       "            oob_score=False, random_state=10, verbose=0, warm_start=False),\n",
       "            cv='prefit', method='sigmoid')"
      ]
     },
     "execution_count": 62,
     "metadata": {},
     "output_type": "execute_result"
    }
   ],
   "source": [
    "best_model"
   ]
  },
  {
   "cell_type": "code",
   "execution_count": 63,
   "metadata": {
    "scrolled": false
   },
   "outputs": [
    {
     "data": {
      "text/plain": [
       "0.5147478591817317"
      ]
     },
     "execution_count": 63,
     "metadata": {},
     "output_type": "execute_result"
    }
   ],
   "source": [
    "best_model.score(x_val2, y_val2)"
   ]
  },
  {
   "cell_type": "markdown",
   "metadata": {},
   "source": [
    "#### Feature importance"
   ]
  },
  {
   "cell_type": "code",
   "execution_count": 83,
   "metadata": {},
   "outputs": [],
   "source": [
    "imp = rfpimp.importances(best_model, x_val2 , y_val2) # permutation"
   ]
  },
  {
   "cell_type": "code",
   "execution_count": 85,
   "metadata": {
    "scrolled": false
   },
   "outputs": [
    {
     "data": {
      "image/png": "[encoded data removed]",
      "text/plain": [
       "<Figure size 432x288 with 1 Axes>"
      ]
     },
     "metadata": {},
     "output_type": "display_data"
    }
   ],
   "source": [
    "rfpimp.plot_importances(imp[-15:])"
   ]
  },
  {
   "cell_type": "code",
   "execution_count": 90,
   "metadata": {},
   "outputs": [],
   "source": [
    "imp2 = rfpimp.importances(m, x_val2 , y_val2) # permutation"
   ]
  },
  {
   "cell_type": "code",
   "execution_count": 91,
   "metadata": {
    "scrolled": false
   },
   "outputs": [
    {
     "data": {
      "image/png": "[encoded data removed]",
      "text/plain": [
       "<Figure size 432x288 with 1 Axes>"
      ]
     },
     "metadata": {},
     "output_type": "display_data"
    }
   ],
   "source": [
    "rfpimp.plot_importances(imp2[-15:])"
   ]
  },
  {
   "cell_type": "markdown",
   "metadata": {},
   "source": [
    "## End"
   ]
  }
 ],
 "metadata": {
  "kernelspec": {
   "display_name": "Python 3",
   "language": "python",
   "name": "python3"
  },
  "language_info": {
   "codemirror_mode": {
    "name": "ipython",
    "version": 3
   },
   "file_extension": ".py",
   "mimetype": "text/x-python",
   "name": "python",
   "nbconvert_exporter": "python",
   "pygments_lexer": "ipython3",
   "version": "3.6.4"
  }
 },
 "nbformat": 4,
 "nbformat_minor": 2
}
