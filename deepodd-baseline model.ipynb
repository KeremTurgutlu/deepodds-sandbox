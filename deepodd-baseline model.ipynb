{
 "cells": [
  {
   "cell_type": "code",
   "execution_count": 96,
   "metadata": {},
   "outputs": [],
   "source": [
    "import pandas as pd\n",
    "from sklearn.ensemble import RandomForestClassifier\n",
    "pd.set_option(\"display.max_columns\",500)"
   ]
  },
  {
   "cell_type": "code",
   "execution_count": 97,
   "metadata": {},
   "outputs": [],
   "source": [
    "baseline_data = pd.read_csv('../data/baseline_main_data.csv')\n",
    "date_info = pd.read_csv('../data/date_info.csv')"
   ]
  },
  {
   "cell_type": "markdown",
   "metadata": {},
   "source": [
    "### Dev-test set"
   ]
  },
  {
   "cell_type": "code",
   "execution_count": 98,
   "metadata": {},
   "outputs": [],
   "source": [
    "cls = []\n",
    "for h, a, d in zip(baseline_data.HOME_WIN, baseline_data.AWAY_WIN, baseline_data.DRAW):\n",
    "    if h == 1:\n",
    "        cls.append(0)\n",
    "    elif a == 1:\n",
    "        cls.append(1)\n",
    "    else:\n",
    "        cls.append(2)"
   ]
  },
  {
   "cell_type": "code",
   "execution_count": 99,
   "metadata": {},
   "outputs": [],
   "source": [
    "baseline_data['match_outcome'] = cls"
   ]
  },
  {
   "cell_type": "code",
   "execution_count": 100,
   "metadata": {},
   "outputs": [],
   "source": [
    "def col_nunique(df): return {c: df[c].nunique() for c in df.columns} # get number of unique elements\n",
    "def col_nas(df): return ({c:df[c].isnull().sum() for c in df.columns}) # get number of NAs"
   ]
  },
  {
   "cell_type": "code",
   "execution_count": 101,
   "metadata": {},
   "outputs": [
    {
     "data": {
      "text/html": [
       "<div>\n",
       "<table border=\"1\" class=\"dataframe\">\n",
       "  <thead>\n",
       "    <tr style=\"text-align: right;\">\n",
       "      <th></th>\n",
       "      <th>home_player_1_overall_rating</th>\n",
       "      <th>home_player_2_overall_rating</th>\n",
       "      <th>home_player_3_overall_rating</th>\n",
       "      <th>home_player_4_overall_rating</th>\n",
       "      <th>home_player_5_overall_rating</th>\n",
       "      <th>home_player_6_overall_rating</th>\n",
       "      <th>home_player_7_overall_rating</th>\n",
       "      <th>home_player_8_overall_rating</th>\n",
       "      <th>home_player_9_overall_rating</th>\n",
       "      <th>home_player_10_overall_rating</th>\n",
       "      <th>home_player_11_overall_rating</th>\n",
       "      <th>away_player_1_overall_rating</th>\n",
       "      <th>away_player_2_overall_rating</th>\n",
       "      <th>away_player_3_overall_rating</th>\n",
       "      <th>away_player_4_overall_rating</th>\n",
       "      <th>away_player_5_overall_rating</th>\n",
       "      <th>away_player_6_overall_rating</th>\n",
       "      <th>away_player_7_overall_rating</th>\n",
       "      <th>away_player_8_overall_rating</th>\n",
       "      <th>away_player_9_overall_rating</th>\n",
       "      <th>away_player_10_overall_rating</th>\n",
       "      <th>away_player_11_overall_rating</th>\n",
       "      <th>match_api_id</th>\n",
       "      <th>home_home_win_ratio</th>\n",
       "      <th>home_home_lose_ratio</th>\n",
       "      <th>home_home_draw_ratio</th>\n",
       "      <th>home_away_win_ratio</th>\n",
       "      <th>home_away_lose_ratio</th>\n",
       "      <th>home_away_draw_ratio</th>\n",
       "      <th>home_all_win_ratio</th>\n",
       "      <th>home_all_lose_ratio</th>\n",
       "      <th>home_all_draw_ratio</th>\n",
       "      <th>away_home_win_ratio</th>\n",
       "      <th>away_home_lose_ratio</th>\n",
       "      <th>away_home_draw_ratio</th>\n",
       "      <th>away_away_win_ratio</th>\n",
       "      <th>away_away_lose_ratio</th>\n",
       "      <th>away_away_draw_ratio</th>\n",
       "      <th>away_all_win_ratio</th>\n",
       "      <th>away_all_lose_ratio</th>\n",
       "      <th>away_all_draw_ratio</th>\n",
       "      <th>matching_home_home_win_ratio</th>\n",
       "      <th>matching_home_home_lose_ratio</th>\n",
       "      <th>matching_home_home_draw_ratio</th>\n",
       "      <th>matching_home_away_win_ratio</th>\n",
       "      <th>matching_home_away_lose_ratio</th>\n",
       "      <th>matching_home_away_draw_ratio</th>\n",
       "      <th>matching_home_all_win_ratio</th>\n",
       "      <th>matching_home_all_lose_ratio</th>\n",
       "      <th>matching_home_all_draw_ratio</th>\n",
       "      <th>AWAY_WIN</th>\n",
       "      <th>HOME_WIN</th>\n",
       "      <th>DRAW</th>\n",
       "      <th>TOTAL_GOALS</th>\n",
       "      <th>date</th>\n",
       "      <th>match_outcome</th>\n",
       "    </tr>\n",
       "  </thead>\n",
       "  <tbody>\n",
       "    <tr>\n",
       "      <th>0</th>\n",
       "      <td>85.0</td>\n",
       "      <td>79.0</td>\n",
       "      <td>88.0</td>\n",
       "      <td>85.0</td>\n",
       "      <td>78.0</td>\n",
       "      <td>74.0</td>\n",
       "      <td>83.0</td>\n",
       "      <td>85.0</td>\n",
       "      <td>86.0</td>\n",
       "      <td>74.0</td>\n",
       "      <td>90.0</td>\n",
       "      <td>82.0</td>\n",
       "      <td>79.0</td>\n",
       "      <td>77.0</td>\n",
       "      <td>78.0</td>\n",
       "      <td>76.0</td>\n",
       "      <td>77.0</td>\n",
       "      <td>56.0</td>\n",
       "      <td>69.0</td>\n",
       "      <td>75.0</td>\n",
       "      <td>76.0</td>\n",
       "      <td>83.0</td>\n",
       "      <td>489042</td>\n",
       "      <td>0.6</td>\n",
       "      <td>0.2</td>\n",
       "      <td>0.2</td>\n",
       "      <td>0.2</td>\n",
       "      <td>0.0</td>\n",
       "      <td>0.8</td>\n",
       "      <td>0.4</td>\n",
       "      <td>0.1</td>\n",
       "      <td>0.5</td>\n",
       "      <td>0.25</td>\n",
       "      <td>0.75</td>\n",
       "      <td>0.0</td>\n",
       "      <td>0.0</td>\n",
       "      <td>0.333333</td>\n",
       "      <td>0.666667</td>\n",
       "      <td>0.1</td>\n",
       "      <td>0.5</td>\n",
       "      <td>0.4</td>\n",
       "      <td>0.666667</td>\n",
       "      <td>0.0</td>\n",
       "      <td>0.333333</td>\n",
       "      <td>0.5</td>\n",
       "      <td>0.5</td>\n",
       "      <td>0.0</td>\n",
       "      <td>0.6</td>\n",
       "      <td>0.2</td>\n",
       "      <td>0.2</td>\n",
       "      <td>0</td>\n",
       "      <td>0</td>\n",
       "      <td>1</td>\n",
       "      <td>2</td>\n",
       "      <td>2008-08-17 00:00:00</td>\n",
       "      <td>2</td>\n",
       "    </tr>\n",
       "  </tbody>\n",
       "</table>\n",
       "</div>"
      ],
      "text/plain": [
       "   home_player_1_overall_rating  home_player_2_overall_rating  \\\n",
       "0                          85.0                          79.0   \n",
       "\n",
       "   home_player_3_overall_rating  home_player_4_overall_rating  \\\n",
       "0                          88.0                          85.0   \n",
       "\n",
       "   home_player_5_overall_rating  home_player_6_overall_rating  \\\n",
       "0                          78.0                          74.0   \n",
       "\n",
       "   home_player_7_overall_rating  home_player_8_overall_rating  \\\n",
       "0                          83.0                          85.0   \n",
       "\n",
       "   home_player_9_overall_rating  home_player_10_overall_rating  \\\n",
       "0                          86.0                           74.0   \n",
       "\n",
       "   home_player_11_overall_rating  away_player_1_overall_rating  \\\n",
       "0                           90.0                          82.0   \n",
       "\n",
       "   away_player_2_overall_rating  away_player_3_overall_rating  \\\n",
       "0                          79.0                          77.0   \n",
       "\n",
       "   away_player_4_overall_rating  away_player_5_overall_rating  \\\n",
       "0                          78.0                          76.0   \n",
       "\n",
       "   away_player_6_overall_rating  away_player_7_overall_rating  \\\n",
       "0                          77.0                          56.0   \n",
       "\n",
       "   away_player_8_overall_rating  away_player_9_overall_rating  \\\n",
       "0                          69.0                          75.0   \n",
       "\n",
       "   away_player_10_overall_rating  away_player_11_overall_rating  match_api_id  \\\n",
       "0                           76.0                           83.0        489042   \n",
       "\n",
       "   home_home_win_ratio  home_home_lose_ratio  home_home_draw_ratio  \\\n",
       "0                  0.6                   0.2                   0.2   \n",
       "\n",
       "   home_away_win_ratio  home_away_lose_ratio  home_away_draw_ratio  \\\n",
       "0                  0.2                   0.0                   0.8   \n",
       "\n",
       "   home_all_win_ratio  home_all_lose_ratio  home_all_draw_ratio  \\\n",
       "0                 0.4                  0.1                  0.5   \n",
       "\n",
       "   away_home_win_ratio  away_home_lose_ratio  away_home_draw_ratio  \\\n",
       "0                 0.25                  0.75                   0.0   \n",
       "\n",
       "   away_away_win_ratio  away_away_lose_ratio  away_away_draw_ratio  \\\n",
       "0                  0.0              0.333333              0.666667   \n",
       "\n",
       "   away_all_win_ratio  away_all_lose_ratio  away_all_draw_ratio  \\\n",
       "0                 0.1                  0.5                  0.4   \n",
       "\n",
       "   matching_home_home_win_ratio  matching_home_home_lose_ratio  \\\n",
       "0                      0.666667                            0.0   \n",
       "\n",
       "   matching_home_home_draw_ratio  matching_home_away_win_ratio  \\\n",
       "0                       0.333333                           0.5   \n",
       "\n",
       "   matching_home_away_lose_ratio  matching_home_away_draw_ratio  \\\n",
       "0                            0.5                            0.0   \n",
       "\n",
       "   matching_home_all_win_ratio  matching_home_all_lose_ratio  \\\n",
       "0                          0.6                           0.2   \n",
       "\n",
       "   matching_home_all_draw_ratio  AWAY_WIN  HOME_WIN  DRAW  TOTAL_GOALS  \\\n",
       "0                           0.2         0         0     1            2   \n",
       "\n",
       "                  date  match_outcome  \n",
       "0  2008-08-17 00:00:00              2  "
      ]
     },
     "execution_count": 101,
     "metadata": {},
     "output_type": "execute_result"
    }
   ],
   "source": [
    "baseline_data.head(1)"
   ]
  },
  {
   "cell_type": "code",
   "execution_count": 102,
   "metadata": {
    "scrolled": true
   },
   "outputs": [
    {
     "data": {
      "text/plain": [
       "{'AWAY_WIN': 0,\n",
       " 'DRAW': 0,\n",
       " 'HOME_WIN': 0,\n",
       " 'TOTAL_GOALS': 0,\n",
       " 'away_all_draw_ratio': 0,\n",
       " 'away_all_lose_ratio': 0,\n",
       " 'away_all_win_ratio': 0,\n",
       " 'away_away_draw_ratio': 0,\n",
       " 'away_away_lose_ratio': 0,\n",
       " 'away_away_win_ratio': 0,\n",
       " 'away_home_draw_ratio': 0,\n",
       " 'away_home_lose_ratio': 0,\n",
       " 'away_home_win_ratio': 0,\n",
       " 'away_player_10_overall_rating': 0,\n",
       " 'away_player_11_overall_rating': 0,\n",
       " 'away_player_1_overall_rating': 0,\n",
       " 'away_player_2_overall_rating': 0,\n",
       " 'away_player_3_overall_rating': 0,\n",
       " 'away_player_4_overall_rating': 0,\n",
       " 'away_player_5_overall_rating': 0,\n",
       " 'away_player_6_overall_rating': 0,\n",
       " 'away_player_7_overall_rating': 0,\n",
       " 'away_player_8_overall_rating': 0,\n",
       " 'away_player_9_overall_rating': 0,\n",
       " 'date': 0,\n",
       " 'home_all_draw_ratio': 0,\n",
       " 'home_all_lose_ratio': 0,\n",
       " 'home_all_win_ratio': 0,\n",
       " 'home_away_draw_ratio': 0,\n",
       " 'home_away_lose_ratio': 0,\n",
       " 'home_away_win_ratio': 0,\n",
       " 'home_home_draw_ratio': 0,\n",
       " 'home_home_lose_ratio': 0,\n",
       " 'home_home_win_ratio': 0,\n",
       " 'home_player_10_overall_rating': 0,\n",
       " 'home_player_11_overall_rating': 0,\n",
       " 'home_player_1_overall_rating': 0,\n",
       " 'home_player_2_overall_rating': 0,\n",
       " 'home_player_3_overall_rating': 0,\n",
       " 'home_player_4_overall_rating': 0,\n",
       " 'home_player_5_overall_rating': 0,\n",
       " 'home_player_6_overall_rating': 0,\n",
       " 'home_player_7_overall_rating': 0,\n",
       " 'home_player_8_overall_rating': 0,\n",
       " 'home_player_9_overall_rating': 0,\n",
       " 'match_api_id': 0,\n",
       " 'match_outcome': 0,\n",
       " 'matching_home_all_draw_ratio': 2,\n",
       " 'matching_home_all_lose_ratio': 2,\n",
       " 'matching_home_all_win_ratio': 2,\n",
       " 'matching_home_away_draw_ratio': 6,\n",
       " 'matching_home_away_lose_ratio': 6,\n",
       " 'matching_home_away_win_ratio': 6,\n",
       " 'matching_home_home_draw_ratio': 386,\n",
       " 'matching_home_home_lose_ratio': 386,\n",
       " 'matching_home_home_win_ratio': 386}"
      ]
     },
     "execution_count": 102,
     "metadata": {},
     "output_type": "execute_result"
    }
   ],
   "source": [
    "col_nas(baseline_data)"
   ]
  },
  {
   "cell_type": "code",
   "execution_count": 103,
   "metadata": {
    "scrolled": false
   },
   "outputs": [
    {
     "data": {
      "text/html": [
       "<div>\n",
       "<table border=\"1\" class=\"dataframe\">\n",
       "  <thead>\n",
       "    <tr style=\"text-align: right;\">\n",
       "      <th></th>\n",
       "      <th>date</th>\n",
       "      <th>days_to_next_match</th>\n",
       "      <th>dow</th>\n",
       "      <th>week</th>\n",
       "    </tr>\n",
       "  </thead>\n",
       "  <tbody>\n",
       "    <tr>\n",
       "      <th>778</th>\n",
       "      <td>2016-04-02 00:00:00</td>\n",
       "      <td>1</td>\n",
       "      <td>5</td>\n",
       "      <td>13</td>\n",
       "    </tr>\n",
       "    <tr>\n",
       "      <th>779</th>\n",
       "      <td>2016-04-03 00:00:00</td>\n",
       "      <td>6</td>\n",
       "      <td>6</td>\n",
       "      <td>13</td>\n",
       "    </tr>\n",
       "    <tr>\n",
       "      <th>780</th>\n",
       "      <td>2016-04-09 00:00:00</td>\n",
       "      <td>1</td>\n",
       "      <td>5</td>\n",
       "      <td>14</td>\n",
       "    </tr>\n",
       "    <tr>\n",
       "      <th>781</th>\n",
       "      <td>2016-04-10 00:00:00</td>\n",
       "      <td>3</td>\n",
       "      <td>6</td>\n",
       "      <td>14</td>\n",
       "    </tr>\n",
       "    <tr>\n",
       "      <th>782</th>\n",
       "      <td>2016-04-13 00:00:00</td>\n",
       "      <td>3</td>\n",
       "      <td>2</td>\n",
       "      <td>15</td>\n",
       "    </tr>\n",
       "    <tr>\n",
       "      <th>783</th>\n",
       "      <td>2016-04-16 00:00:00</td>\n",
       "      <td>1</td>\n",
       "      <td>5</td>\n",
       "      <td>15</td>\n",
       "    </tr>\n",
       "    <tr>\n",
       "      <th>784</th>\n",
       "      <td>2016-04-17 00:00:00</td>\n",
       "      <td>1</td>\n",
       "      <td>6</td>\n",
       "      <td>15</td>\n",
       "    </tr>\n",
       "    <tr>\n",
       "      <th>785</th>\n",
       "      <td>2016-04-18 00:00:00</td>\n",
       "      <td>1</td>\n",
       "      <td>0</td>\n",
       "      <td>16</td>\n",
       "    </tr>\n",
       "    <tr>\n",
       "      <th>786</th>\n",
       "      <td>2016-04-19 00:00:00</td>\n",
       "      <td>1</td>\n",
       "      <td>1</td>\n",
       "      <td>16</td>\n",
       "    </tr>\n",
       "    <tr>\n",
       "      <th>787</th>\n",
       "      <td>2016-04-20 00:00:00</td>\n",
       "      <td>1</td>\n",
       "      <td>2</td>\n",
       "      <td>16</td>\n",
       "    </tr>\n",
       "    <tr>\n",
       "      <th>788</th>\n",
       "      <td>2016-04-21 00:00:00</td>\n",
       "      <td>2</td>\n",
       "      <td>3</td>\n",
       "      <td>16</td>\n",
       "    </tr>\n",
       "    <tr>\n",
       "      <th>789</th>\n",
       "      <td>2016-04-23 00:00:00</td>\n",
       "      <td>1</td>\n",
       "      <td>5</td>\n",
       "      <td>16</td>\n",
       "    </tr>\n",
       "    <tr>\n",
       "      <th>790</th>\n",
       "      <td>2016-04-24 00:00:00</td>\n",
       "      <td>1</td>\n",
       "      <td>6</td>\n",
       "      <td>16</td>\n",
       "    </tr>\n",
       "    <tr>\n",
       "      <th>791</th>\n",
       "      <td>2016-04-25 00:00:00</td>\n",
       "      <td>5</td>\n",
       "      <td>0</td>\n",
       "      <td>17</td>\n",
       "    </tr>\n",
       "    <tr>\n",
       "      <th>792</th>\n",
       "      <td>2016-04-30 00:00:00</td>\n",
       "      <td>1</td>\n",
       "      <td>5</td>\n",
       "      <td>17</td>\n",
       "    </tr>\n",
       "    <tr>\n",
       "      <th>793</th>\n",
       "      <td>2016-05-01 00:00:00</td>\n",
       "      <td>1</td>\n",
       "      <td>6</td>\n",
       "      <td>17</td>\n",
       "    </tr>\n",
       "    <tr>\n",
       "      <th>794</th>\n",
       "      <td>2016-05-02 00:00:00</td>\n",
       "      <td>5</td>\n",
       "      <td>0</td>\n",
       "      <td>18</td>\n",
       "    </tr>\n",
       "    <tr>\n",
       "      <th>795</th>\n",
       "      <td>2016-05-07 00:00:00</td>\n",
       "      <td>1</td>\n",
       "      <td>5</td>\n",
       "      <td>18</td>\n",
       "    </tr>\n",
       "    <tr>\n",
       "      <th>796</th>\n",
       "      <td>2016-05-08 00:00:00</td>\n",
       "      <td>2</td>\n",
       "      <td>6</td>\n",
       "      <td>18</td>\n",
       "    </tr>\n",
       "    <tr>\n",
       "      <th>797</th>\n",
       "      <td>2016-05-10 00:00:00</td>\n",
       "      <td>1</td>\n",
       "      <td>1</td>\n",
       "      <td>19</td>\n",
       "    </tr>\n",
       "    <tr>\n",
       "      <th>798</th>\n",
       "      <td>2016-05-11 00:00:00</td>\n",
       "      <td>4</td>\n",
       "      <td>2</td>\n",
       "      <td>19</td>\n",
       "    </tr>\n",
       "    <tr>\n",
       "      <th>799</th>\n",
       "      <td>2016-05-15 00:00:00</td>\n",
       "      <td>2</td>\n",
       "      <td>6</td>\n",
       "      <td>19</td>\n",
       "    </tr>\n",
       "  </tbody>\n",
       "</table>\n",
       "</div>"
      ],
      "text/plain": [
       "                    date  days_to_next_match  dow  week\n",
       "778  2016-04-02 00:00:00                   1    5    13\n",
       "779  2016-04-03 00:00:00                   6    6    13\n",
       "780  2016-04-09 00:00:00                   1    5    14\n",
       "781  2016-04-10 00:00:00                   3    6    14\n",
       "782  2016-04-13 00:00:00                   3    2    15\n",
       "783  2016-04-16 00:00:00                   1    5    15\n",
       "784  2016-04-17 00:00:00                   1    6    15\n",
       "785  2016-04-18 00:00:00                   1    0    16\n",
       "786  2016-04-19 00:00:00                   1    1    16\n",
       "787  2016-04-20 00:00:00                   1    2    16\n",
       "788  2016-04-21 00:00:00                   2    3    16\n",
       "789  2016-04-23 00:00:00                   1    5    16\n",
       "790  2016-04-24 00:00:00                   1    6    16\n",
       "791  2016-04-25 00:00:00                   5    0    17\n",
       "792  2016-04-30 00:00:00                   1    5    17\n",
       "793  2016-05-01 00:00:00                   1    6    17\n",
       "794  2016-05-02 00:00:00                   5    0    18\n",
       "795  2016-05-07 00:00:00                   1    5    18\n",
       "796  2016-05-08 00:00:00                   2    6    18\n",
       "797  2016-05-10 00:00:00                   1    1    19\n",
       "798  2016-05-11 00:00:00                   4    2    19\n",
       "799  2016-05-15 00:00:00                   2    6    19"
      ]
     },
     "execution_count": 103,
     "metadata": {},
     "output_type": "execute_result"
    }
   ],
   "source": [
    "date_info.tail(22)"
   ]
  },
  {
   "cell_type": "code",
   "execution_count": 104,
   "metadata": {},
   "outputs": [],
   "source": [
    "val_dt = pd.datetime(2016, 4, 2)\n",
    "test_dt = pd.datetime(2016, 4, 23)\n",
    "\n",
    "baseline_data.date = pd.to_datetime(baseline_data.date)\n",
    "\n",
    "trn_data = baseline_data[baseline_data.date < val_dt]\n",
    "val_data = baseline_data[(baseline_data.date >= val_dt) & (baseline_data.date < test_dt)]\n",
    "test_data = baseline_data[baseline_data.date >= test_dt]"
   ]
  },
  {
   "cell_type": "code",
   "execution_count": 107,
   "metadata": {},
   "outputs": [
    {
     "data": {
      "text/plain": [
       "((2886, 56), (36, 56), (40, 56))"
      ]
     },
     "execution_count": 107,
     "metadata": {},
     "output_type": "execute_result"
    }
   ],
   "source": [
    "trn_data.shape, val_data.shape, test_data.shape"
   ]
  },
  {
   "cell_type": "code",
   "execution_count": 108,
   "metadata": {},
   "outputs": [
    {
     "data": {
      "text/plain": [
       "['home_player_1_overall_rating',\n",
       " 'home_player_2_overall_rating',\n",
       " 'home_player_3_overall_rating',\n",
       " 'home_player_4_overall_rating',\n",
       " 'home_player_5_overall_rating',\n",
       " 'home_player_6_overall_rating',\n",
       " 'home_player_7_overall_rating',\n",
       " 'home_player_8_overall_rating',\n",
       " 'home_player_9_overall_rating',\n",
       " 'home_player_10_overall_rating',\n",
       " 'home_player_11_overall_rating',\n",
       " 'away_player_1_overall_rating',\n",
       " 'away_player_2_overall_rating',\n",
       " 'away_player_3_overall_rating',\n",
       " 'away_player_4_overall_rating',\n",
       " 'away_player_5_overall_rating',\n",
       " 'away_player_6_overall_rating',\n",
       " 'away_player_7_overall_rating',\n",
       " 'away_player_8_overall_rating',\n",
       " 'away_player_9_overall_rating',\n",
       " 'away_player_10_overall_rating',\n",
       " 'away_player_11_overall_rating',\n",
       " 'match_api_id',\n",
       " 'home_home_win_ratio',\n",
       " 'home_home_lose_ratio',\n",
       " 'home_home_draw_ratio',\n",
       " 'home_away_win_ratio',\n",
       " 'home_away_lose_ratio',\n",
       " 'home_away_draw_ratio',\n",
       " 'home_all_win_ratio',\n",
       " 'home_all_lose_ratio',\n",
       " 'home_all_draw_ratio',\n",
       " 'away_home_win_ratio',\n",
       " 'away_home_lose_ratio',\n",
       " 'away_home_draw_ratio',\n",
       " 'away_away_win_ratio',\n",
       " 'away_away_lose_ratio',\n",
       " 'away_away_draw_ratio',\n",
       " 'away_all_win_ratio',\n",
       " 'away_all_lose_ratio',\n",
       " 'away_all_draw_ratio',\n",
       " 'matching_home_home_win_ratio',\n",
       " 'matching_home_home_lose_ratio',\n",
       " 'matching_home_home_draw_ratio',\n",
       " 'matching_home_away_win_ratio',\n",
       " 'matching_home_away_lose_ratio',\n",
       " 'matching_home_away_draw_ratio',\n",
       " 'matching_home_all_win_ratio',\n",
       " 'matching_home_all_lose_ratio',\n",
       " 'matching_home_all_draw_ratio',\n",
       " 'AWAY_WIN',\n",
       " 'HOME_WIN',\n",
       " 'DRAW',\n",
       " 'TOTAL_GOALS',\n",
       " 'date',\n",
       " 'match_outcome']"
      ]
     },
     "execution_count": 108,
     "metadata": {},
     "output_type": "execute_result"
    }
   ],
   "source": [
    "list(trn_data.columns)"
   ]
  },
  {
   "cell_type": "markdown",
   "metadata": {},
   "source": [
    "### Model"
   ]
  },
  {
   "cell_type": "code",
   "execution_count": 109,
   "metadata": {},
   "outputs": [],
   "source": [
    "import numpy as np"
   ]
  },
  {
   "cell_type": "code",
   "execution_count": 110,
   "metadata": {},
   "outputs": [
    {
     "data": {
      "text/plain": [
       "array([0.45495495, 0.25675676, 0.28828829])"
      ]
     },
     "execution_count": 110,
     "metadata": {},
     "output_type": "execute_result"
    }
   ],
   "source": [
    "np.array([sum(trn_data.HOME_WIN), sum(trn_data.DRAW), sum(trn_data.AWAY_WIN)]) / len(trn_data)"
   ]
  },
  {
   "cell_type": "code",
   "execution_count": 111,
   "metadata": {},
   "outputs": [
    {
     "data": {
      "text/plain": [
       "0.4444444444444444"
      ]
     },
     "execution_count": 111,
     "metadata": {},
     "output_type": "execute_result"
    }
   ],
   "source": [
    "# majority class model\n",
    "# performance acc: 0.45 - first baseline\n",
    "\n",
    "sum(val_data.HOME_WIN == 1) / len(val_data)"
   ]
  },
  {
   "cell_type": "markdown",
   "metadata": {},
   "source": [
    "### Random Forest"
   ]
  },
  {
   "cell_type": "code",
   "execution_count": 175,
   "metadata": {},
   "outputs": [],
   "source": [
    "from sklearn.metrics import *\n",
    "import rfpimp"
   ]
  },
  {
   "cell_type": "code",
   "execution_count": 113,
   "metadata": {},
   "outputs": [],
   "source": [
    "drops = ['AWAY_WIN','HOME_WIN', 'DRAW', 'TOTAL_GOALS','date', 'match_api_id', 'match_outcome']"
   ]
  },
  {
   "cell_type": "code",
   "execution_count": 146,
   "metadata": {},
   "outputs": [],
   "source": [
    "trn_X, trn_Y = trn_data.drop(drops, 1), trn_data.match_outcome\n",
    "val_X, val_Y = val_data.drop(drops, 1), val_data.match_outcome"
   ]
  },
  {
   "cell_type": "code",
   "execution_count": 147,
   "metadata": {},
   "outputs": [
    {
     "data": {
      "text/plain": [
       "((2886, 49), (2886,))"
      ]
     },
     "execution_count": 147,
     "metadata": {},
     "output_type": "execute_result"
    }
   ],
   "source": [
    "trn_X.shape, trn_Y.shape"
   ]
  },
  {
   "cell_type": "code",
   "execution_count": 148,
   "metadata": {},
   "outputs": [],
   "source": [
    "trn_X = trn_X.apply(lambda x: x.fillna(x.mean()))"
   ]
  },
  {
   "cell_type": "code",
   "execution_count": 112,
   "metadata": {},
   "outputs": [],
   "source": [
    "rf = RandomForestClassifier(n_estimators=40, max_depth=10, min_samples_leaf=5, oob_score=True)\n",
    "rf.fit(trn_X, trn_Y)\n",
    "rf.oob_score_"
   ]
  },
  {
   "cell_type": "code",
   "execution_count": 164,
   "metadata": {},
   "outputs": [],
   "source": [
    "# fillna by training means\n",
    "val_nas = col_nas(val_X) "
   ]
  },
  {
   "cell_type": "code",
   "execution_count": 165,
   "metadata": {},
   "outputs": [],
   "source": [
    "for c in val_nas:\n",
    "    if val_nas[c] > 0:\n",
    "        val_X[c] = val_X[c].fillna(trn_X[c].mean())"
   ]
  },
  {
   "cell_type": "code",
   "execution_count": 168,
   "metadata": {},
   "outputs": [],
   "source": [
    "val_preds = rf.predict(val_X)\n",
    "sum(val_preds == val_Y) / len(val_Y)"
   ]
  },
  {
   "cell_type": "markdown",
   "metadata": {},
   "source": [
    "### Seasonal Val"
   ]
  },
  {
   "cell_type": "code",
   "execution_count": 187,
   "metadata": {},
   "outputs": [],
   "source": [
    "season_end = ['2009-05-24 00:00:00', '2010-05-09 00:00:00',\n",
    "              '2011-05-22 00:00:00', '2012-05-13 00:00:00',\n",
    "              '2013-05-19 00:00:00', '2014-05-11 00:00:00',\n",
    "              '2015-05-24 00:00:00']\n",
    "### Taking last 7 unique dates from each season/ year\n",
    "\n",
    "unique_dates = pd.DataFrame(pd.DatetimeIndex(data = baseline_data.sort_values(by=['date']).date.unique()))\n",
    "date_diff = unique_dates.diff(periods=1).fillna(0)\n",
    "unique_dates2 = pd.concat([date_diff, unique_dates], axis=1)\n",
    "\n",
    "unique_dates2.columns = ['daydiff', 'date']\n",
    "unique_dates2['yr'] = unique_dates2.date.dt.year\n",
    "validation_dates = list(unique_dates2.groupby(by='yr').tail(7)['date'])\n",
    "validation_dates_str = [str(i) for i in validation_dates]\n",
    "\n",
    "baseline_validation = baseline_data[baseline_data.date.isin(validation_dates_str)]"
   ]
  },
  {
   "cell_type": "code",
   "execution_count": 190,
   "metadata": {},
   "outputs": [],
   "source": [
    "baseline_training = baseline_data[~baseline_data.index.isin(baseline_validation.index)]"
   ]
  },
  {
   "cell_type": "code",
   "execution_count": 193,
   "metadata": {},
   "outputs": [
    {
     "data": {
      "text/plain": [
       "((2709, 56), (253, 56), (2962, 56))"
      ]
     },
     "execution_count": 193,
     "metadata": {},
     "output_type": "execute_result"
    }
   ],
   "source": [
    "baseline_training.shape, baseline_validation.shape, baseline_data.shape"
   ]
  },
  {
   "cell_type": "code",
   "execution_count": 194,
   "metadata": {},
   "outputs": [],
   "source": [
    "val_X, val_Y = baseline_validation.drop(drops, 1), baseline_validation.match_outcome\n",
    "trn_X, trn_Y = baseline_training.drop(drops, 1), baseline_training.match_outcome"
   ]
  },
  {
   "cell_type": "code",
   "execution_count": 195,
   "metadata": {},
   "outputs": [],
   "source": [
    "# fillna with means\n",
    "trn_X = trn_X.apply(lambda x: x.fillna(x.mean()))\n",
    "\n",
    "for c in val_nas:\n",
    "    if val_nas[c] > 0:\n",
    "        val_X[c] = val_X[c].fillna(trn_X[c].mean())"
   ]
  },
  {
   "cell_type": "markdown",
   "metadata": {},
   "source": [
    "### Model"
   ]
  },
  {
   "cell_type": "code",
   "execution_count": 198,
   "metadata": {},
   "outputs": [],
   "source": [
    "from sklearn.metrics import *\n",
    "import rfpimp"
   ]
  },
  {
   "cell_type": "code",
   "execution_count": 253,
   "metadata": {},
   "outputs": [
    {
     "data": {
      "text/plain": [
       "0.5249169435215947"
      ]
     },
     "execution_count": 253,
     "metadata": {},
     "output_type": "execute_result"
    }
   ],
   "source": [
    "rf = RandomForestClassifier(n_estimators=100, max_depth=7, min_samples_leaf=10, oob_score=True)\n",
    "rf.fit(trn_X, trn_Y)\n",
    "rf.oob_score_"
   ]
  },
  {
   "cell_type": "code",
   "execution_count": 254,
   "metadata": {},
   "outputs": [
    {
     "data": {
      "text/plain": [
       "0.49407114624505927"
      ]
     },
     "execution_count": 254,
     "metadata": {},
     "output_type": "execute_result"
    }
   ],
   "source": [
    "val_preds = rf.predict(val_X)\n",
    "sum(val_preds == val_Y) / len(val_Y)"
   ]
  },
  {
   "cell_type": "code",
   "execution_count": 256,
   "metadata": {},
   "outputs": [],
   "source": [
    "imp = rfpimp.oob_importances(rf, trn_X, trn_Y)"
   ]
  },
  {
   "cell_type": "code",
   "execution_count": 269,
   "metadata": {},
   "outputs": [
    {
     "data": {
      "image/png": "[encoded data removed]",
      "text/plain": [
       "<Figure size 1080x1080 with 1 Axes>"
      ]
     },
     "metadata": {},
     "output_type": "display_data"
    }
   ],
   "source": [
    "rfpimp.plot_importances(imp, figsize=(15,15))"
   ]
  },
  {
   "cell_type": "code",
   "execution_count": null,
   "metadata": {},
   "outputs": [],
   "source": []
  }
 ],
 "metadata": {
  "kernelspec": {
   "display_name": "Python 3",
   "language": "python",
   "name": "python3"
  },
  "language_info": {
   "codemirror_mode": {
    "name": "ipython",
    "version": 3
   },
   "file_extension": ".py",
   "mimetype": "text/x-python",
   "name": "python",
   "nbconvert_exporter": "python",
   "pygments_lexer": "ipython3",
   "version": "3.6.4"
  }
 },
 "nbformat": 4,
 "nbformat_minor": 2
}
